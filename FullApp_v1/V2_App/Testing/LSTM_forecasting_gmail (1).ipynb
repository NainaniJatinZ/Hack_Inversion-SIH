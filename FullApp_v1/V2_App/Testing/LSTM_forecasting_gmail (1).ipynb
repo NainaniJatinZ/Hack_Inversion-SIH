{
  "cells": [
    {
      "cell_type": "code",
      "execution_count": 20,
      "metadata": {
        "id": "s4JfD8ijgxgS"
      },
      "outputs": [],
      "source": [
        "import numpy as np\n",
        "from keras.models import Sequential\n",
        "from keras.layers import LSTM\n",
        "from keras.layers import Dense\n",
        "from keras.layers import RepeatVector\n",
        "from keras.layers import TimeDistributed\n",
        "import pandas as pd\n",
        "import numpy as np\n",
        "import tensorflow as tf\n",
        "import matplotlib.pyplot as plt\n",
        "import matplotlib.dates as mdates\n",
        "import datetime as dt\n",
        "from matplotlib.pyplot import figure\n",
        "import pandas as pd\n",
        "# import yfinance\n",
        "# from mpl_finance import candlestick_ohlc\n",
        "import time\n",
        "from datetime import datetime\n",
        "import math\n",
        "from sklearn.metrics import mean_absolute_error\n",
        "from sklearn.preprocessing import MinMaxScaler"
      ]
    },
    {
      "cell_type": "code",
      "execution_count": 21,
      "metadata": {
        "colab": {
          "base_uri": "https://localhost:8080/"
        },
        "id": "DYFUT8RmrTSq",
        "outputId": "bbe80516-c25a-47bc-88ee-9f72820656b9"
      },
      "outputs": [
        {
          "ename": "ModuleNotFoundError",
          "evalue": "No module named 'google.colab'",
          "output_type": "error",
          "traceback": [
            "\u001b[0;31m---------------------------------------------------------------------------\u001b[0m",
            "\u001b[0;31mModuleNotFoundError\u001b[0m                       Traceback (most recent call last)",
            "\u001b[1;32m/Users/anishpawar/dev/SIH/Repo/Hack_Inversion-SIH/FullApp_v1/V2_App/Testing/LSTM_forecasting_gmail (1).ipynb Cell 2'\u001b[0m in \u001b[0;36m<module>\u001b[0;34m\u001b[0m\n\u001b[0;32m----> <a href='vscode-notebook-cell:/Users/anishpawar/dev/SIH/Repo/Hack_Inversion-SIH/FullApp_v1/V2_App/Testing/LSTM_forecasting_gmail%20%281%29.ipynb#ch0000001?line=0'>1</a>\u001b[0m \u001b[39mfrom\u001b[39;00m \u001b[39mgoogle\u001b[39;00m\u001b[39m.\u001b[39;00m\u001b[39mcolab\u001b[39;00m \u001b[39mimport\u001b[39;00m drive\n\u001b[1;32m      <a href='vscode-notebook-cell:/Users/anishpawar/dev/SIH/Repo/Hack_Inversion-SIH/FullApp_v1/V2_App/Testing/LSTM_forecasting_gmail%20%281%29.ipynb#ch0000001?line=1'>2</a>\u001b[0m drive\u001b[39m.\u001b[39mmount(\u001b[39m'\u001b[39m\u001b[39m/content/drive\u001b[39m\u001b[39m'\u001b[39m)\n",
            "\u001b[0;31mModuleNotFoundError\u001b[0m: No module named 'google.colab'"
          ]
        }
      ],
      "source": [
        "from google.colab import drive\n",
        "drive.mount('/content/drive')"
      ]
    },
    {
      "cell_type": "markdown",
      "metadata": {
        "id": "ap3o6hl-gs87"
      },
      "source": [
        "## Univariate"
      ]
    },
    {
      "cell_type": "code",
      "execution_count": null,
      "metadata": {
        "id": "6qjZ3HsDgsi6"
      },
      "outputs": [],
      "source": [
        "def split_sequence(sequence, n_steps):\n",
        "\tX, y = list(), list()\n",
        "\tfor i in range(len(sequence)):\n",
        "\t\t# find the end of this pattern\n",
        "\t\tend_ix = i + n_steps\n",
        "\t\t# check if we are beyond the sequence\n",
        "\t\tif end_ix > len(sequence)-1:\n",
        "\t\t\tbreak\n",
        "\t\t# gather input and output parts of the pattern\n",
        "\t\tseq_x, seq_y = sequence[i:end_ix], sequence[end_ix]\n",
        "\t\tX.append(seq_x)\n",
        "\t\ty.append(seq_y)\n",
        "\treturn array(X), array(y)"
      ]
    },
    {
      "cell_type": "code",
      "execution_count": null,
      "metadata": {
        "id": "cxIfvEwMgnEu"
      },
      "outputs": [],
      "source": [
        "n_steps = 4\n",
        "# split into samples\n",
        "X, y = split_sequence(raw_seq, n_steps)\n",
        "# reshape from [samples, timesteps] into [samples, subsequences, timesteps, features]\n",
        "n_features = 1\n",
        "n_seq = 2\n",
        "n_steps = 2\n",
        "X = X.reshape((X.shape[0], n_seq, n_steps, n_features))\n",
        "# define model\n",
        "model = Sequential()\n",
        "model.add(TimeDistributed(Conv1D(filters=64, kernel_size=1, activation='relu'), input_shape=(None, n_steps, n_features)))\n",
        "model.add(TimeDistributed(MaxPooling1D(pool_size=2)))\n",
        "model.add(TimeDistributed(Flatten()))\n",
        "model.add(LSTM(50, activation='relu'))\n",
        "model.add(Dense(1))\n",
        "model.compile(optimizer='adam', loss='mse')"
      ]
    },
    {
      "cell_type": "code",
      "execution_count": null,
      "metadata": {
        "id": "fyESSJVGib0t"
      },
      "outputs": [],
      "source": [
        "X, y = split_sequence(raw_seq, n_steps)\n",
        "# reshape from [samples, timesteps] into [samples, timesteps, rows, columns, features]\n",
        "n_features = 1\n",
        "n_seq = 2\n",
        "n_steps = 2\n",
        "X = X.reshape((X.shape[0], n_seq, 1, n_steps, n_features))\n",
        "# define model\n",
        "model = Sequential()\n",
        "model.add(ConvLSTM2D(filters=64, kernel_size=(1,2), activation='relu', input_shape=(n_seq, 1, n_steps, n_features)))\n",
        "model.add(Flatten())\n",
        "model.add(Dense(1))\n",
        "model.compile(optimizer='adam', loss='mse')\n",
        "# fit model\n",
        "model.fit(X, y, epochs=500, verbose=0)"
      ]
    },
    {
      "cell_type": "markdown",
      "metadata": {
        "id": "c82sUgBdguvh"
      },
      "source": [
        "## Multivariate"
      ]
    },
    {
      "cell_type": "code",
      "execution_count": null,
      "metadata": {
        "id": "SiVOJmsJgw4x"
      },
      "outputs": [],
      "source": [
        "def split_sequences(sequences, n_steps):\n",
        "\tX, y = list(), list()\n",
        "\tfor i in range(len(sequences)):\n",
        "\t\t# find the end of this pattern\n",
        "\t\tend_ix = i + n_steps\n",
        "\t\t# check if we are beyond the dataset\n",
        "\t\tif end_ix > len(sequences):\n",
        "\t\t\tbreak\n",
        "\t\t# gather input and output parts of the pattern\n",
        "\t\tseq_x, seq_y = sequences[i:end_ix, :-1], sequences[end_ix-1, -1]\n",
        "\t\tX.append(seq_x)\n",
        "\t\ty.append(seq_y)\n",
        "\treturn array(X), array(y)"
      ]
    },
    {
      "cell_type": "code",
      "execution_count": null,
      "metadata": {
        "id": "4tsIVsiSlUuf"
      },
      "outputs": [],
      "source": [
        "n_steps = 3\n",
        "# convert into input/output\n",
        "X, y = split_sequences(dataset, n_steps)\n",
        "# the dataset knows the number of features, e.g. 2\n",
        "n_features = X.shape[2]\n",
        "# define model\n",
        "model = Sequential()\n",
        "model.add(LSTM(50, activation='relu', input_shape=(n_steps, n_features)))\n",
        "model.add(Dense(1))\n",
        "model.compile(optimizer='adam', loss='mse')\n",
        "# fit model\n",
        "model.fit(X, y, epochs=200, verbose=0)"
      ]
    },
    {
      "cell_type": "markdown",
      "metadata": {
        "id": "KvdDMQc8nsbk"
      },
      "source": [
        "## Multi Step "
      ]
    },
    {
      "cell_type": "code",
      "execution_count": null,
      "metadata": {
        "id": "1506YUOhnr5F"
      },
      "outputs": [],
      "source": [
        "# split a univariate sequence into samples\n",
        "def split_sequence(sequence, n_steps_in, n_steps_out):\n",
        "\tX, y = list(), list()\n",
        "\tfor i in range(len(sequence)):\n",
        "\t\t# find the end of this pattern\n",
        "\t\tend_ix = i + n_steps_in\n",
        "\t\tout_end_ix = end_ix + n_steps_out\n",
        "\t\t# check if we are beyond the sequence\n",
        "\t\tif out_end_ix > len(sequence):\n",
        "\t\t\tbreak\n",
        "\t\t# gather input and output parts of the pattern\n",
        "\t\tseq_x, seq_y = sequence[i:end_ix], sequence[end_ix:out_end_ix]\n",
        "\t\tX.append(seq_x)\n",
        "\t\ty.append(seq_y)\n",
        "\treturn np.array(X), np.array(y)"
      ]
    },
    {
      "cell_type": "code",
      "execution_count": null,
      "metadata": {
        "id": "1YV_mHOCn5rc"
      },
      "outputs": [],
      "source": [
        "n_features = 1\n",
        "X = X.reshape((X.shape[0], X.shape[1], n_features))\n",
        "model = Sequential()\n",
        "model.add(LSTM(100, activation='relu', return_sequences=True, input_shape=(n_steps_in, n_features)))\n",
        "model.add(LSTM(100, activation='relu'))\n",
        "model.add(Dense(n_steps_out))\n",
        "model.compile(optimizer='adam', loss='mse')"
      ]
    },
    {
      "cell_type": "code",
      "execution_count": null,
      "metadata": {
        "id": "BM6lweWFqjn4"
      },
      "outputs": [],
      "source": [
        "# encoder decoder \n",
        "model = Sequential()\n",
        "model.add(LSTM(100, activation='relu', input_shape=(n_steps_in, n_features)))\n",
        "model.add(RepeatVector(n_steps_out))\n",
        "model.add(LSTM(100, activation='relu', return_sequences=True))\n",
        "model.add(TimeDistributed(Dense(1)))\n",
        "model.compile(optimizer='adam', loss='mse')\n",
        "# fit model\n",
        "model.fit(X, y, epochs=100, verbose=0)"
      ]
    },
    {
      "cell_type": "markdown",
      "metadata": {
        "id": "WdT7DZV9IL9Z"
      },
      "source": [
        "## Prep"
      ]
    },
    {
      "cell_type": "code",
      "execution_count": 22,
      "metadata": {
        "colab": {
          "base_uri": "https://localhost:8080/",
          "height": 206
        },
        "id": "scs3ps_JIUc7",
        "outputId": "8b7588cc-6c9c-481a-b35e-8baf7922dd18"
      },
      "outputs": [
        {
          "data": {
            "text/html": [
              "<div>\n",
              "<style scoped>\n",
              "    .dataframe tbody tr th:only-of-type {\n",
              "        vertical-align: middle;\n",
              "    }\n",
              "\n",
              "    .dataframe tbody tr th {\n",
              "        vertical-align: top;\n",
              "    }\n",
              "\n",
              "    .dataframe thead th {\n",
              "        text-align: right;\n",
              "    }\n",
              "</style>\n",
              "<table border=\"1\" class=\"dataframe\">\n",
              "  <thead>\n",
              "    <tr style=\"text-align: right;\">\n",
              "      <th></th>\n",
              "      <th>Unnamed: 0</th>\n",
              "      <th>Date</th>\n",
              "      <th>Close</th>\n",
              "      <th>Volume</th>\n",
              "      <th>Open</th>\n",
              "      <th>High</th>\n",
              "      <th>Low</th>\n",
              "      <th>SMA</th>\n",
              "      <th>EMA</th>\n",
              "      <th>MACD</th>\n",
              "      <th>DateTime</th>\n",
              "      <th>Custom</th>\n",
              "    </tr>\n",
              "  </thead>\n",
              "  <tbody>\n",
              "    <tr>\n",
              "      <th>0</th>\n",
              "      <td>0</td>\n",
              "      <td>2012-03-12</td>\n",
              "      <td>2.269</td>\n",
              "      <td>82299.0</td>\n",
              "      <td>2.272</td>\n",
              "      <td>2.289</td>\n",
              "      <td>2.235</td>\n",
              "      <td>0.0</td>\n",
              "      <td>0.0</td>\n",
              "      <td>0.0</td>\n",
              "      <td>2012-03-12</td>\n",
              "      <td>100.0</td>\n",
              "    </tr>\n",
              "    <tr>\n",
              "      <th>1</th>\n",
              "      <td>1</td>\n",
              "      <td>2012-03-13</td>\n",
              "      <td>2.299</td>\n",
              "      <td>114622.0</td>\n",
              "      <td>2.270</td>\n",
              "      <td>2.338</td>\n",
              "      <td>2.207</td>\n",
              "      <td>0.0</td>\n",
              "      <td>0.0</td>\n",
              "      <td>0.0</td>\n",
              "      <td>2012-03-13</td>\n",
              "      <td>100.0</td>\n",
              "    </tr>\n",
              "    <tr>\n",
              "      <th>2</th>\n",
              "      <td>2</td>\n",
              "      <td>2012-03-14</td>\n",
              "      <td>2.284</td>\n",
              "      <td>120435.0</td>\n",
              "      <td>2.329</td>\n",
              "      <td>2.343</td>\n",
              "      <td>2.248</td>\n",
              "      <td>0.0</td>\n",
              "      <td>0.0</td>\n",
              "      <td>0.0</td>\n",
              "      <td>2012-03-14</td>\n",
              "      <td>100.0</td>\n",
              "    </tr>\n",
              "    <tr>\n",
              "      <th>3</th>\n",
              "      <td>3</td>\n",
              "      <td>2012-03-15</td>\n",
              "      <td>2.279</td>\n",
              "      <td>117788.0</td>\n",
              "      <td>2.275</td>\n",
              "      <td>2.331</td>\n",
              "      <td>2.234</td>\n",
              "      <td>0.0</td>\n",
              "      <td>0.0</td>\n",
              "      <td>0.0</td>\n",
              "      <td>2012-03-15</td>\n",
              "      <td>100.0</td>\n",
              "    </tr>\n",
              "    <tr>\n",
              "      <th>4</th>\n",
              "      <td>4</td>\n",
              "      <td>2012-03-16</td>\n",
              "      <td>2.326</td>\n",
              "      <td>112037.0</td>\n",
              "      <td>2.267</td>\n",
              "      <td>2.349</td>\n",
              "      <td>2.247</td>\n",
              "      <td>0.0</td>\n",
              "      <td>0.0</td>\n",
              "      <td>0.0</td>\n",
              "      <td>2012-03-16</td>\n",
              "      <td>100.0</td>\n",
              "    </tr>\n",
              "  </tbody>\n",
              "</table>\n",
              "</div>"
            ],
            "text/plain": [
              "   Unnamed: 0        Date  Close    Volume   Open   High    Low  SMA  EMA  \\\n",
              "0           0  2012-03-12  2.269   82299.0  2.272  2.289  2.235  0.0  0.0   \n",
              "1           1  2012-03-13  2.299  114622.0  2.270  2.338  2.207  0.0  0.0   \n",
              "2           2  2012-03-14  2.284  120435.0  2.329  2.343  2.248  0.0  0.0   \n",
              "3           3  2012-03-15  2.279  117788.0  2.275  2.331  2.234  0.0  0.0   \n",
              "4           4  2012-03-16  2.326  112037.0  2.267  2.349  2.247  0.0  0.0   \n",
              "\n",
              "   MACD    DateTime  Custom  \n",
              "0   0.0  2012-03-12   100.0  \n",
              "1   0.0  2012-03-13   100.0  \n",
              "2   0.0  2012-03-14   100.0  \n",
              "3   0.0  2012-03-15   100.0  \n",
              "4   0.0  2012-03-16   100.0  "
            ]
          },
          "execution_count": 22,
          "metadata": {},
          "output_type": "execute_result"
        }
      ],
      "source": [
        "data = pd.read_csv('/Users/anishpawar/dev/SIH/Repo/Hack_Inversion-SIH/FullApp_v1/V2_App/receivedCSV/nymex_4ind.csv')\n",
        "data.head()"
      ]
    },
    {
      "cell_type": "code",
      "execution_count": 23,
      "metadata": {
        "colab": {
          "base_uri": "https://localhost:8080/",
          "height": 206
        },
        "id": "UYSn4hVSIUgE",
        "outputId": "9dc5c5fb-2fe4-43be-c62b-7f0431d4367b"
      },
      "outputs": [
        {
          "data": {
            "text/html": [
              "<div>\n",
              "<style scoped>\n",
              "    .dataframe tbody tr th:only-of-type {\n",
              "        vertical-align: middle;\n",
              "    }\n",
              "\n",
              "    .dataframe tbody tr th {\n",
              "        vertical-align: top;\n",
              "    }\n",
              "\n",
              "    .dataframe thead th {\n",
              "        text-align: right;\n",
              "    }\n",
              "</style>\n",
              "<table border=\"1\" class=\"dataframe\">\n",
              "  <thead>\n",
              "    <tr style=\"text-align: right;\">\n",
              "      <th></th>\n",
              "      <th>Close</th>\n",
              "      <th>Volume</th>\n",
              "      <th>SMA</th>\n",
              "      <th>EMA</th>\n",
              "      <th>MACD</th>\n",
              "      <th>Custom</th>\n",
              "    </tr>\n",
              "  </thead>\n",
              "  <tbody>\n",
              "    <tr>\n",
              "      <th>0</th>\n",
              "      <td>2.269</td>\n",
              "      <td>82299.0</td>\n",
              "      <td>0.0</td>\n",
              "      <td>0.0</td>\n",
              "      <td>0.0</td>\n",
              "      <td>100.0</td>\n",
              "    </tr>\n",
              "    <tr>\n",
              "      <th>1</th>\n",
              "      <td>2.299</td>\n",
              "      <td>114622.0</td>\n",
              "      <td>0.0</td>\n",
              "      <td>0.0</td>\n",
              "      <td>0.0</td>\n",
              "      <td>100.0</td>\n",
              "    </tr>\n",
              "    <tr>\n",
              "      <th>2</th>\n",
              "      <td>2.284</td>\n",
              "      <td>120435.0</td>\n",
              "      <td>0.0</td>\n",
              "      <td>0.0</td>\n",
              "      <td>0.0</td>\n",
              "      <td>100.0</td>\n",
              "    </tr>\n",
              "    <tr>\n",
              "      <th>3</th>\n",
              "      <td>2.279</td>\n",
              "      <td>117788.0</td>\n",
              "      <td>0.0</td>\n",
              "      <td>0.0</td>\n",
              "      <td>0.0</td>\n",
              "      <td>100.0</td>\n",
              "    </tr>\n",
              "    <tr>\n",
              "      <th>4</th>\n",
              "      <td>2.326</td>\n",
              "      <td>112037.0</td>\n",
              "      <td>0.0</td>\n",
              "      <td>0.0</td>\n",
              "      <td>0.0</td>\n",
              "      <td>100.0</td>\n",
              "    </tr>\n",
              "  </tbody>\n",
              "</table>\n",
              "</div>"
            ],
            "text/plain": [
              "   Close    Volume  SMA  EMA  MACD  Custom\n",
              "0  2.269   82299.0  0.0  0.0   0.0   100.0\n",
              "1  2.299  114622.0  0.0  0.0   0.0   100.0\n",
              "2  2.284  120435.0  0.0  0.0   0.0   100.0\n",
              "3  2.279  117788.0  0.0  0.0   0.0   100.0\n",
              "4  2.326  112037.0  0.0  0.0   0.0   100.0"
            ]
          },
          "execution_count": 23,
          "metadata": {},
          "output_type": "execute_result"
        }
      ],
      "source": [
        "data = data.drop(columns = ['Unnamed: 0'])\n",
        "data = data.drop(columns = ['Date'])\n",
        "data = data.drop(columns = ['Open'])\n",
        "data = data.drop(columns = ['High'])\n",
        "data = data.drop(columns = ['Low'])\n",
        "data = data.drop(columns = ['DateTime'])\n",
        "data.head()"
      ]
    },
    {
      "cell_type": "code",
      "execution_count": 24,
      "metadata": {
        "colab": {
          "base_uri": "https://localhost:8080/"
        },
        "id": "lEpvCjGIIUjL",
        "outputId": "9ba3651b-6296-4974-d6d8-7e86c0cbfbaa"
      },
      "outputs": [
        {
          "data": {
            "text/plain": [
              "Close     0\n",
              "Volume    0\n",
              "SMA       0\n",
              "EMA       0\n",
              "MACD      0\n",
              "Custom    0\n",
              "dtype: int64"
            ]
          },
          "execution_count": 24,
          "metadata": {},
          "output_type": "execute_result"
        }
      ],
      "source": [
        "data = data.fillna(data.mean())\n",
        "data.isna().sum()"
      ]
    },
    {
      "cell_type": "code",
      "execution_count": 25,
      "metadata": {
        "colab": {
          "base_uri": "https://localhost:8080/",
          "height": 224
        },
        "id": "RisdJyPIIUmn",
        "outputId": "c7484e66-1040-4736-c121-b84fd6776edf"
      },
      "outputs": [
        {
          "name": "stdout",
          "output_type": "stream",
          "text": [
            "(2373, 6)\n"
          ]
        },
        {
          "data": {
            "text/html": [
              "<div>\n",
              "<style scoped>\n",
              "    .dataframe tbody tr th:only-of-type {\n",
              "        vertical-align: middle;\n",
              "    }\n",
              "\n",
              "    .dataframe tbody tr th {\n",
              "        vertical-align: top;\n",
              "    }\n",
              "\n",
              "    .dataframe thead th {\n",
              "        text-align: right;\n",
              "    }\n",
              "</style>\n",
              "<table border=\"1\" class=\"dataframe\">\n",
              "  <thead>\n",
              "    <tr style=\"text-align: right;\">\n",
              "      <th></th>\n",
              "      <th>Close</th>\n",
              "      <th>Volume</th>\n",
              "      <th>SMA</th>\n",
              "      <th>EMA</th>\n",
              "      <th>MACD</th>\n",
              "      <th>Custom</th>\n",
              "    </tr>\n",
              "  </thead>\n",
              "  <tbody>\n",
              "    <tr>\n",
              "      <th>181</th>\n",
              "      <td>3.832</td>\n",
              "      <td>80570.000000</td>\n",
              "      <td>2.941027</td>\n",
              "      <td>2.973668</td>\n",
              "      <td>0.467012</td>\n",
              "      <td>88.726702</td>\n",
              "    </tr>\n",
              "    <tr>\n",
              "      <th>182</th>\n",
              "      <td>3.903</td>\n",
              "      <td>123661.000000</td>\n",
              "      <td>2.952034</td>\n",
              "      <td>2.986227</td>\n",
              "      <td>0.470099</td>\n",
              "      <td>90.110506</td>\n",
              "    </tr>\n",
              "    <tr>\n",
              "      <th>183</th>\n",
              "      <td>3.903</td>\n",
              "      <td>121511.051917</td>\n",
              "      <td>2.962456</td>\n",
              "      <td>2.998615</td>\n",
              "      <td>0.472959</td>\n",
              "      <td>90.072518</td>\n",
              "    </tr>\n",
              "    <tr>\n",
              "      <th>184</th>\n",
              "      <td>3.901</td>\n",
              "      <td>49151.000000</td>\n",
              "      <td>2.973667</td>\n",
              "      <td>3.010810</td>\n",
              "      <td>0.475574</td>\n",
              "      <td>90.028429</td>\n",
              "    </tr>\n",
              "    <tr>\n",
              "      <th>185</th>\n",
              "      <td>3.730</td>\n",
              "      <td>77693.000000</td>\n",
              "      <td>2.983122</td>\n",
              "      <td>3.020529</td>\n",
              "      <td>0.475823</td>\n",
              "      <td>72.773162</td>\n",
              "    </tr>\n",
              "  </tbody>\n",
              "</table>\n",
              "</div>"
            ],
            "text/plain": [
              "     Close         Volume       SMA       EMA      MACD     Custom\n",
              "181  3.832   80570.000000  2.941027  2.973668  0.467012  88.726702\n",
              "182  3.903  123661.000000  2.952034  2.986227  0.470099  90.110506\n",
              "183  3.903  121511.051917  2.962456  2.998615  0.472959  90.072518\n",
              "184  3.901   49151.000000  2.973667  3.010810  0.475574  90.028429\n",
              "185  3.730   77693.000000  2.983122  3.020529  0.475823  72.773162"
            ]
          },
          "execution_count": 25,
          "metadata": {},
          "output_type": "execute_result"
        }
      ],
      "source": [
        "data = data[181:]\n",
        "print(data.shape)\n",
        "data.head()"
      ]
    },
    {
      "cell_type": "code",
      "execution_count": 26,
      "metadata": {
        "id": "_URHfLOKIUpg"
      },
      "outputs": [],
      "source": [
        "train_df,test_df = data[:1661], data[1661:] "
      ]
    },
    {
      "cell_type": "code",
      "execution_count": 27,
      "metadata": {
        "id": "AbHiRi0aIUso"
      },
      "outputs": [],
      "source": [
        "train_df=train_df.reset_index()\n",
        "test_df=test_df.reset_index()"
      ]
    },
    {
      "cell_type": "code",
      "execution_count": 28,
      "metadata": {
        "id": "-Y9dFe5xIUvX"
      },
      "outputs": [],
      "source": [
        "train_df = train_df.drop(columns= ['index'])\n",
        "test_df = test_df.drop(columns= ['index'])"
      ]
    },
    {
      "cell_type": "code",
      "execution_count": 29,
      "metadata": {
        "id": "fOblBbXSIUyk"
      },
      "outputs": [],
      "source": [
        "train = train_df\n",
        "scaler = MinMaxScaler(feature_range=(-4,4))\n",
        "s_s = scaler.fit_transform(train['Volume'].values.reshape(-1,1))\n",
        "s_s=np.reshape(s_s,len(s_s))\n",
        "train['Volume']=s_s\n",
        "test = test_df\n",
        "s_s = scaler.transform(test['Volume'].values.reshape(-1,1))\n",
        "s_s=np.reshape(s_s,len(s_s))\n",
        "test['Volume']=s_s"
      ]
    },
    {
      "cell_type": "code",
      "execution_count": 30,
      "metadata": {
        "id": "f27LF70wIU1i"
      },
      "outputs": [],
      "source": [
        "def split_series(series, n_past, n_future):\n",
        "  X, y = list(), list()\n",
        "  for window_start in range(len(series)):\n",
        "    past_end = window_start + n_past\n",
        "    future_end = past_end + n_future\n",
        "    if future_end > len(series):\n",
        "      break\n",
        "    # slicing the past and future parts of the window\n",
        "    past, future = series[window_start:past_end, :], series[past_end:future_end, :]\n",
        "    X.append(past)\n",
        "    y.append(future)\n",
        "  return np.array(X), np.array(y)"
      ]
    },
    {
      "cell_type": "code",
      "execution_count": 31,
      "metadata": {
        "id": "8C1hpJh9IU5R"
      },
      "outputs": [],
      "source": [
        "n_past = 50\n",
        "n_future = 30\n",
        "n_features = 6"
      ]
    },
    {
      "cell_type": "code",
      "execution_count": 32,
      "metadata": {
        "id": "nE2NL8NMIVRq"
      },
      "outputs": [],
      "source": [
        "X_train, y_train = split_series(train.values,n_past, n_future)"
      ]
    },
    {
      "cell_type": "code",
      "execution_count": 33,
      "metadata": {
        "id": "wGRxDD18IVU3"
      },
      "outputs": [],
      "source": [
        "X_train = X_train.reshape((X_train.shape[0], X_train.shape[1], n_features))\n",
        "y_train = y_train.reshape((y_train.shape[0], y_train.shape[1], n_features))\n",
        "X_test, y_test = split_series(test.values,n_past, n_future)\n",
        "X_test = X_test.reshape((X_test.shape[0], X_test.shape[1],n_features))\n",
        "y_test = y_test.reshape((y_test.shape[0], y_test.shape[1], n_features))"
      ]
    },
    {
      "cell_type": "code",
      "execution_count": 34,
      "metadata": {
        "colab": {
          "base_uri": "https://localhost:8080/"
        },
        "id": "F5OAoqz9JGfH",
        "outputId": "fef0fffc-447c-406f-ab35-b697d151a75c"
      },
      "outputs": [
        {
          "data": {
            "text/plain": [
              "(1582, 50, 6)"
            ]
          },
          "execution_count": 34,
          "metadata": {},
          "output_type": "execute_result"
        }
      ],
      "source": [
        "X_train.shape"
      ]
    },
    {
      "cell_type": "code",
      "execution_count": 35,
      "metadata": {
        "colab": {
          "base_uri": "https://localhost:8080/"
        },
        "id": "fkJ_xvZoJGYk",
        "outputId": "824fef28-6ad1-465b-9ac8-c4ca3efe2917"
      },
      "outputs": [
        {
          "data": {
            "text/plain": [
              "(1582, 30, 6)"
            ]
          },
          "execution_count": 35,
          "metadata": {},
          "output_type": "execute_result"
        }
      ],
      "source": [
        "y_train.shape"
      ]
    },
    {
      "cell_type": "code",
      "execution_count": 36,
      "metadata": {
        "colab": {
          "base_uri": "https://localhost:8080/"
        },
        "id": "YI0QM9oiJGTY",
        "outputId": "c677d868-8f7a-4536-abda-8936176e3a4c"
      },
      "outputs": [
        {
          "data": {
            "text/plain": [
              "(633, 50, 6)"
            ]
          },
          "execution_count": 36,
          "metadata": {},
          "output_type": "execute_result"
        }
      ],
      "source": [
        "X_test.shape"
      ]
    },
    {
      "cell_type": "code",
      "execution_count": 37,
      "metadata": {
        "colab": {
          "base_uri": "https://localhost:8080/"
        },
        "id": "fnHAYrNLJJfC",
        "outputId": "49224e7f-bc3b-46c3-e4ac-ff4845f43ce5"
      },
      "outputs": [
        {
          "data": {
            "text/plain": [
              "(633, 30, 6)"
            ]
          },
          "execution_count": 37,
          "metadata": {},
          "output_type": "execute_result"
        }
      ],
      "source": [
        "y_test.shape"
      ]
    },
    {
      "cell_type": "markdown",
      "metadata": {
        "id": "5HshgHy4KFsd"
      },
      "source": [
        "## 1 enc 1 dec"
      ]
    },
    {
      "cell_type": "code",
      "execution_count": null,
      "metadata": {
        "id": "oazz-K6uKP3o"
      },
      "outputs": [],
      "source": [
        "# E1D1\n",
        "# n_features ==> no of features at each timestep in the data.\n",
        "#\n",
        "encoder_inputs = tf.keras.layers.Input(shape=(n_past, n_features))\n",
        "encoder_l1 = tf.keras.layers.LSTM(70, return_state=True)\n",
        "encoder_outputs1 = encoder_l1(encoder_inputs)\n",
        "\n",
        "encoder_states1 = encoder_outputs1[1:]\n",
        "\n",
        "\n",
        "decoder_inputs = tf.keras.layers.RepeatVector(n_future)(encoder_outputs1[0])\n",
        "\n",
        "\n",
        "decoder_l1 = tf.keras.layers.LSTM(70, return_sequences=True)(decoder_inputs,initial_state = encoder_states1)\n",
        "decoder_outputs1 = tf.keras.layers.TimeDistributed(tf.keras.layers.Dense(n_features))(decoder_l1)\n",
        "\n",
        "\n",
        "model_e1d1 = tf.keras.models.Model(encoder_inputs,decoder_outputs1)\n",
        "\n",
        "\n",
        "model_e1d1.summary()"
      ]
    },
    {
      "cell_type": "code",
      "execution_count": null,
      "metadata": {
        "id": "NIXCn3a9KP0i"
      },
      "outputs": [],
      "source": [
        "# reduce_lr = tf.keras.callbacks.LearningRateScheduler(lambda x: 1e-3 * 0.90 ** x)\n",
        "model_e1d1.compile(optimizer=tf.keras.optimizers.Adam(), loss=tf.keras.losses.Huber())\n",
        "history_e2d2=model_e1d1.fit(X_train,y_train,epochs=100,validation_data=(X_test,y_test),batch_size=32,verbose=1)"
      ]
    },
    {
      "cell_type": "code",
      "execution_count": null,
      "metadata": {
        "id": "AKEZQCOEKPv6"
      },
      "outputs": [],
      "source": [
        "init_test = np.expand_dims(X_test[0], axis=0)\n",
        "for i in range(100):\n",
        "  pred_init = model_e1d1.predict(init_test[:,-10:,:])\n",
        "  init_test = np.concatenate((init_test, pred_init), axis = 1)\n"
      ]
    },
    {
      "cell_type": "code",
      "execution_count": null,
      "metadata": {
        "id": "t_vG_zy9KPs9"
      },
      "outputs": [],
      "source": [
        "#MSE\n",
        "y_god = np.expand_dims(y_test[:550, 0, 0], axis=0)\n",
        "pred_god = init_test[:, :, 0]\n",
        "mean_absolute_error(y_god, pred_god)"
      ]
    },
    {
      "cell_type": "code",
      "execution_count": null,
      "metadata": {
        "id": "fPXcQK0BKPqQ"
      },
      "outputs": [],
      "source": [
        "test_index = []\n",
        "for i in range(1661, 2211):\n",
        "  test_index.append(i)"
      ]
    },
    {
      "cell_type": "code",
      "execution_count": null,
      "metadata": {
        "id": "drqc0Z9BKPnh"
      },
      "outputs": [],
      "source": [
        "fc = pd.Series(y_god[0], index=test_index)\n",
        "fc1 = pd.Series(pred_god[0], index=test_index)\n",
        "\n",
        "plt.figure(figsize=(12,5), dpi=100)\n",
        "plt.plot(train['Close'])\n",
        "plt.plot(fc1)\n",
        "plt.plot(fc)\n",
        "plt.show()"
      ]
    },
    {
      "cell_type": "markdown",
      "metadata": {
        "id": "UAd8tpQDwZ_9"
      },
      "source": [
        "## 2enc 2dec"
      ]
    },
    {
      "cell_type": "code",
      "execution_count": null,
      "metadata": {
        "colab": {
          "base_uri": "https://localhost:8080/"
        },
        "id": "6XztTxUnAGFd",
        "outputId": "79e6d57c-076e-488c-e9e8-14435d8b8b05"
      },
      "outputs": [
        {
          "name": "stdout",
          "output_type": "stream",
          "text": [
            "Model: \"model_4\"\n",
            "__________________________________________________________________________________________________\n",
            " Layer (type)                   Output Shape         Param #     Connected to                     \n",
            "==================================================================================================\n",
            " input_5 (InputLayer)           [(None, 50, 6)]      0           []                               \n",
            "                                                                                                  \n",
            " lstm_13 (LSTM)                 [(None, 50, 100),    42800       ['input_5[0][0]']                \n",
            "                                 (None, 100),                                                     \n",
            "                                 (None, 100)]                                                     \n",
            "                                                                                                  \n",
            " lstm_14 (LSTM)                 [(None, 100),        80400       ['lstm_13[0][0]']                \n",
            "                                 (None, 100),                                                     \n",
            "                                 (None, 100)]                                                     \n",
            "                                                                                                  \n",
            " repeat_vector_7 (RepeatVector)  (None, 30, 100)     0           ['lstm_14[0][0]']                \n",
            "                                                                                                  \n",
            " lstm_15 (LSTM)                 (None, 30, 100)      80400       ['repeat_vector_7[0][0]',        \n",
            "                                                                  'lstm_13[0][1]',                \n",
            "                                                                  'lstm_13[0][2]']                \n",
            "                                                                                                  \n",
            " lstm_16 (LSTM)                 (None, 30, 100)      80400       ['lstm_15[0][0]',                \n",
            "                                                                  'lstm_14[0][1]',                \n",
            "                                                                  'lstm_14[0][2]']                \n",
            "                                                                                                  \n",
            " time_distributed_10 (TimeDistr  (None, 30, 6)       606         ['lstm_16[0][0]']                \n",
            " ibuted)                                                                                          \n",
            "                                                                                                  \n",
            "==================================================================================================\n",
            "Total params: 284,606\n",
            "Trainable params: 284,606\n",
            "Non-trainable params: 0\n",
            "__________________________________________________________________________________________________\n"
          ]
        }
      ],
      "source": [
        "# E2D2\n",
        "# n_features ==> no of features at each timestep in the data.\n",
        "#\n",
        "encoder_inputs = tf.keras.layers.Input(shape=(n_past, n_features))\n",
        "encoder_l1 = tf.keras.layers.LSTM(100,return_sequences = True, return_state=True)\n",
        "encoder_outputs1 = encoder_l1(encoder_inputs)\n",
        "encoder_states1 = encoder_outputs1[1:]\n",
        "encoder_l2 = tf.keras.layers.LSTM(100, return_state=True)\n",
        "encoder_outputs2 = encoder_l2(encoder_outputs1[0])\n",
        "encoder_states2 = encoder_outputs2[1:]\n",
        "#\n",
        "decoder_inputs = tf.keras.layers.RepeatVector(n_future)(encoder_outputs2[0])\n",
        "#\n",
        "decoder_l1 = tf.keras.layers.LSTM(100, return_sequences=True)(decoder_inputs,initial_state = encoder_states1)\n",
        "decoder_l2 = tf.keras.layers.LSTM(100, return_sequences=True)(decoder_l1,initial_state = encoder_states2)\n",
        "decoder_outputs2 = tf.keras.layers.TimeDistributed(tf.keras.layers.Dense(n_features))(decoder_l2)\n",
        "#\n",
        "model_e2d2 = tf.keras.models.Model(encoder_inputs,decoder_outputs2)\n",
        "#\n",
        "model_e2d2.summary()"
      ]
    },
    {
      "cell_type": "code",
      "execution_count": null,
      "metadata": {
        "colab": {
          "base_uri": "https://localhost:8080/"
        },
        "id": "MsLjSsbT2ro2",
        "outputId": "5fcba81f-b84c-4ac5-a8e7-9f9ac1e08321"
      },
      "outputs": [
        {
          "name": "stdout",
          "output_type": "stream",
          "text": [
            "Epoch 1/100\n",
            "50/50 [==============================] - 11s 92ms/step - loss: 4.9623 - val_loss: 7.0621\n",
            "Epoch 2/100\n",
            "50/50 [==============================] - 3s 59ms/step - loss: 4.3849 - val_loss: 6.7402\n",
            "Epoch 3/100\n",
            "50/50 [==============================] - 3s 60ms/step - loss: 4.1841 - val_loss: 6.4231\n",
            "Epoch 4/100\n",
            "50/50 [==============================] - 3s 58ms/step - loss: 3.9658 - val_loss: 6.1741\n",
            "Epoch 5/100\n",
            "50/50 [==============================] - 3s 59ms/step - loss: 3.7184 - val_loss: 5.9449\n",
            "Epoch 6/100\n",
            "50/50 [==============================] - 3s 59ms/step - loss: 3.5758 - val_loss: 5.7255\n",
            "Epoch 7/100\n",
            "50/50 [==============================] - 3s 59ms/step - loss: 3.3671 - val_loss: 5.5415\n",
            "Epoch 8/100\n",
            "50/50 [==============================] - 3s 59ms/step - loss: 3.3018 - val_loss: 5.5163\n",
            "Epoch 9/100\n",
            "50/50 [==============================] - 3s 60ms/step - loss: 3.1114 - val_loss: 5.2416\n",
            "Epoch 10/100\n",
            "50/50 [==============================] - 3s 58ms/step - loss: 2.9633 - val_loss: 5.1306\n",
            "Epoch 11/100\n",
            "50/50 [==============================] - 3s 60ms/step - loss: 2.7956 - val_loss: 5.0621\n",
            "Epoch 12/100\n",
            "50/50 [==============================] - 3s 59ms/step - loss: 2.6808 - val_loss: 5.1980\n",
            "Epoch 13/100\n",
            "50/50 [==============================] - 3s 61ms/step - loss: 2.5878 - val_loss: 4.9258\n",
            "Epoch 14/100\n",
            "50/50 [==============================] - 3s 60ms/step - loss: 2.5111 - val_loss: 4.9516\n",
            "Epoch 15/100\n",
            "50/50 [==============================] - 3s 59ms/step - loss: 2.4348 - val_loss: 5.1350\n",
            "Epoch 16/100\n",
            "50/50 [==============================] - 3s 60ms/step - loss: 2.2773 - val_loss: 5.0637\n",
            "Epoch 17/100\n",
            "50/50 [==============================] - 3s 59ms/step - loss: 2.2034 - val_loss: 5.0708\n",
            "Epoch 18/100\n",
            "50/50 [==============================] - 3s 59ms/step - loss: 2.1258 - val_loss: 5.1634\n",
            "Epoch 19/100\n",
            "50/50 [==============================] - 3s 61ms/step - loss: 2.0083 - val_loss: 5.4444\n",
            "Epoch 20/100\n",
            "50/50 [==============================] - 3s 60ms/step - loss: 1.9955 - val_loss: 5.0375\n",
            "Epoch 21/100\n",
            "50/50 [==============================] - 3s 59ms/step - loss: 1.8356 - val_loss: 5.1741\n",
            "Epoch 22/100\n",
            "50/50 [==============================] - 3s 59ms/step - loss: 1.7567 - val_loss: 5.0765\n",
            "Epoch 23/100\n",
            "50/50 [==============================] - 3s 60ms/step - loss: 1.7030 - val_loss: 5.1638\n",
            "Epoch 24/100\n",
            "50/50 [==============================] - 3s 59ms/step - loss: 1.5942 - val_loss: 5.4910\n",
            "Epoch 25/100\n",
            "50/50 [==============================] - 3s 59ms/step - loss: 1.5228 - val_loss: 5.3343\n",
            "Epoch 26/100\n",
            "50/50 [==============================] - 3s 59ms/step - loss: 1.4630 - val_loss: 5.3906\n",
            "Epoch 27/100\n",
            "50/50 [==============================] - 3s 59ms/step - loss: 1.4168 - val_loss: 5.6006\n",
            "Epoch 28/100\n",
            "50/50 [==============================] - 3s 59ms/step - loss: 1.3904 - val_loss: 5.5023\n",
            "Epoch 29/100\n",
            "50/50 [==============================] - 3s 60ms/step - loss: 1.3621 - val_loss: 5.3258\n",
            "Epoch 30/100\n",
            "50/50 [==============================] - 3s 60ms/step - loss: 1.3570 - val_loss: 5.1972\n",
            "Epoch 31/100\n",
            "50/50 [==============================] - 3s 59ms/step - loss: 1.3054 - val_loss: 5.3728\n",
            "Epoch 32/100\n",
            "50/50 [==============================] - 3s 60ms/step - loss: 1.2276 - val_loss: 5.5099\n",
            "Epoch 33/100\n",
            "50/50 [==============================] - 3s 60ms/step - loss: 1.1810 - val_loss: 5.4143\n",
            "Epoch 34/100\n",
            "50/50 [==============================] - 3s 60ms/step - loss: 1.1972 - val_loss: 5.5245\n",
            "Epoch 35/100\n",
            "50/50 [==============================] - 3s 60ms/step - loss: 1.1550 - val_loss: 5.6383\n",
            "Epoch 36/100\n",
            "50/50 [==============================] - 3s 59ms/step - loss: 1.1076 - val_loss: 5.5534\n",
            "Epoch 37/100\n",
            "50/50 [==============================] - 3s 59ms/step - loss: 1.0926 - val_loss: 5.6563\n",
            "Epoch 38/100\n",
            "50/50 [==============================] - 3s 59ms/step - loss: 1.0619 - val_loss: 5.5735\n",
            "Epoch 39/100\n",
            "50/50 [==============================] - 3s 59ms/step - loss: 1.0177 - val_loss: 5.6171\n",
            "Epoch 40/100\n",
            "50/50 [==============================] - 3s 58ms/step - loss: 0.9736 - val_loss: 5.7629\n",
            "Epoch 41/100\n",
            "50/50 [==============================] - 3s 59ms/step - loss: 0.9969 - val_loss: 5.7124\n",
            "Epoch 42/100\n",
            "50/50 [==============================] - 3s 59ms/step - loss: 0.9937 - val_loss: 5.6735\n",
            "Epoch 43/100\n",
            "50/50 [==============================] - 3s 59ms/step - loss: 0.9678 - val_loss: 5.7033\n",
            "Epoch 44/100\n",
            "50/50 [==============================] - 3s 60ms/step - loss: 0.9439 - val_loss: 5.7114\n",
            "Epoch 45/100\n",
            "50/50 [==============================] - 3s 59ms/step - loss: 0.9436 - val_loss: 5.6697\n",
            "Epoch 46/100\n",
            "50/50 [==============================] - 3s 59ms/step - loss: 0.9294 - val_loss: 5.7409\n",
            "Epoch 47/100\n",
            "50/50 [==============================] - 3s 59ms/step - loss: 0.8980 - val_loss: 5.7091\n",
            "Epoch 48/100\n",
            "50/50 [==============================] - 3s 59ms/step - loss: 0.9016 - val_loss: 5.7091\n",
            "Epoch 49/100\n",
            "50/50 [==============================] - 3s 59ms/step - loss: 0.9104 - val_loss: 5.7598\n",
            "Epoch 50/100\n",
            "50/50 [==============================] - 3s 60ms/step - loss: 0.8537 - val_loss: 5.7863\n",
            "Epoch 51/100\n",
            "50/50 [==============================] - 3s 59ms/step - loss: 0.8509 - val_loss: 5.6979\n",
            "Epoch 52/100\n",
            "50/50 [==============================] - 3s 59ms/step - loss: 0.8865 - val_loss: 5.7610\n",
            "Epoch 53/100\n",
            "50/50 [==============================] - 3s 58ms/step - loss: 0.8794 - val_loss: 5.7389\n",
            "Epoch 54/100\n",
            "50/50 [==============================] - 3s 60ms/step - loss: 0.8672 - val_loss: 5.7902\n",
            "Epoch 55/100\n",
            "50/50 [==============================] - 3s 60ms/step - loss: 0.8437 - val_loss: 5.8416\n",
            "Epoch 56/100\n",
            "50/50 [==============================] - 3s 59ms/step - loss: 0.8298 - val_loss: 5.7959\n",
            "Epoch 57/100\n",
            "50/50 [==============================] - 3s 60ms/step - loss: 0.8150 - val_loss: 5.7596\n",
            "Epoch 58/100\n",
            "50/50 [==============================] - 3s 60ms/step - loss: 0.8015 - val_loss: 5.7479\n",
            "Epoch 59/100\n",
            "50/50 [==============================] - 3s 60ms/step - loss: 0.8154 - val_loss: 5.7716\n",
            "Epoch 60/100\n",
            "50/50 [==============================] - 3s 60ms/step - loss: 0.8031 - val_loss: 5.7721\n",
            "Epoch 61/100\n",
            "50/50 [==============================] - 3s 60ms/step - loss: 0.7741 - val_loss: 5.8095\n",
            "Epoch 62/100\n",
            "50/50 [==============================] - 3s 60ms/step - loss: 0.7527 - val_loss: 5.7336\n",
            "Epoch 63/100\n",
            "50/50 [==============================] - 3s 59ms/step - loss: 0.7781 - val_loss: 5.8742\n",
            "Epoch 64/100\n",
            "50/50 [==============================] - 3s 58ms/step - loss: 0.7542 - val_loss: 5.8427\n",
            "Epoch 65/100\n",
            "50/50 [==============================] - 3s 60ms/step - loss: 0.7442 - val_loss: 5.7776\n",
            "Epoch 66/100\n",
            "50/50 [==============================] - 3s 59ms/step - loss: 0.7625 - val_loss: 5.9558\n",
            "Epoch 67/100\n",
            "50/50 [==============================] - 3s 60ms/step - loss: 0.7558 - val_loss: 5.8045\n",
            "Epoch 68/100\n",
            "50/50 [==============================] - 3s 60ms/step - loss: 0.7234 - val_loss: 5.7601\n",
            "Epoch 69/100\n",
            "50/50 [==============================] - 3s 60ms/step - loss: 0.7336 - val_loss: 5.7153\n",
            "Epoch 70/100\n",
            "50/50 [==============================] - 3s 60ms/step - loss: 0.7145 - val_loss: 5.8314\n",
            "Epoch 71/100\n",
            "50/50 [==============================] - 3s 59ms/step - loss: 0.7156 - val_loss: 5.7718\n",
            "Epoch 72/100\n",
            "50/50 [==============================] - 3s 58ms/step - loss: 0.6999 - val_loss: 5.8253\n",
            "Epoch 73/100\n",
            "50/50 [==============================] - 3s 58ms/step - loss: 0.7053 - val_loss: 5.7996\n",
            "Epoch 74/100\n",
            "50/50 [==============================] - 3s 59ms/step - loss: 0.7045 - val_loss: 5.8315\n",
            "Epoch 75/100\n",
            "50/50 [==============================] - 3s 59ms/step - loss: 0.6812 - val_loss: 5.8572\n",
            "Epoch 76/100\n",
            "50/50 [==============================] - 3s 59ms/step - loss: 0.6901 - val_loss: 5.7928\n",
            "Epoch 77/100\n",
            "50/50 [==============================] - 3s 59ms/step - loss: 0.6858 - val_loss: 5.7763\n",
            "Epoch 78/100\n",
            "50/50 [==============================] - 3s 60ms/step - loss: 0.6928 - val_loss: 5.8702\n",
            "Epoch 79/100\n",
            "50/50 [==============================] - 3s 59ms/step - loss: 0.6863 - val_loss: 5.7621\n",
            "Epoch 80/100\n",
            "50/50 [==============================] - 3s 59ms/step - loss: 0.6662 - val_loss: 5.7405\n",
            "Epoch 81/100\n",
            "50/50 [==============================] - 3s 60ms/step - loss: 0.6668 - val_loss: 5.9288\n",
            "Epoch 82/100\n",
            "50/50 [==============================] - 3s 60ms/step - loss: 0.6684 - val_loss: 5.8292\n",
            "Epoch 83/100\n",
            "50/50 [==============================] - 3s 59ms/step - loss: 0.6685 - val_loss: 5.8945\n",
            "Epoch 84/100\n",
            "50/50 [==============================] - 3s 59ms/step - loss: 0.6767 - val_loss: 5.9099\n",
            "Epoch 85/100\n",
            "50/50 [==============================] - 3s 60ms/step - loss: 0.6594 - val_loss: 5.7696\n",
            "Epoch 86/100\n",
            "50/50 [==============================] - 3s 59ms/step - loss: 0.6384 - val_loss: 5.7620\n",
            "Epoch 87/100\n",
            "50/50 [==============================] - 3s 60ms/step - loss: 0.6365 - val_loss: 5.8755\n",
            "Epoch 88/100\n",
            "50/50 [==============================] - 3s 60ms/step - loss: 0.6250 - val_loss: 5.7788\n",
            "Epoch 89/100\n",
            "50/50 [==============================] - 3s 60ms/step - loss: 0.6460 - val_loss: 5.8362\n",
            "Epoch 90/100\n",
            "50/50 [==============================] - 3s 60ms/step - loss: 0.6312 - val_loss: 5.7748\n",
            "Epoch 91/100\n",
            "50/50 [==============================] - 3s 60ms/step - loss: 0.6148 - val_loss: 5.8637\n",
            "Epoch 92/100\n",
            "50/50 [==============================] - 3s 60ms/step - loss: 0.6205 - val_loss: 5.8439\n",
            "Epoch 93/100\n",
            "50/50 [==============================] - 3s 60ms/step - loss: 0.6137 - val_loss: 5.8002\n",
            "Epoch 94/100\n",
            "50/50 [==============================] - 3s 60ms/step - loss: 0.6176 - val_loss: 5.7919\n",
            "Epoch 95/100\n",
            "50/50 [==============================] - 3s 60ms/step - loss: 0.6201 - val_loss: 5.7458\n",
            "Epoch 96/100\n",
            "50/50 [==============================] - 3s 59ms/step - loss: 0.6223 - val_loss: 5.7065\n",
            "Epoch 97/100\n",
            "50/50 [==============================] - 3s 60ms/step - loss: 0.6121 - val_loss: 5.7857\n",
            "Epoch 98/100\n",
            "50/50 [==============================] - 3s 59ms/step - loss: 0.6055 - val_loss: 5.8575\n",
            "Epoch 99/100\n",
            "50/50 [==============================] - 3s 59ms/step - loss: 0.6066 - val_loss: 5.8009\n",
            "Epoch 100/100\n",
            "50/50 [==============================] - 3s 60ms/step - loss: 0.6057 - val_loss: 5.8673\n"
          ]
        }
      ],
      "source": [
        "# reduce_lr = tf.keras.callbacks.LearningRateScheduler(lambda x: 1e-3 * 0.90 ** x)\n",
        "model_e2d2.compile(optimizer=tf.keras.optimizers.Adam(), loss=tf.keras.losses.Huber())\n",
        "history_e2d2=model_e2d2.fit(X_train,y_train,epochs=100,validation_data=(X_test,y_test),batch_size=32,verbose=1)"
      ]
    },
    {
      "cell_type": "code",
      "execution_count": null,
      "metadata": {
        "id": "JpLkXRvMB9nv"
      },
      "outputs": [],
      "source": [
        "init_test = np.expand_dims(X_test[0], axis=0)\n",
        "for i in range(100):\n",
        "  pred_init = model_e1d1.predict(init_test[:,-10:,:])\n",
        "  init_test = np.concatenate((init_test, pred_init), axis = 1)\n"
      ]
    },
    {
      "cell_type": "code",
      "execution_count": null,
      "metadata": {
        "colab": {
          "base_uri": "https://localhost:8080/"
        },
        "id": "zyUmIDTnVNpj",
        "outputId": "fcec0f0f-f974-4b44-dbdc-aa44f552003b"
      },
      "outputs": [
        {
          "data": {
            "text/plain": [
              "(50, 6)"
            ]
          },
          "execution_count": 34,
          "metadata": {},
          "output_type": "execute_result"
        }
      ],
      "source": [
        "X_test[0].shape"
      ]
    },
    {
      "cell_type": "code",
      "execution_count": null,
      "metadata": {
        "colab": {
          "base_uri": "https://localhost:8080/"
        },
        "id": "fOWSMzkBlXdI",
        "outputId": "123b3dab-9fc1-463a-acdd-4e8d89ee9937"
      },
      "outputs": [
        {
          "data": {
            "text/plain": [
              "0.7705793817988308"
            ]
          },
          "execution_count": 303,
          "metadata": {},
          "output_type": "execute_result"
        }
      ],
      "source": [
        "#MSE\n",
        "y_god = np.expand_dims(y_test[:550, 0, 0], axis=0)\n",
        "pred_god = init_test[:, :, 0]\n",
        "mean_absolute_error(y_god, pred_god)"
      ]
    },
    {
      "cell_type": "code",
      "execution_count": null,
      "metadata": {
        "id": "JBkGk3mqnp4v"
      },
      "outputs": [],
      "source": [
        "test_index = []\n",
        "for i in range(1661, 2211):\n",
        "  test_index.append(i)"
      ]
    },
    {
      "cell_type": "code",
      "execution_count": null,
      "metadata": {
        "colab": {
          "base_uri": "https://localhost:8080/",
          "height": 438
        },
        "id": "wS5DJ67JmleD",
        "outputId": "7e410342-3b72-4070-9f03-566a2d488c38"
      },
      "outputs": [
        {
          "data": {
            "image/png": "[encoded data removed]",
            "text/plain": [
              "<Figure size 1200x500 with 1 Axes>"
            ]
          },
          "metadata": {},
          "output_type": "display_data"
        }
      ],
      "source": [
        "fc = pd.Series(y_god[0], index=test_index)\n",
        "fc1 = pd.Series(pred_god[0], index=test_index)\n",
        "\n",
        "plt.figure(figsize=(12,5), dpi=100)\n",
        "plt.plot(train['Close'])\n",
        "plt.plot(fc1)\n",
        "plt.plot(fc)\n",
        "plt.show()"
      ]
    },
    {
      "cell_type": "markdown",
      "metadata": {
        "id": "DqZEZoCzMOaf"
      },
      "source": [
        "## 4Enc 4Dec"
      ]
    },
    {
      "cell_type": "code",
      "execution_count": 38,
      "metadata": {
        "colab": {
          "base_uri": "https://localhost:8080/"
        },
        "id": "w8n6_xw1MSWZ",
        "outputId": "7205c9e8-b117-4902-b689-bc453f43a8ba"
      },
      "outputs": [
        {
          "name": "stdout",
          "output_type": "stream",
          "text": [
            "Model: \"model\"\n",
            "__________________________________________________________________________________________________\n",
            " Layer (type)                   Output Shape         Param #     Connected to                     \n",
            "==================================================================================================\n",
            " input_1 (InputLayer)           [(None, 50, 6)]      0           []                               \n",
            "                                                                                                  \n",
            " lstm (LSTM)                    [(None, 50, 100),    42800       ['input_1[0][0]']                \n",
            "                                 (None, 100),                                                     \n",
            "                                 (None, 100)]                                                     \n",
            "                                                                                                  \n",
            " lstm_1 (LSTM)                  [(None, 100),        80400       ['lstm[0][0]']                   \n",
            "                                 (None, 100),                                                     \n",
            "                                 (None, 100)]                                                     \n",
            "                                                                                                  \n",
            " repeat_vector (RepeatVector)   (None, 30, 100)      0           ['lstm_1[0][0]']                 \n",
            "                                                                                                  \n",
            " lstm_4 (LSTM)                  (None, 30, 100)      80400       ['repeat_vector[0][0]',          \n",
            "                                                                  'lstm[0][1]',                   \n",
            "                                                                  'lstm[0][2]']                   \n",
            "                                                                                                  \n",
            " lstm_5 (LSTM)                  (None, 30, 100)      80400       ['lstm_4[0][0]',                 \n",
            "                                                                  'lstm_1[0][1]',                 \n",
            "                                                                  'lstm_1[0][2]']                 \n",
            "                                                                                                  \n",
            " lstm_2 (LSTM)                  [(None, 100),        80400       ['lstm[0][0]']                   \n",
            "                                 (None, 100),                                                     \n",
            "                                 (None, 100)]                                                     \n",
            "                                                                                                  \n",
            " lstm_6 (LSTM)                  (None, 30, 100)      80400       ['lstm_5[0][0]',                 \n",
            "                                                                  'lstm_2[0][1]',                 \n",
            "                                                                  'lstm_2[0][2]']                 \n",
            "                                                                                                  \n",
            " lstm_7 (LSTM)                  (None, 30, 100)      80400       ['lstm_6[0][0]',                 \n",
            "                                                                  'lstm_1[0][1]',                 \n",
            "                                                                  'lstm_1[0][2]']                 \n",
            "                                                                                                  \n",
            " time_distributed (TimeDistribu  (None, 30, 6)       606         ['lstm_7[0][0]']                 \n",
            " ted)                                                                                             \n",
            "                                                                                                  \n",
            "==================================================================================================\n",
            "Total params: 525,806\n",
            "Trainable params: 525,806\n",
            "Non-trainable params: 0\n",
            "__________________________________________________________________________________________________\n"
          ]
        }
      ],
      "source": [
        "# E2D2\n",
        "# n_features ==> no of features at each timestep in the data.\n",
        "#\n",
        "encoder_inputs = tf.keras.layers.Input(shape=(n_past, n_features))\n",
        "encoder_l1 = tf.keras.layers.LSTM(100,return_sequences = True, return_state=True)\n",
        "encoder_outputs1 = encoder_l1(encoder_inputs)\n",
        "encoder_states1 = encoder_outputs1[1:]\n",
        "encoder_l2 = tf.keras.layers.LSTM(100, return_state=True)\n",
        "encoder_outputs2 = encoder_l2(encoder_outputs1[0])\n",
        "encoder_states2 = encoder_outputs2[1:]\n",
        "encoder_l3 = tf.keras.layers.LSTM(100, return_state=True)\n",
        "encoder_outputs3 = encoder_l3(encoder_outputs1[0])\n",
        "encoder_states3 = encoder_outputs3[1:]\n",
        "encoder_l4 = tf.keras.layers.LSTM(100, return_state=True)\n",
        "encoder_outputs4 = encoder_l4(encoder_outputs1[0])\n",
        "encoder_states4 = encoder_outputs2[1:]\n",
        "#\n",
        "decoder_inputs = tf.keras.layers.RepeatVector(n_future)(encoder_outputs2[0])\n",
        "#\n",
        "decoder_l1 = tf.keras.layers.LSTM(100, return_sequences=True)(decoder_inputs,initial_state = encoder_states1)\n",
        "decoder_l2 = tf.keras.layers.LSTM(100, return_sequences=True)(decoder_l1,initial_state = encoder_states2)\n",
        "decoder_l3 = tf.keras.layers.LSTM(100, return_sequences=True)(decoder_l2,initial_state = encoder_states3)\n",
        "decoder_l4 = tf.keras.layers.LSTM(100, return_sequences=True)(decoder_l3,initial_state = encoder_states4)\n",
        "decoder_outputs2 = tf.keras.layers.TimeDistributed(tf.keras.layers.Dense(n_features))(decoder_l4)\n",
        "#\n",
        "model_e4d4 = tf.keras.models.Model(encoder_inputs,decoder_outputs2)\n",
        "#\n",
        "model_e4d4.summary()"
      ]
    },
    {
      "cell_type": "code",
      "execution_count": 39,
      "metadata": {
        "colab": {
          "base_uri": "https://localhost:8080/"
        },
        "id": "H5KgMUneMTOE",
        "outputId": "4afae20c-818a-4e4d-b996-2bc8de5e9f1a"
      },
      "outputs": [
        {
          "name": "stdout",
          "output_type": "stream",
          "text": [
            "Epoch 1/100\n"
          ]
        },
        {
          "name": "stderr",
          "output_type": "stream",
          "text": [
            "2022-03-23 16:49:37.482956: I tensorflow/core/grappler/optimizers/custom_graph_optimizer_registry.cc:112] Plugin optimizer for device_type GPU is enabled.\n",
            "2022-03-23 16:49:38.139678: I tensorflow/core/grappler/optimizers/custom_graph_optimizer_registry.cc:112] Plugin optimizer for device_type GPU is enabled.\n",
            "2022-03-23 16:49:38.701248: I tensorflow/core/grappler/optimizers/custom_graph_optimizer_registry.cc:112] Plugin optimizer for device_type GPU is enabled.\n",
            "2022-03-23 16:49:38.711861: I tensorflow/core/grappler/optimizers/custom_graph_optimizer_registry.cc:112] Plugin optimizer for device_type GPU is enabled.\n",
            "2022-03-23 16:49:38.839706: I tensorflow/core/grappler/optimizers/custom_graph_optimizer_registry.cc:112] Plugin optimizer for device_type GPU is enabled.\n",
            "2022-03-23 16:49:38.931765: I tensorflow/core/grappler/optimizers/custom_graph_optimizer_registry.cc:112] Plugin optimizer for device_type GPU is enabled.\n",
            "2022-03-23 16:49:38.979972: I tensorflow/core/grappler/optimizers/custom_graph_optimizer_registry.cc:112] Plugin optimizer for device_type GPU is enabled.\n",
            "2022-03-23 16:49:39.030801: I tensorflow/core/grappler/optimizers/custom_graph_optimizer_registry.cc:112] Plugin optimizer for device_type GPU is enabled.\n",
            "2022-03-23 16:49:40.285620: I tensorflow/core/grappler/optimizers/custom_graph_optimizer_registry.cc:112] Plugin optimizer for device_type GPU is enabled.\n",
            "2022-03-23 16:49:41.424543: I tensorflow/core/grappler/optimizers/custom_graph_optimizer_registry.cc:112] Plugin optimizer for device_type GPU is enabled.\n",
            "2022-03-23 16:49:41.546584: I tensorflow/core/grappler/optimizers/custom_graph_optimizer_registry.cc:112] Plugin optimizer for device_type GPU is enabled.\n",
            "2022-03-23 16:49:41.546603: I tensorflow/core/grappler/optimizers/custom_graph_optimizer_registry.cc:112] Plugin optimizer for device_type GPU is enabled.\n",
            "2022-03-23 16:49:41.805635: I tensorflow/core/grappler/optimizers/custom_graph_optimizer_registry.cc:112] Plugin optimizer for device_type GPU is enabled.\n",
            "2022-03-23 16:49:42.243148: I tensorflow/core/grappler/optimizers/custom_graph_optimizer_registry.cc:112] Plugin optimizer for device_type GPU is enabled.\n",
            "2022-03-23 16:49:42.370371: I tensorflow/core/grappler/optimizers/custom_graph_optimizer_registry.cc:112] Plugin optimizer for device_type GPU is enabled.\n"
          ]
        },
        {
          "name": "stdout",
          "output_type": "stream",
          "text": [
            "50/50 [==============================] - ETA: 0s - loss: 5.4173"
          ]
        },
        {
          "name": "stderr",
          "output_type": "stream",
          "text": [
            "2022-03-23 16:49:48.594497: I tensorflow/core/grappler/optimizers/custom_graph_optimizer_registry.cc:112] Plugin optimizer for device_type GPU is enabled.\n",
            "2022-03-23 16:49:48.810358: I tensorflow/core/grappler/optimizers/custom_graph_optimizer_registry.cc:112] Plugin optimizer for device_type GPU is enabled.\n",
            "2022-03-23 16:49:48.875785: I tensorflow/core/grappler/optimizers/custom_graph_optimizer_registry.cc:112] Plugin optimizer for device_type GPU is enabled.\n",
            "2022-03-23 16:49:48.883581: I tensorflow/core/grappler/optimizers/custom_graph_optimizer_registry.cc:112] Plugin optimizer for device_type GPU is enabled.\n",
            "2022-03-23 16:49:48.971409: I tensorflow/core/grappler/optimizers/custom_graph_optimizer_registry.cc:112] Plugin optimizer for device_type GPU is enabled.\n",
            "2022-03-23 16:49:49.015410: I tensorflow/core/grappler/optimizers/custom_graph_optimizer_registry.cc:112] Plugin optimizer for device_type GPU is enabled.\n",
            "2022-03-23 16:49:49.063524: I tensorflow/core/grappler/optimizers/custom_graph_optimizer_registry.cc:112] Plugin optimizer for device_type GPU is enabled.\n",
            "2022-03-23 16:49:49.108324: I tensorflow/core/grappler/optimizers/custom_graph_optimizer_registry.cc:112] Plugin optimizer for device_type GPU is enabled.\n"
          ]
        },
        {
          "name": "stdout",
          "output_type": "stream",
          "text": [
            "50/50 [==============================] - 16s 149ms/step - loss: 5.4173 - val_loss: 7.7973\n",
            "Epoch 2/100\n",
            "50/50 [==============================] - 4s 85ms/step - loss: 4.8735 - val_loss: 7.2300\n",
            "Epoch 3/100\n",
            "50/50 [==============================] - 4s 86ms/step - loss: 4.6846 - val_loss: 6.9469\n",
            "Epoch 4/100\n",
            "50/50 [==============================] - 4s 85ms/step - loss: 4.2640 - val_loss: 6.4952\n",
            "Epoch 5/100\n",
            "50/50 [==============================] - 4s 85ms/step - loss: 3.9883 - val_loss: 6.4350\n",
            "Epoch 6/100\n",
            "50/50 [==============================] - 4s 86ms/step - loss: 4.0481 - val_loss: 6.0362\n",
            "Epoch 7/100\n",
            "50/50 [==============================] - 4s 87ms/step - loss: 3.7007 - val_loss: 5.8036\n",
            "Epoch 8/100\n",
            "50/50 [==============================] - 4s 90ms/step - loss: 3.6207 - val_loss: 5.6451\n",
            "Epoch 9/100\n",
            "50/50 [==============================] - 5s 91ms/step - loss: 3.5708 - val_loss: 5.5472\n",
            "Epoch 10/100\n",
            "50/50 [==============================] - 4s 90ms/step - loss: 3.4432 - val_loss: 5.5133\n",
            "Epoch 11/100\n",
            "50/50 [==============================] - 4s 89ms/step - loss: 3.3987 - val_loss: 5.4102\n",
            "Epoch 12/100\n",
            "50/50 [==============================] - 5s 93ms/step - loss: 3.3987 - val_loss: 5.4014\n",
            "Epoch 13/100\n",
            "50/50 [==============================] - 4s 88ms/step - loss: 3.5474 - val_loss: 5.4667\n",
            "Epoch 14/100\n",
            "50/50 [==============================] - 4s 88ms/step - loss: 3.3995 - val_loss: 5.3652\n",
            "Epoch 15/100\n",
            "50/50 [==============================] - 4s 87ms/step - loss: 3.4499 - val_loss: 5.8578\n",
            "Epoch 16/100\n",
            "50/50 [==============================] - 4s 87ms/step - loss: 3.4233 - val_loss: 5.3344\n",
            "Epoch 17/100\n",
            "50/50 [==============================] - 4s 87ms/step - loss: 3.2386 - val_loss: 5.3549\n",
            "Epoch 18/100\n",
            "50/50 [==============================] - 4s 88ms/step - loss: 3.2324 - val_loss: 5.1975\n",
            "Epoch 19/100\n",
            "50/50 [==============================] - 4s 89ms/step - loss: 3.1871 - val_loss: 6.1270\n",
            "Epoch 20/100\n",
            "50/50 [==============================] - 4s 89ms/step - loss: 3.2386 - val_loss: 5.2079\n",
            "Epoch 21/100\n",
            "50/50 [==============================] - 4s 90ms/step - loss: 3.2406 - val_loss: 5.1652\n",
            "Epoch 22/100\n",
            "50/50 [==============================] - 4s 89ms/step - loss: 3.2507 - val_loss: 5.8180\n",
            "Epoch 23/100\n",
            "50/50 [==============================] - 4s 90ms/step - loss: 3.2097 - val_loss: 5.2373\n",
            "Epoch 24/100\n",
            "50/50 [==============================] - 4s 89ms/step - loss: 3.0486 - val_loss: 5.3363\n",
            "Epoch 25/100\n",
            "50/50 [==============================] - 4s 89ms/step - loss: 3.0429 - val_loss: 5.0022\n",
            "Epoch 26/100\n",
            "50/50 [==============================] - 4s 89ms/step - loss: 3.0612 - val_loss: 5.3221\n",
            "Epoch 27/100\n",
            "50/50 [==============================] - 4s 89ms/step - loss: 3.0170 - val_loss: 4.9655\n",
            "Epoch 28/100\n",
            "50/50 [==============================] - 4s 88ms/step - loss: 3.0645 - val_loss: 5.1319\n",
            "Epoch 29/100\n",
            "50/50 [==============================] - 4s 89ms/step - loss: 2.9580 - val_loss: 5.4783\n",
            "Epoch 30/100\n",
            "50/50 [==============================] - 4s 89ms/step - loss: 3.0039 - val_loss: 5.0098\n",
            "Epoch 31/100\n",
            "50/50 [==============================] - 4s 89ms/step - loss: 2.9255 - val_loss: 5.3937\n",
            "Epoch 32/100\n",
            "50/50 [==============================] - 4s 89ms/step - loss: 2.9136 - val_loss: 5.3050\n",
            "Epoch 33/100\n",
            "50/50 [==============================] - 4s 89ms/step - loss: 2.8261 - val_loss: 5.0980\n",
            "Epoch 34/100\n",
            "50/50 [==============================] - 4s 90ms/step - loss: 2.7835 - val_loss: 5.3768\n",
            "Epoch 35/100\n",
            "50/50 [==============================] - 4s 90ms/step - loss: 2.7994 - val_loss: 5.2503\n",
            "Epoch 36/100\n",
            "50/50 [==============================] - 4s 90ms/step - loss: 2.7030 - val_loss: 5.0949\n",
            "Epoch 37/100\n",
            "50/50 [==============================] - 4s 90ms/step - loss: 2.7413 - val_loss: 5.0772\n",
            "Epoch 38/100\n",
            "50/50 [==============================] - 5s 91ms/step - loss: 2.7393 - val_loss: 5.7301\n",
            "Epoch 39/100\n",
            "50/50 [==============================] - 5s 93ms/step - loss: 2.7326 - val_loss: 5.1684\n",
            "Epoch 40/100\n",
            "50/50 [==============================] - 4s 90ms/step - loss: 2.8425 - val_loss: 5.5692\n",
            "Epoch 41/100\n",
            "50/50 [==============================] - 4s 90ms/step - loss: 2.7833 - val_loss: 5.2557\n",
            "Epoch 42/100\n",
            "50/50 [==============================] - 5s 91ms/step - loss: 2.6540 - val_loss: 5.1224\n",
            "Epoch 43/100\n",
            "50/50 [==============================] - 4s 90ms/step - loss: 2.6228 - val_loss: 5.1727\n",
            "Epoch 44/100\n",
            "50/50 [==============================] - 4s 90ms/step - loss: 2.6471 - val_loss: 5.2477\n",
            "Epoch 45/100\n",
            "50/50 [==============================] - 4s 90ms/step - loss: 2.7481 - val_loss: 5.4541\n",
            "Epoch 46/100\n",
            "50/50 [==============================] - 5s 94ms/step - loss: 2.6947 - val_loss: 5.1280\n",
            "Epoch 47/100\n",
            "50/50 [==============================] - 5s 90ms/step - loss: 2.5931 - val_loss: 5.3843\n",
            "Epoch 48/100\n",
            "50/50 [==============================] - 5s 92ms/step - loss: 2.6290 - val_loss: 5.2884\n",
            "Epoch 49/100\n",
            "50/50 [==============================] - 4s 90ms/step - loss: 2.4841 - val_loss: 5.1928\n",
            "Epoch 50/100\n",
            "50/50 [==============================] - 5s 91ms/step - loss: 2.5956 - val_loss: 5.2635\n",
            "Epoch 51/100\n",
            "50/50 [==============================] - 5s 91ms/step - loss: 2.5495 - val_loss: 5.4422\n",
            "Epoch 52/100\n",
            "50/50 [==============================] - 5s 91ms/step - loss: 2.6797 - val_loss: 5.3286\n",
            "Epoch 53/100\n",
            "50/50 [==============================] - 5s 94ms/step - loss: 2.5244 - val_loss: 5.2646\n",
            "Epoch 54/100\n",
            "50/50 [==============================] - 5s 91ms/step - loss: 2.3714 - val_loss: 5.0579\n",
            "Epoch 55/100\n",
            "50/50 [==============================] - 5s 93ms/step - loss: 2.5280 - val_loss: 4.9847\n",
            "Epoch 56/100\n",
            "50/50 [==============================] - 5s 93ms/step - loss: 2.4765 - val_loss: 5.2004\n",
            "Epoch 57/100\n",
            "50/50 [==============================] - 5s 91ms/step - loss: 2.4242 - val_loss: 5.5778\n",
            "Epoch 58/100\n",
            "50/50 [==============================] - 4s 90ms/step - loss: 2.4472 - val_loss: 5.4226\n",
            "Epoch 59/100\n",
            "50/50 [==============================] - 5s 92ms/step - loss: 2.3708 - val_loss: 5.0306\n",
            "Epoch 60/100\n",
            "50/50 [==============================] - 5s 103ms/step - loss: 2.3580 - val_loss: 5.3617\n",
            "Epoch 61/100\n",
            "50/50 [==============================] - 5s 91ms/step - loss: 2.2997 - val_loss: 5.1939\n",
            "Epoch 62/100\n",
            "50/50 [==============================] - 4s 90ms/step - loss: 2.1694 - val_loss: 5.3269\n",
            "Epoch 63/100\n",
            "50/50 [==============================] - 5s 90ms/step - loss: 2.1637 - val_loss: 5.1907\n",
            "Epoch 64/100\n",
            "50/50 [==============================] - 4s 90ms/step - loss: 2.2057 - val_loss: 5.4986\n",
            "Epoch 65/100\n",
            "50/50 [==============================] - 5s 90ms/step - loss: 2.3594 - val_loss: 5.4125\n",
            "Epoch 66/100\n",
            "50/50 [==============================] - 4s 90ms/step - loss: 2.2166 - val_loss: 4.9232\n",
            "Epoch 67/100\n",
            "50/50 [==============================] - 5s 94ms/step - loss: 2.1765 - val_loss: 5.2532\n",
            "Epoch 68/100\n",
            "50/50 [==============================] - 5s 94ms/step - loss: 2.0953 - val_loss: 5.4157\n",
            "Epoch 69/100\n",
            "50/50 [==============================] - 5s 91ms/step - loss: 2.0503 - val_loss: 5.2091\n",
            "Epoch 70/100\n",
            "50/50 [==============================] - 5s 90ms/step - loss: 2.0936 - val_loss: 5.3023\n",
            "Epoch 71/100\n",
            "50/50 [==============================] - 5s 90ms/step - loss: 2.3985 - val_loss: 5.8898\n",
            "Epoch 72/100\n",
            "50/50 [==============================] - 5s 91ms/step - loss: 2.3292 - val_loss: 5.2496\n",
            "Epoch 73/100\n",
            "50/50 [==============================] - 5s 93ms/step - loss: 2.2287 - val_loss: 5.1208\n",
            "Epoch 74/100\n",
            "50/50 [==============================] - 5s 100ms/step - loss: 2.1806 - val_loss: 5.2921\n",
            "Epoch 75/100\n",
            "50/50 [==============================] - 5s 92ms/step - loss: 2.0932 - val_loss: 5.7638\n",
            "Epoch 76/100\n",
            "50/50 [==============================] - 5s 92ms/step - loss: 2.3005 - val_loss: 5.4093\n",
            "Epoch 77/100\n",
            "50/50 [==============================] - 5s 92ms/step - loss: 2.6092 - val_loss: 5.2864\n",
            "Epoch 78/100\n",
            "50/50 [==============================] - 5s 93ms/step - loss: 2.6702 - val_loss: 5.3346\n",
            "Epoch 79/100\n",
            "50/50 [==============================] - 5s 92ms/step - loss: 2.3794 - val_loss: 5.3988\n",
            "Epoch 80/100\n",
            "50/50 [==============================] - 5s 92ms/step - loss: 2.6516 - val_loss: 5.1931\n",
            "Epoch 81/100\n",
            "50/50 [==============================] - 5s 94ms/step - loss: 3.0511 - val_loss: 5.3715\n",
            "Epoch 82/100\n",
            "50/50 [==============================] - 5s 94ms/step - loss: 2.6303 - val_loss: 5.5272\n",
            "Epoch 83/100\n",
            "50/50 [==============================] - 5s 91ms/step - loss: 2.7944 - val_loss: 6.1763\n",
            "Epoch 84/100\n",
            "50/50 [==============================] - 5s 92ms/step - loss: 3.1320 - val_loss: 5.5075\n",
            "Epoch 85/100\n",
            "50/50 [==============================] - 5s 91ms/step - loss: 2.5345 - val_loss: 5.4139\n",
            "Epoch 86/100\n",
            "50/50 [==============================] - 5s 91ms/step - loss: 2.3019 - val_loss: 5.3777\n",
            "Epoch 87/100\n",
            "50/50 [==============================] - 5s 91ms/step - loss: 2.3335 - val_loss: 5.3637\n",
            "Epoch 88/100\n",
            "50/50 [==============================] - 5s 95ms/step - loss: 2.2760 - val_loss: 5.2772\n",
            "Epoch 89/100\n",
            "50/50 [==============================] - 5s 97ms/step - loss: 2.2714 - val_loss: 5.3077\n",
            "Epoch 90/100\n",
            "50/50 [==============================] - 5s 92ms/step - loss: 2.1375 - val_loss: 5.2351\n",
            "Epoch 91/100\n",
            "50/50 [==============================] - 5s 94ms/step - loss: 2.1134 - val_loss: 5.4260\n",
            "Epoch 92/100\n",
            "50/50 [==============================] - 5s 93ms/step - loss: 2.0548 - val_loss: 6.2729\n",
            "Epoch 93/100\n",
            "50/50 [==============================] - 5s 98ms/step - loss: 2.4930 - val_loss: 5.7870\n",
            "Epoch 94/100\n",
            "50/50 [==============================] - 5s 94ms/step - loss: 2.4473 - val_loss: 5.1343\n",
            "Epoch 95/100\n",
            "50/50 [==============================] - 5s 94ms/step - loss: 2.3640 - val_loss: 5.3412\n",
            "Epoch 96/100\n",
            "50/50 [==============================] - 5s 96ms/step - loss: 2.4640 - val_loss: 5.5742\n",
            "Epoch 97/100\n",
            "50/50 [==============================] - 5s 93ms/step - loss: 2.3436 - val_loss: 5.2243\n",
            "Epoch 98/100\n",
            "50/50 [==============================] - 5s 93ms/step - loss: 2.2825 - val_loss: 5.2954\n",
            "Epoch 99/100\n",
            "50/50 [==============================] - 5s 91ms/step - loss: 2.2982 - val_loss: 5.4671\n",
            "Epoch 100/100\n",
            "50/50 [==============================] - 5s 93ms/step - loss: 2.1721 - val_loss: 5.4678\n"
          ]
        }
      ],
      "source": [
        "# reduce_lr = tf.keras.callbacks.LearningRateScheduler(lambda x: 1e-3 * 0.90 ** x)\n",
        "model_e4d4.compile(optimizer=tf.keras.optimizers.Adam(), loss=tf.keras.losses.Huber())\n",
        "history_e4d4=model_e4d4.fit(X_train,y_train,epochs=100,validation_data=(X_test,y_test),batch_size=32,verbose=1)"
      ]
    },
    {
      "cell_type": "code",
      "execution_count": null,
      "metadata": {},
      "outputs": [],
      "source": []
    },
    {
      "cell_type": "code",
      "execution_count": 40,
      "metadata": {
        "id": "bT5a6d2pMTLL"
      },
      "outputs": [
        {
          "name": "stderr",
          "output_type": "stream",
          "text": [
            "2022-03-23 16:57:42.500189: I tensorflow/core/grappler/optimizers/custom_graph_optimizer_registry.cc:112] Plugin optimizer for device_type GPU is enabled.\n",
            "2022-03-23 16:57:42.715620: I tensorflow/core/grappler/optimizers/custom_graph_optimizer_registry.cc:112] Plugin optimizer for device_type GPU is enabled.\n",
            "2022-03-23 16:57:42.800174: I tensorflow/core/grappler/optimizers/custom_graph_optimizer_registry.cc:112] Plugin optimizer for device_type GPU is enabled.\n",
            "2022-03-23 16:57:42.809168: I tensorflow/core/grappler/optimizers/custom_graph_optimizer_registry.cc:112] Plugin optimizer for device_type GPU is enabled.\n",
            "2022-03-23 16:57:42.927272: I tensorflow/core/grappler/optimizers/custom_graph_optimizer_registry.cc:112] Plugin optimizer for device_type GPU is enabled.\n",
            "2022-03-23 16:57:43.002221: I tensorflow/core/grappler/optimizers/custom_graph_optimizer_registry.cc:112] Plugin optimizer for device_type GPU is enabled.\n",
            "2022-03-23 16:57:43.056935: I tensorflow/core/grappler/optimizers/custom_graph_optimizer_registry.cc:112] Plugin optimizer for device_type GPU is enabled.\n",
            "2022-03-23 16:57:43.105871: I tensorflow/core/grappler/optimizers/custom_graph_optimizer_registry.cc:112] Plugin optimizer for device_type GPU is enabled.\n"
          ]
        }
      ],
      "source": [
        "init_test = np.expand_dims(test.iloc[-50:, :], axis=0)\n",
        "for i in range(15):\n",
        "  pred_init = model_e4d4.predict(init_test[:,-50:,:])\n",
        "  init_test = np.concatenate((init_test, pred_init), axis = 1)\n"
      ]
    },
    {
      "cell_type": "code",
      "execution_count": 41,
      "metadata": {
        "colab": {
          "base_uri": "https://localhost:8080/"
        },
        "id": "HwTK5EvDPQJO",
        "outputId": "4dead75b-c002-4d05-f0ca-d61d87ee4809"
      },
      "outputs": [
        {
          "data": {
            "text/plain": [
              "(1, 500, 6)"
            ]
          },
          "execution_count": 41,
          "metadata": {},
          "output_type": "execute_result"
        }
      ],
      "source": [
        "init_test.shape"
      ]
    },
    {
      "cell_type": "code",
      "execution_count": 42,
      "metadata": {
        "colab": {
          "base_uri": "https://localhost:8080/"
        },
        "id": "UkT3Z-1OMTIj",
        "outputId": "6828783b-ba43-4f2e-b2a9-f8593aefca68"
      },
      "outputs": [
        {
          "data": {
            "text/plain": [
              "0.9781957461166382"
            ]
          },
          "execution_count": 42,
          "metadata": {},
          "output_type": "execute_result"
        }
      ],
      "source": [
        "#MSE\n",
        "y_god = np.expand_dims(y_test[:500, 0, 0], axis=0)\n",
        "pred_god = init_test[:, :, 0]\n",
        "mean_absolute_error(y_god, pred_god)"
      ]
    },
    {
      "cell_type": "code",
      "execution_count": 43,
      "metadata": {
        "colab": {
          "base_uri": "https://localhost:8080/"
        },
        "id": "BfvbMK9bYdUS",
        "outputId": "eb11cee7-2a7a-4d06-db16-ea67bdc02dca"
      },
      "outputs": [
        {
          "data": {
            "text/plain": [
              "500"
            ]
          },
          "execution_count": 43,
          "metadata": {},
          "output_type": "execute_result"
        }
      ],
      "source": [
        "len(init_test[:, :, 0].tolist()[0])"
      ]
    },
    {
      "cell_type": "code",
      "execution_count": 44,
      "metadata": {
        "id": "Tx5lDec4MTF-"
      },
      "outputs": [],
      "source": [
        "test_index = []\n",
        "for i in range(1661, 2161):\n",
        "  test_index.append(i)"
      ]
    },
    {
      "cell_type": "code",
      "execution_count": 45,
      "metadata": {
        "colab": {
          "base_uri": "https://localhost:8080/",
          "height": 438
        },
        "id": "cJ-kEHNEMTDP",
        "outputId": "c05ed564-4861-4edb-c441-938ec869eb6a"
      },
      "outputs": [
        {
          "data": {
            "image/png": "[encoded data removed]",
            "text/plain": [
              "<Figure size 1200x500 with 1 Axes>"
            ]
          },
          "metadata": {
            "needs_background": "light"
          },
          "output_type": "display_data"
        }
      ],
      "source": [
        "# fc = pd.Series(y_god[0], index=test_index)\n",
        "fc1 = pd.Series(pred_god[0], index=test_index)\n",
        "\n",
        "plt.figure(figsize=(12,5), dpi=100)\n",
        "plt.plot(train['Close'])\n",
        "plt.plot(fc1)\n",
        "# plt.plot(fc)\n",
        "plt.show()"
      ]
    },
    {
      "cell_type": "code",
      "execution_count": 46,
      "metadata": {
        "colab": {
          "base_uri": "https://localhost:8080/",
          "height": 438
        },
        "id": "5LZHZTuaXRTa",
        "outputId": "39bb5a56-be57-4f05-d11d-0eb592cdd476"
      },
      "outputs": [
        {
          "data": {
            "image/png": "[encoded data removed]",
            "text/plain": [
              "<Figure size 1200x500 with 1 Axes>"
            ]
          },
          "metadata": {
            "needs_background": "light"
          },
          "output_type": "display_data"
        }
      ],
      "source": [
        "fc = pd.Series(y_god[0], index=test_index)\n",
        "fc1 = pd.Series(pred_god[0], index=test_index)\n",
        "\n",
        "plt.figure(figsize=(12,5), dpi=100)\n",
        "plt.plot(train['Close'])\n",
        "plt.plot(fc1)\n",
        "plt.plot(fc)\n",
        "plt.show()"
      ]
    },
    {
      "cell_type": "code",
      "execution_count": 47,
      "metadata": {
        "id": "hu5Z46D8MS9X"
      },
      "outputs": [],
      "source": [
        "model_e4d4.save(\"/Users/anishpawar/dev/SIH/Repo/Hack_Inversion-SIH/FullApp_v1/V2_App/models/M1model.h5\")"
      ]
    },
    {
      "cell_type": "code",
      "execution_count": 48,
      "metadata": {
        "id": "qjECAxQqMS6H"
      },
      "outputs": [],
      "source": [
        "model = tf.keras.models.load_model(\"/Users/anishpawar/dev/SIH/Repo/Hack_Inversion-SIH/FullApp_v1/V2_App/Testing/model_e4d4_v2.h5\")"
      ]
    },
    {
      "cell_type": "code",
      "execution_count": 49,
      "metadata": {
        "colab": {
          "base_uri": "https://localhost:8080/",
          "height": 1000
        },
        "id": "2bFkCnDAc6M1",
        "outputId": "5635211f-c347-4ceb-9397-e974e2029643"
      },
      "outputs": [
        {
          "data": {
            "text/html": [
              "<div>\n",
              "<style scoped>\n",
              "    .dataframe tbody tr th:only-of-type {\n",
              "        vertical-align: middle;\n",
              "    }\n",
              "\n",
              "    .dataframe tbody tr th {\n",
              "        vertical-align: top;\n",
              "    }\n",
              "\n",
              "    .dataframe thead th {\n",
              "        text-align: right;\n",
              "    }\n",
              "</style>\n",
              "<table border=\"1\" class=\"dataframe\">\n",
              "  <thead>\n",
              "    <tr style=\"text-align: right;\">\n",
              "      <th></th>\n",
              "      <th>Close</th>\n",
              "      <th>Volume</th>\n",
              "      <th>SMA</th>\n",
              "      <th>EMA</th>\n",
              "      <th>MACD</th>\n",
              "      <th>Custom</th>\n",
              "    </tr>\n",
              "  </thead>\n",
              "  <tbody>\n",
              "    <tr>\n",
              "      <th>662</th>\n",
              "      <td>3.561</td>\n",
              "      <td>-1.830119</td>\n",
              "      <td>4.406374</td>\n",
              "      <td>4.302110</td>\n",
              "      <td>0.317233</td>\n",
              "      <td>-54.653066</td>\n",
              "    </tr>\n",
              "    <tr>\n",
              "      <th>663</th>\n",
              "      <td>3.730</td>\n",
              "      <td>-2.431006</td>\n",
              "      <td>4.411061</td>\n",
              "      <td>4.294379</td>\n",
              "      <td>0.304265</td>\n",
              "      <td>-42.919384</td>\n",
              "    </tr>\n",
              "    <tr>\n",
              "      <th>664</th>\n",
              "      <td>3.815</td>\n",
              "      <td>-2.248114</td>\n",
              "      <td>4.415946</td>\n",
              "      <td>4.287901</td>\n",
              "      <td>0.292733</td>\n",
              "      <td>-37.012832</td>\n",
              "    </tr>\n",
              "    <tr>\n",
              "      <th>665</th>\n",
              "      <td>3.717</td>\n",
              "      <td>-1.666339</td>\n",
              "      <td>4.420347</td>\n",
              "      <td>4.280186</td>\n",
              "      <td>0.280285</td>\n",
              "      <td>-43.670882</td>\n",
              "    </tr>\n",
              "    <tr>\n",
              "      <th>666</th>\n",
              "      <td>3.882</td>\n",
              "      <td>-2.276305</td>\n",
              "      <td>4.425476</td>\n",
              "      <td>4.274805</td>\n",
              "      <td>0.270270</td>\n",
              "      <td>-32.284526</td>\n",
              "    </tr>\n",
              "    <tr>\n",
              "      <th>667</th>\n",
              "      <td>3.812</td>\n",
              "      <td>-1.918441</td>\n",
              "      <td>4.430122</td>\n",
              "      <td>4.268551</td>\n",
              "      <td>0.259646</td>\n",
              "      <td>-37.063364</td>\n",
              "    </tr>\n",
              "    <tr>\n",
              "      <th>668</th>\n",
              "      <td>3.916</td>\n",
              "      <td>-1.783569</td>\n",
              "      <td>4.435340</td>\n",
              "      <td>4.263787</td>\n",
              "      <td>0.250629</td>\n",
              "      <td>-29.903937</td>\n",
              "    </tr>\n",
              "    <tr>\n",
              "      <th>669</th>\n",
              "      <td>4.079</td>\n",
              "      <td>-1.109079</td>\n",
              "      <td>4.440667</td>\n",
              "      <td>4.261290</td>\n",
              "      <td>0.243909</td>\n",
              "      <td>-18.752906</td>\n",
              "    </tr>\n",
              "    <tr>\n",
              "      <th>670</th>\n",
              "      <td>4.249</td>\n",
              "      <td>-2.016429</td>\n",
              "      <td>4.446769</td>\n",
              "      <td>4.261124</td>\n",
              "      <td>0.239499</td>\n",
              "      <td>-7.231114</td>\n",
              "    </tr>\n",
              "    <tr>\n",
              "      <th>671</th>\n",
              "      <td>4.857</td>\n",
              "      <td>-0.421211</td>\n",
              "      <td>4.457769</td>\n",
              "      <td>4.269176</td>\n",
              "      <td>0.242840</td>\n",
              "      <td>33.931293</td>\n",
              "    </tr>\n",
              "    <tr>\n",
              "      <th>672</th>\n",
              "      <td>4.270</td>\n",
              "      <td>-0.155437</td>\n",
              "      <td>4.464701</td>\n",
              "      <td>4.269187</td>\n",
              "      <td>0.238607</td>\n",
              "      <td>-6.659853</td>\n",
              "    </tr>\n",
              "    <tr>\n",
              "      <th>673</th>\n",
              "      <td>4.262</td>\n",
              "      <td>-2.119159</td>\n",
              "      <td>4.471565</td>\n",
              "      <td>4.269090</td>\n",
              "      <td>0.234356</td>\n",
              "      <td>-7.436108</td>\n",
              "    </tr>\n",
              "    <tr>\n",
              "      <th>674</th>\n",
              "      <td>4.283</td>\n",
              "      <td>-1.949186</td>\n",
              "      <td>4.478830</td>\n",
              "      <td>4.269278</td>\n",
              "      <td>0.230456</td>\n",
              "      <td>-6.245057</td>\n",
              "    </tr>\n",
              "    <tr>\n",
              "      <th>675</th>\n",
              "      <td>4.031</td>\n",
              "      <td>-2.028889</td>\n",
              "      <td>4.484544</td>\n",
              "      <td>4.266058</td>\n",
              "      <td>0.223454</td>\n",
              "      <td>-23.607601</td>\n",
              "    </tr>\n",
              "    <tr>\n",
              "      <th>676</th>\n",
              "      <td>3.802</td>\n",
              "      <td>-2.385816</td>\n",
              "      <td>4.488245</td>\n",
              "      <td>4.259787</td>\n",
              "      <td>0.213749</td>\n",
              "      <td>-39.232780</td>\n",
              "    </tr>\n",
              "    <tr>\n",
              "      <th>677</th>\n",
              "      <td>3.999</td>\n",
              "      <td>-2.774242</td>\n",
              "      <td>4.492776</td>\n",
              "      <td>4.256263</td>\n",
              "      <td>0.206803</td>\n",
              "      <td>-25.752722</td>\n",
              "    </tr>\n",
              "    <tr>\n",
              "      <th>678</th>\n",
              "      <td>4.027</td>\n",
              "      <td>-3.229488</td>\n",
              "      <td>4.496918</td>\n",
              "      <td>4.253165</td>\n",
              "      <td>0.200394</td>\n",
              "      <td>-23.865484</td>\n",
              "    </tr>\n",
              "    <tr>\n",
              "      <th>679</th>\n",
              "      <td>4.053</td>\n",
              "      <td>-3.609755</td>\n",
              "      <td>4.500707</td>\n",
              "      <td>4.250460</td>\n",
              "      <td>0.194480</td>\n",
              "      <td>-22.117075</td>\n",
              "    </tr>\n",
              "    <tr>\n",
              "      <th>680</th>\n",
              "      <td>4.277</td>\n",
              "      <td>-3.363019</td>\n",
              "      <td>4.505361</td>\n",
              "      <td>4.250819</td>\n",
              "      <td>0.191542</td>\n",
              "      <td>-6.926964</td>\n",
              "    </tr>\n",
              "    <tr>\n",
              "      <th>681</th>\n",
              "      <td>6.265</td>\n",
              "      <td>-3.870843</td>\n",
              "      <td>4.523286</td>\n",
              "      <td>4.278037</td>\n",
              "      <td>0.213704</td>\n",
              "      <td>90.868540</td>\n",
              "    </tr>\n",
              "    <tr>\n",
              "      <th>682</th>\n",
              "      <td>4.639</td>\n",
              "      <td>0.568304</td>\n",
              "      <td>4.530014</td>\n",
              "      <td>4.282915</td>\n",
              "      <td>0.214565</td>\n",
              "      <td>15.831443</td>\n",
              "    </tr>\n",
              "    <tr>\n",
              "      <th>683</th>\n",
              "      <td>4.874</td>\n",
              "      <td>-1.291549</td>\n",
              "      <td>4.538265</td>\n",
              "      <td>4.290903</td>\n",
              "      <td>0.218302</td>\n",
              "      <td>31.220335</td>\n",
              "    </tr>\n",
              "    <tr>\n",
              "      <th>684</th>\n",
              "      <td>4.751</td>\n",
              "      <td>-1.548319</td>\n",
              "      <td>4.545415</td>\n",
              "      <td>4.297120</td>\n",
              "      <td>0.220305</td>\n",
              "      <td>22.373609</td>\n",
              "    </tr>\n",
              "    <tr>\n",
              "      <th>685</th>\n",
              "      <td>5.501</td>\n",
              "      <td>1.098586</td>\n",
              "      <td>4.558095</td>\n",
              "      <td>4.313389</td>\n",
              "      <td>0.231634</td>\n",
              "      <td>72.045978</td>\n",
              "    </tr>\n",
              "    <tr>\n",
              "      <th>686</th>\n",
              "      <td>4.888</td>\n",
              "      <td>-0.674030</td>\n",
              "      <td>4.566884</td>\n",
              "      <td>4.321154</td>\n",
              "      <td>0.234792</td>\n",
              "      <td>29.971576</td>\n",
              "    </tr>\n",
              "    <tr>\n",
              "      <th>687</th>\n",
              "      <td>4.572</td>\n",
              "      <td>-1.395768</td>\n",
              "      <td>4.572898</td>\n",
              "      <td>4.324544</td>\n",
              "      <td>0.233799</td>\n",
              "      <td>8.313343</td>\n",
              "    </tr>\n",
              "    <tr>\n",
              "      <th>688</th>\n",
              "      <td>4.232</td>\n",
              "      <td>-0.960663</td>\n",
              "      <td>4.576694</td>\n",
              "      <td>4.323293</td>\n",
              "      <td>0.228496</td>\n",
              "      <td>-14.696214</td>\n",
              "    </tr>\n",
              "    <tr>\n",
              "      <th>689</th>\n",
              "      <td>4.248</td>\n",
              "      <td>-1.745619</td>\n",
              "      <td>4.580088</td>\n",
              "      <td>4.322276</td>\n",
              "      <td>0.223518</td>\n",
              "      <td>-13.694029</td>\n",
              "    </tr>\n",
              "    <tr>\n",
              "      <th>690</th>\n",
              "      <td>4.009</td>\n",
              "      <td>-1.857409</td>\n",
              "      <td>4.582218</td>\n",
              "      <td>4.318042</td>\n",
              "      <td>0.215641</td>\n",
              "      <td>-29.738230</td>\n",
              "    </tr>\n",
              "    <tr>\n",
              "      <th>691</th>\n",
              "      <td>3.959</td>\n",
              "      <td>-2.011541</td>\n",
              "      <td>4.584252</td>\n",
              "      <td>4.313190</td>\n",
              "      <td>0.207347</td>\n",
              "      <td>-33.024391</td>\n",
              "    </tr>\n",
              "    <tr>\n",
              "      <th>692</th>\n",
              "      <td>3.941</td>\n",
              "      <td>-1.366529</td>\n",
              "      <td>4.586476</td>\n",
              "      <td>4.308161</td>\n",
              "      <td>0.199057</td>\n",
              "      <td>-34.154409</td>\n",
              "    </tr>\n",
              "    <tr>\n",
              "      <th>693</th>\n",
              "      <td>4.195</td>\n",
              "      <td>-2.001709</td>\n",
              "      <td>4.590020</td>\n",
              "      <td>4.306632</td>\n",
              "      <td>0.194200</td>\n",
              "      <td>-17.084582</td>\n",
              "    </tr>\n",
              "    <tr>\n",
              "      <th>694</th>\n",
              "      <td>4.306</td>\n",
              "      <td>-1.640372</td>\n",
              "      <td>4.593605</td>\n",
              "      <td>4.306623</td>\n",
              "      <td>0.190858</td>\n",
              "      <td>-9.715315</td>\n",
              "    </tr>\n",
              "    <tr>\n",
              "      <th>695</th>\n",
              "      <td>4.717</td>\n",
              "      <td>-1.418629</td>\n",
              "      <td>4.599327</td>\n",
              "      <td>4.312169</td>\n",
              "      <td>0.192760</td>\n",
              "      <td>17.589804</td>\n",
              "    </tr>\n",
              "    <tr>\n",
              "      <th>696</th>\n",
              "      <td>4.486</td>\n",
              "      <td>-1.952035</td>\n",
              "      <td>4.602912</td>\n",
              "      <td>4.314518</td>\n",
              "      <td>0.191636</td>\n",
              "      <td>1.835868</td>\n",
              "    </tr>\n",
              "    <tr>\n",
              "      <th>697</th>\n",
              "      <td>4.431</td>\n",
              "      <td>-2.851409</td>\n",
              "      <td>4.605823</td>\n",
              "      <td>4.316092</td>\n",
              "      <td>0.189809</td>\n",
              "      <td>-2.014643</td>\n",
              "    </tr>\n",
              "    <tr>\n",
              "      <th>698</th>\n",
              "      <td>4.498</td>\n",
              "      <td>-3.273760</td>\n",
              "      <td>4.608803</td>\n",
              "      <td>4.318550</td>\n",
              "      <td>0.188840</td>\n",
              "      <td>2.306864</td>\n",
              "    </tr>\n",
              "    <tr>\n",
              "      <th>699</th>\n",
              "      <td>4.623</td>\n",
              "      <td>-3.350522</td>\n",
              "      <td>4.612347</td>\n",
              "      <td>4.322664</td>\n",
              "      <td>0.189430</td>\n",
              "      <td>10.441695</td>\n",
              "    </tr>\n",
              "    <tr>\n",
              "      <th>700</th>\n",
              "      <td>4.568</td>\n",
              "      <td>-3.935017</td>\n",
              "      <td>4.616408</td>\n",
              "      <td>4.325980</td>\n",
              "      <td>0.189258</td>\n",
              "      <td>6.495323</td>\n",
              "    </tr>\n",
              "    <tr>\n",
              "      <th>701</th>\n",
              "      <td>4.470</td>\n",
              "      <td>-1.990958</td>\n",
              "      <td>4.619306</td>\n",
              "      <td>4.327926</td>\n",
              "      <td>0.187809</td>\n",
              "      <td>-0.242484</td>\n",
              "    </tr>\n",
              "    <tr>\n",
              "      <th>702</th>\n",
              "      <td>4.402</td>\n",
              "      <td>-2.137518</td>\n",
              "      <td>4.621639</td>\n",
              "      <td>4.328927</td>\n",
              "      <td>0.185504</td>\n",
              "      <td>-4.912523</td>\n",
              "    </tr>\n",
              "    <tr>\n",
              "      <th>703</th>\n",
              "      <td>4.573</td>\n",
              "      <td>-2.016613</td>\n",
              "      <td>4.626122</td>\n",
              "      <td>4.332225</td>\n",
              "      <td>0.185385</td>\n",
              "      <td>6.284167</td>\n",
              "    </tr>\n",
              "    <tr>\n",
              "      <th>704</th>\n",
              "      <td>4.762</td>\n",
              "      <td>-1.441270</td>\n",
              "      <td>4.631748</td>\n",
              "      <td>4.338033</td>\n",
              "      <td>0.187603</td>\n",
              "      <td>18.536201</td>\n",
              "    </tr>\n",
              "    <tr>\n",
              "      <th>705</th>\n",
              "      <td>4.722</td>\n",
              "      <td>-1.558518</td>\n",
              "      <td>4.636476</td>\n",
              "      <td>4.343222</td>\n",
              "      <td>0.189194</td>\n",
              "      <td>15.511733</td>\n",
              "    </tr>\n",
              "    <tr>\n",
              "      <th>706</th>\n",
              "      <td>5.016</td>\n",
              "      <td>-1.774012</td>\n",
              "      <td>4.642313</td>\n",
              "      <td>4.352313</td>\n",
              "      <td>0.194386</td>\n",
              "      <td>34.599790</td>\n",
              "    </tr>\n",
              "    <tr>\n",
              "      <th>707</th>\n",
              "      <td>4.833</td>\n",
              "      <td>-1.694989</td>\n",
              "      <td>4.647027</td>\n",
              "      <td>4.358809</td>\n",
              "      <td>0.197045</td>\n",
              "      <td>21.991202</td>\n",
              "    </tr>\n",
              "    <tr>\n",
              "      <th>708</th>\n",
              "      <td>4.527</td>\n",
              "      <td>-1.199864</td>\n",
              "      <td>4.649701</td>\n",
              "      <td>4.361082</td>\n",
              "      <td>0.195706</td>\n",
              "      <td>1.438861</td>\n",
              "    </tr>\n",
              "    <tr>\n",
              "      <th>709</th>\n",
              "      <td>4.526</td>\n",
              "      <td>-2.396420</td>\n",
              "      <td>4.652871</td>\n",
              "      <td>4.363310</td>\n",
              "      <td>0.194350</td>\n",
              "      <td>1.191819</td>\n",
              "    </tr>\n",
              "    <tr>\n",
              "      <th>710</th>\n",
              "      <td>4.631</td>\n",
              "      <td>-2.616343</td>\n",
              "      <td>4.656558</td>\n",
              "      <td>4.366928</td>\n",
              "      <td>0.194314</td>\n",
              "      <td>7.929785</td>\n",
              "    </tr>\n",
              "    <tr>\n",
              "      <th>711</th>\n",
              "      <td>4.725</td>\n",
              "      <td>-2.570161</td>\n",
              "      <td>4.661088</td>\n",
              "      <td>4.371767</td>\n",
              "      <td>0.195413</td>\n",
              "      <td>13.854255</td>\n",
              "    </tr>\n",
              "  </tbody>\n",
              "</table>\n",
              "</div>"
            ],
            "text/plain": [
              "     Close    Volume       SMA       EMA      MACD     Custom\n",
              "662  3.561 -1.830119  4.406374  4.302110  0.317233 -54.653066\n",
              "663  3.730 -2.431006  4.411061  4.294379  0.304265 -42.919384\n",
              "664  3.815 -2.248114  4.415946  4.287901  0.292733 -37.012832\n",
              "665  3.717 -1.666339  4.420347  4.280186  0.280285 -43.670882\n",
              "666  3.882 -2.276305  4.425476  4.274805  0.270270 -32.284526\n",
              "667  3.812 -1.918441  4.430122  4.268551  0.259646 -37.063364\n",
              "668  3.916 -1.783569  4.435340  4.263787  0.250629 -29.903937\n",
              "669  4.079 -1.109079  4.440667  4.261290  0.243909 -18.752906\n",
              "670  4.249 -2.016429  4.446769  4.261124  0.239499  -7.231114\n",
              "671  4.857 -0.421211  4.457769  4.269176  0.242840  33.931293\n",
              "672  4.270 -0.155437  4.464701  4.269187  0.238607  -6.659853\n",
              "673  4.262 -2.119159  4.471565  4.269090  0.234356  -7.436108\n",
              "674  4.283 -1.949186  4.478830  4.269278  0.230456  -6.245057\n",
              "675  4.031 -2.028889  4.484544  4.266058  0.223454 -23.607601\n",
              "676  3.802 -2.385816  4.488245  4.259787  0.213749 -39.232780\n",
              "677  3.999 -2.774242  4.492776  4.256263  0.206803 -25.752722\n",
              "678  4.027 -3.229488  4.496918  4.253165  0.200394 -23.865484\n",
              "679  4.053 -3.609755  4.500707  4.250460  0.194480 -22.117075\n",
              "680  4.277 -3.363019  4.505361  4.250819  0.191542  -6.926964\n",
              "681  6.265 -3.870843  4.523286  4.278037  0.213704  90.868540\n",
              "682  4.639  0.568304  4.530014  4.282915  0.214565  15.831443\n",
              "683  4.874 -1.291549  4.538265  4.290903  0.218302  31.220335\n",
              "684  4.751 -1.548319  4.545415  4.297120  0.220305  22.373609\n",
              "685  5.501  1.098586  4.558095  4.313389  0.231634  72.045978\n",
              "686  4.888 -0.674030  4.566884  4.321154  0.234792  29.971576\n",
              "687  4.572 -1.395768  4.572898  4.324544  0.233799   8.313343\n",
              "688  4.232 -0.960663  4.576694  4.323293  0.228496 -14.696214\n",
              "689  4.248 -1.745619  4.580088  4.322276  0.223518 -13.694029\n",
              "690  4.009 -1.857409  4.582218  4.318042  0.215641 -29.738230\n",
              "691  3.959 -2.011541  4.584252  4.313190  0.207347 -33.024391\n",
              "692  3.941 -1.366529  4.586476  4.308161  0.199057 -34.154409\n",
              "693  4.195 -2.001709  4.590020  4.306632  0.194200 -17.084582\n",
              "694  4.306 -1.640372  4.593605  4.306623  0.190858  -9.715315\n",
              "695  4.717 -1.418629  4.599327  4.312169  0.192760  17.589804\n",
              "696  4.486 -1.952035  4.602912  4.314518  0.191636   1.835868\n",
              "697  4.431 -2.851409  4.605823  4.316092  0.189809  -2.014643\n",
              "698  4.498 -3.273760  4.608803  4.318550  0.188840   2.306864\n",
              "699  4.623 -3.350522  4.612347  4.322664  0.189430  10.441695\n",
              "700  4.568 -3.935017  4.616408  4.325980  0.189258   6.495323\n",
              "701  4.470 -1.990958  4.619306  4.327926  0.187809  -0.242484\n",
              "702  4.402 -2.137518  4.621639  4.328927  0.185504  -4.912523\n",
              "703  4.573 -2.016613  4.626122  4.332225  0.185385   6.284167\n",
              "704  4.762 -1.441270  4.631748  4.338033  0.187603  18.536201\n",
              "705  4.722 -1.558518  4.636476  4.343222  0.189194  15.511733\n",
              "706  5.016 -1.774012  4.642313  4.352313  0.194386  34.599790\n",
              "707  4.833 -1.694989  4.647027  4.358809  0.197045  21.991202\n",
              "708  4.527 -1.199864  4.649701  4.361082  0.195706   1.438861\n",
              "709  4.526 -2.396420  4.652871  4.363310  0.194350   1.191819\n",
              "710  4.631 -2.616343  4.656558  4.366928  0.194314   7.929785\n",
              "711  4.725 -2.570161  4.661088  4.371767  0.195413  13.854255"
            ]
          },
          "execution_count": 49,
          "metadata": {},
          "output_type": "execute_result"
        }
      ],
      "source": [
        "test.iloc[-50:, :]"
      ]
    },
    {
      "cell_type": "markdown",
      "metadata": {
        "id": "rKQTdDPTSGe4"
      },
      "source": [
        "## CNN LSTM"
      ]
    },
    {
      "cell_type": "code",
      "execution_count": null,
      "metadata": {
        "id": "OGnU3XvbSJQq"
      },
      "outputs": [],
      "source": [
        "from tensorflow.keras import Sequential\n",
        "from tensorflow.keras.layers import LSTM, Dense, Dropout, TimeDistributed, Conv1D, MaxPooling1D, Flatten, Bidirectional, Input, Flatten, Activation, Reshape, RepeatVector, Concatenate\n",
        "from tensorflow.keras.models import Model"
      ]
    },
    {
      "cell_type": "code",
      "execution_count": null,
      "metadata": {
        "colab": {
          "base_uri": "https://localhost:8080/"
        },
        "id": "1rPFiKAOTZ3R",
        "outputId": "dcb33ca1-7d66-4449-c575-18103611514f"
      },
      "outputs": [
        {
          "name": "stdout",
          "output_type": "stream",
          "text": [
            "WARNING:tensorflow:Layer lstm will not use cuDNN kernels since it doesn't meet the criteria. It will use a generic GPU kernel as fallback when running on GPU.\n"
          ]
        }
      ],
      "source": [
        "model_enc_dec_cnn = Sequential()\n",
        "model_enc_dec_cnn.add(Conv1D(filters=64, kernel_size=3, activation='relu', input_shape=(n_past, n_features)))\n",
        "model_enc_dec_cnn.add(Conv1D(filters=64, kernel_size=3, activation='relu'))\n",
        "model_enc_dec_cnn.add(MaxPooling1D(pool_size=2))\n",
        "model_enc_dec_cnn.add(Flatten())\n",
        "model_enc_dec_cnn.add(RepeatVector(n_future))\n",
        "model_enc_dec_cnn.add(LSTM(200, activation='relu', return_sequences=True))\n",
        "model_enc_dec_cnn.add(TimeDistributed(Dense(100, activation='relu')))\n",
        "model_enc_dec_cnn.add(TimeDistributed(Dense(n_features)))\n",
        "model_enc_dec_cnn.compile(loss='mse', optimizer='adam')"
      ]
    },
    {
      "cell_type": "code",
      "execution_count": null,
      "metadata": {
        "colab": {
          "background_save": true,
          "base_uri": "https://localhost:8080/"
        },
        "id": "ug_qGIofYdXp",
        "outputId": "10eb34f5-1dc5-47da-c0a4-b67c9424b7a7"
      },
      "outputs": [
        {
          "name": "stdout",
          "output_type": "stream",
          "text": [
            "Epoch 1/200\n",
            "50/50 [==============================] - 19s 170ms/step - loss: 6740.7432 - val_loss: 6168.4785\n",
            "Epoch 2/200\n",
            "50/50 [==============================] - 7s 137ms/step - loss: 3589.6902 - val_loss: 4294.2739\n",
            "Epoch 3/200\n",
            "39/50 [======================>.......] - ETA: 1s - loss: 3120.0469"
          ]
        }
      ],
      "source": [
        "history_cnn_lstm=model_enc_dec_cnn.fit(X_train,y_train,epochs=200,validation_data=(X_test,y_test),batch_size=32,verbose=1)"
      ]
    },
    {
      "cell_type": "code",
      "execution_count": null,
      "metadata": {
        "id": "8TFfwpBzxz18"
      },
      "outputs": [],
      "source": [
        "init_test = np.expand_dims(X_test[0], axis=0)\n",
        "for i in range(10):\n",
        "  pred_init = model_enc_dec_cnn.predict(init_test[:,-50:,:])\n",
        "  init_test = np.concatenate((init_test, pred_init), axis = 1)\n"
      ]
    },
    {
      "cell_type": "code",
      "execution_count": null,
      "metadata": {
        "colab": {
          "base_uri": "https://localhost:8080/"
        },
        "id": "0VPWNrFNahU9",
        "outputId": "a235ebe7-ca58-483f-a2f7-1e84e8c68e0d"
      },
      "outputs": [
        {
          "data": {
            "text/plain": [
              "0.7589559458214895"
            ]
          },
          "execution_count": 36,
          "metadata": {},
          "output_type": "execute_result"
        }
      ],
      "source": [
        "#MSE\n",
        "y_god = np.expand_dims(y_test[:350, 0, 0], axis=0)\n",
        "pred_god = init_test[:, :, 0]\n",
        "mean_absolute_error(y_god, pred_god)"
      ]
    },
    {
      "cell_type": "code",
      "execution_count": null,
      "metadata": {
        "id": "Q_4-sHprx78V"
      },
      "outputs": [],
      "source": [
        "test_index = []\n",
        "for i in range(1661, 2011):\n",
        "  test_index.append(i)"
      ]
    },
    {
      "cell_type": "code",
      "execution_count": null,
      "metadata": {
        "colab": {
          "base_uri": "https://localhost:8080/",
          "height": 438
        },
        "id": "pF-c-ctqyDDU",
        "outputId": "e7e2ebfb-48cf-4f07-f938-58f22c84da46"
      },
      "outputs": [
        {
          "data": {
            "image/png": "[encoded data removed]",
            "text/plain": [
              "<Figure size 1200x500 with 1 Axes>"
            ]
          },
          "metadata": {},
          "output_type": "display_data"
        }
      ],
      "source": [
        "fc = pd.Series(y_god[0], index=test_index)\n",
        "fc1 = pd.Series(pred_god[0], index=test_index)\n",
        "\n",
        "plt.figure(figsize=(12,5), dpi=100)\n",
        "plt.plot(train['Close'])\n",
        "plt.plot(fc1)\n",
        "plt.plot(fc)\n",
        "plt.show()"
      ]
    },
    {
      "cell_type": "code",
      "execution_count": null,
      "metadata": {
        "id": "Kzs0Ye4vCHYO"
      },
      "outputs": [],
      "source": [
        "model_enc_dec_cnn.save(\"/content/drive/MyDrive/SIH- Hack Inversion/Coding/Models/cnn_lstm_v1.h5\")"
      ]
    }
  ],
  "metadata": {
    "accelerator": "GPU",
    "colab": {
      "collapsed_sections": [
        "5HshgHy4KFsd",
        "UAd8tpQDwZ_9",
        "DqZEZoCzMOaf",
        "rKQTdDPTSGe4"
      ],
      "name": "LSTM forecasting gmail.ipynb",
      "provenance": []
    },
    "kernelspec": {
      "display_name": "Python 3",
      "name": "python3"
    },
    "language_info": {
      "codemirror_mode": {
        "name": "ipython",
        "version": 3
      },
      "file_extension": ".py",
      "mimetype": "text/x-python",
      "name": "python",
      "nbconvert_exporter": "python",
      "pygments_lexer": "ipython3",
      "version": "3.9.10"
    }
  },
  "nbformat": 4,
  "nbformat_minor": 0
}
