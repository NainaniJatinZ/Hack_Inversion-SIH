{
  "nbformat": 4,
  "nbformat_minor": 0,
  "metadata": {
    "colab": {
      "name": "SVM forecasting.ipynb",
      "provenance": [],
      "toc_visible": true,
      "mount_file_id": "1FEV_CgokdS5BLFEmbbw2eKCSSmWdsXiq",
      "authorship_tag": "ABX9TyOdKVZ4c02d5In7UPZWCnhA",
      "include_colab_link": true
    },
    "kernelspec": {
      "name": "python3",
      "display_name": "Python 3"
    },
    "language_info": {
      "name": "python"
    }
  },
  "cells": [
    {
      "cell_type": "markdown",
      "metadata": {
        "id": "view-in-github",
        "colab_type": "text"
      },
      "source": [
        "<a href=\"https://colab.research.google.com/github/NainaniJatinZ/Hack_Inversion-SIH/blob/main/Notebooks/Forecasting/SVM_forecasting.ipynb\" target=\"_parent\"><img src=\"https://colab.research.google.com/assets/colab-badge.svg\" alt=\"Open In Colab\"/></a>"
      ]
    },
    {
      "cell_type": "markdown",
      "source": [
        "# Imports"
      ],
      "metadata": {
        "id": "L4hOCPusjyot"
      }
    },
    {
      "cell_type": "code",
      "execution_count": 48,
      "metadata": {
        "id": "scnxTPzjNyz8"
      },
      "outputs": [],
      "source": [
        "import numpy as np\n",
        "from keras.models import Sequential\n",
        "from keras.layers import LSTM\n",
        "from keras.layers import Dense\n",
        "from keras.layers import RepeatVector\n",
        "from keras.layers import TimeDistributed\n",
        "import pandas as pd\n",
        "import numpy as np\n",
        "import matplotlib.pyplot as plt\n",
        "import matplotlib.dates as mdates\n",
        "import datetime as dt\n",
        "from matplotlib.pyplot import figure\n",
        "import pandas as pd\n",
        "# import yfinance\n",
        "# from mpl_finance import candlestick_ohlc\n",
        "import time\n",
        "from datetime import datetime\n",
        "import math\n",
        "from sklearn.metrics import mean_absolute_error\n",
        "from sklearn.preprocessing import MinMaxScaler"
      ]
    },
    {
      "cell_type": "code",
      "source": [
        "from google.colab import drive\n",
        "drive.mount('/content/drive')"
      ],
      "metadata": {
        "colab": {
          "base_uri": "https://localhost:8080/"
        },
        "id": "f6-DlRGRN49p",
        "outputId": "e2a00e39-d095-4de5-a9df-b349c29ed734"
      },
      "execution_count": 2,
      "outputs": [
        {
          "output_type": "stream",
          "name": "stdout",
          "text": [
            "Mounted at /content/drive\n"
          ]
        }
      ]
    },
    {
      "cell_type": "markdown",
      "source": [
        "# Data "
      ],
      "metadata": {
        "id": "IFuDEeymj1Pz"
      }
    },
    {
      "cell_type": "code",
      "source": [
        "fret = pd.read_csv('/content/drive/MyDrive/SIH- Hack Inversion/Coding/data/nymex_4ind.csv')\n",
        "fret.head()"
      ],
      "metadata": {
        "colab": {
          "base_uri": "https://localhost:8080/",
          "height": 206
        },
        "id": "9x7yV9pRQdCo",
        "outputId": "bbc45089-03ea-415d-a197-a4fbe1de19f8"
      },
      "execution_count": 54,
      "outputs": [
        {
          "output_type": "execute_result",
          "data": {
            "text/plain": [
              "   Unnamed: 0        Date  Close    Volume   Open   High    Low  SMA  EMA  \\\n",
              "0           0  2012-03-12  2.269   82299.0  2.272  2.289  2.235  0.0  0.0   \n",
              "1           1  2012-03-13  2.299  114622.0  2.270  2.338  2.207  0.0  0.0   \n",
              "2           2  2012-03-14  2.284  120435.0  2.329  2.343  2.248  0.0  0.0   \n",
              "3           3  2012-03-15  2.279  117788.0  2.275  2.331  2.234  0.0  0.0   \n",
              "4           4  2012-03-16  2.326  112037.0  2.267  2.349  2.247  0.0  0.0   \n",
              "\n",
              "   MACD    DateTime  Custom  \n",
              "0   0.0  2012-03-12   100.0  \n",
              "1   0.0  2012-03-13   100.0  \n",
              "2   0.0  2012-03-14   100.0  \n",
              "3   0.0  2012-03-15   100.0  \n",
              "4   0.0  2012-03-16   100.0  "
            ],
            "text/html": [
              "\n",
              "  <div id=\"df-61daa43e-97e1-43d6-aef7-2e6fa21fc322\">\n",
              "    <div class=\"colab-df-container\">\n",
              "      <div>\n",
              "<style scoped>\n",
              "    .dataframe tbody tr th:only-of-type {\n",
              "        vertical-align: middle;\n",
              "    }\n",
              "\n",
              "    .dataframe tbody tr th {\n",
              "        vertical-align: top;\n",
              "    }\n",
              "\n",
              "    .dataframe thead th {\n",
              "        text-align: right;\n",
              "    }\n",
              "</style>\n",
              "<table border=\"1\" class=\"dataframe\">\n",
              "  <thead>\n",
              "    <tr style=\"text-align: right;\">\n",
              "      <th></th>\n",
              "      <th>Unnamed: 0</th>\n",
              "      <th>Date</th>\n",
              "      <th>Close</th>\n",
              "      <th>Volume</th>\n",
              "      <th>Open</th>\n",
              "      <th>High</th>\n",
              "      <th>Low</th>\n",
              "      <th>SMA</th>\n",
              "      <th>EMA</th>\n",
              "      <th>MACD</th>\n",
              "      <th>DateTime</th>\n",
              "      <th>Custom</th>\n",
              "    </tr>\n",
              "  </thead>\n",
              "  <tbody>\n",
              "    <tr>\n",
              "      <th>0</th>\n",
              "      <td>0</td>\n",
              "      <td>2012-03-12</td>\n",
              "      <td>2.269</td>\n",
              "      <td>82299.0</td>\n",
              "      <td>2.272</td>\n",
              "      <td>2.289</td>\n",
              "      <td>2.235</td>\n",
              "      <td>0.0</td>\n",
              "      <td>0.0</td>\n",
              "      <td>0.0</td>\n",
              "      <td>2012-03-12</td>\n",
              "      <td>100.0</td>\n",
              "    </tr>\n",
              "    <tr>\n",
              "      <th>1</th>\n",
              "      <td>1</td>\n",
              "      <td>2012-03-13</td>\n",
              "      <td>2.299</td>\n",
              "      <td>114622.0</td>\n",
              "      <td>2.270</td>\n",
              "      <td>2.338</td>\n",
              "      <td>2.207</td>\n",
              "      <td>0.0</td>\n",
              "      <td>0.0</td>\n",
              "      <td>0.0</td>\n",
              "      <td>2012-03-13</td>\n",
              "      <td>100.0</td>\n",
              "    </tr>\n",
              "    <tr>\n",
              "      <th>2</th>\n",
              "      <td>2</td>\n",
              "      <td>2012-03-14</td>\n",
              "      <td>2.284</td>\n",
              "      <td>120435.0</td>\n",
              "      <td>2.329</td>\n",
              "      <td>2.343</td>\n",
              "      <td>2.248</td>\n",
              "      <td>0.0</td>\n",
              "      <td>0.0</td>\n",
              "      <td>0.0</td>\n",
              "      <td>2012-03-14</td>\n",
              "      <td>100.0</td>\n",
              "    </tr>\n",
              "    <tr>\n",
              "      <th>3</th>\n",
              "      <td>3</td>\n",
              "      <td>2012-03-15</td>\n",
              "      <td>2.279</td>\n",
              "      <td>117788.0</td>\n",
              "      <td>2.275</td>\n",
              "      <td>2.331</td>\n",
              "      <td>2.234</td>\n",
              "      <td>0.0</td>\n",
              "      <td>0.0</td>\n",
              "      <td>0.0</td>\n",
              "      <td>2012-03-15</td>\n",
              "      <td>100.0</td>\n",
              "    </tr>\n",
              "    <tr>\n",
              "      <th>4</th>\n",
              "      <td>4</td>\n",
              "      <td>2012-03-16</td>\n",
              "      <td>2.326</td>\n",
              "      <td>112037.0</td>\n",
              "      <td>2.267</td>\n",
              "      <td>2.349</td>\n",
              "      <td>2.247</td>\n",
              "      <td>0.0</td>\n",
              "      <td>0.0</td>\n",
              "      <td>0.0</td>\n",
              "      <td>2012-03-16</td>\n",
              "      <td>100.0</td>\n",
              "    </tr>\n",
              "  </tbody>\n",
              "</table>\n",
              "</div>\n",
              "      <button class=\"colab-df-convert\" onclick=\"convertToInteractive('df-61daa43e-97e1-43d6-aef7-2e6fa21fc322')\"\n",
              "              title=\"Convert this dataframe to an interactive table.\"\n",
              "              style=\"display:none;\">\n",
              "        \n",
              "  <svg xmlns=\"http://www.w3.org/2000/svg\" height=\"24px\"viewBox=\"0 0 24 24\"\n",
              "       width=\"24px\">\n",
              "    <path d=\"M0 0h24v24H0V0z\" fill=\"none\"/>\n",
              "    <path d=\"M18.56 5.44l.94 2.06.94-2.06 2.06-.94-2.06-.94-.94-2.06-.94 2.06-2.06.94zm-11 1L8.5 8.5l.94-2.06 2.06-.94-2.06-.94L8.5 2.5l-.94 2.06-2.06.94zm10 10l.94 2.06.94-2.06 2.06-.94-2.06-.94-.94-2.06-.94 2.06-2.06.94z\"/><path d=\"M17.41 7.96l-1.37-1.37c-.4-.4-.92-.59-1.43-.59-.52 0-1.04.2-1.43.59L10.3 9.45l-7.72 7.72c-.78.78-.78 2.05 0 2.83L4 21.41c.39.39.9.59 1.41.59.51 0 1.02-.2 1.41-.59l7.78-7.78 2.81-2.81c.8-.78.8-2.07 0-2.86zM5.41 20L4 18.59l7.72-7.72 1.47 1.35L5.41 20z\"/>\n",
              "  </svg>\n",
              "      </button>\n",
              "      \n",
              "  <style>\n",
              "    .colab-df-container {\n",
              "      display:flex;\n",
              "      flex-wrap:wrap;\n",
              "      gap: 12px;\n",
              "    }\n",
              "\n",
              "    .colab-df-convert {\n",
              "      background-color: #E8F0FE;\n",
              "      border: none;\n",
              "      border-radius: 50%;\n",
              "      cursor: pointer;\n",
              "      display: none;\n",
              "      fill: #1967D2;\n",
              "      height: 32px;\n",
              "      padding: 0 0 0 0;\n",
              "      width: 32px;\n",
              "    }\n",
              "\n",
              "    .colab-df-convert:hover {\n",
              "      background-color: #E2EBFA;\n",
              "      box-shadow: 0px 1px 2px rgba(60, 64, 67, 0.3), 0px 1px 3px 1px rgba(60, 64, 67, 0.15);\n",
              "      fill: #174EA6;\n",
              "    }\n",
              "\n",
              "    [theme=dark] .colab-df-convert {\n",
              "      background-color: #3B4455;\n",
              "      fill: #D2E3FC;\n",
              "    }\n",
              "\n",
              "    [theme=dark] .colab-df-convert:hover {\n",
              "      background-color: #434B5C;\n",
              "      box-shadow: 0px 1px 3px 1px rgba(0, 0, 0, 0.15);\n",
              "      filter: drop-shadow(0px 1px 2px rgba(0, 0, 0, 0.3));\n",
              "      fill: #FFFFFF;\n",
              "    }\n",
              "  </style>\n",
              "\n",
              "      <script>\n",
              "        const buttonEl =\n",
              "          document.querySelector('#df-61daa43e-97e1-43d6-aef7-2e6fa21fc322 button.colab-df-convert');\n",
              "        buttonEl.style.display =\n",
              "          google.colab.kernel.accessAllowed ? 'block' : 'none';\n",
              "\n",
              "        async function convertToInteractive(key) {\n",
              "          const element = document.querySelector('#df-61daa43e-97e1-43d6-aef7-2e6fa21fc322');\n",
              "          const dataTable =\n",
              "            await google.colab.kernel.invokeFunction('convertToInteractive',\n",
              "                                                     [key], {});\n",
              "          if (!dataTable) return;\n",
              "\n",
              "          const docLinkHtml = 'Like what you see? Visit the ' +\n",
              "            '<a target=\"_blank\" href=https://colab.research.google.com/notebooks/data_table.ipynb>data table notebook</a>'\n",
              "            + ' to learn more about interactive tables.';\n",
              "          element.innerHTML = '';\n",
              "          dataTable['output_type'] = 'display_data';\n",
              "          await google.colab.output.renderOutput(dataTable, element);\n",
              "          const docLink = document.createElement('div');\n",
              "          docLink.innerHTML = docLinkHtml;\n",
              "          element.appendChild(docLink);\n",
              "        }\n",
              "      </script>\n",
              "    </div>\n",
              "  </div>\n",
              "  "
            ]
          },
          "metadata": {},
          "execution_count": 54
        }
      ]
    },
    {
      "cell_type": "code",
      "source": [
        "fret = fret.drop(columns = ['Unnamed: 0'])\n",
        "fret = fret.fillna(fret.mean())\n",
        "fret.isna().sum()\n",
        "# fret = fret.set_index('Date')\n",
        "\n",
        "# train_df,test_df = fret[501:], fret[:500] \n",
        "# train_df=train_df.reindex(index=train_df.index[::-1])[181:]\n",
        "# test_df = test_df.reindex(index=test_df.index[::-1])"
      ],
      "metadata": {
        "colab": {
          "base_uri": "https://localhost:8080/"
        },
        "id": "lpv6-_q0RDDP",
        "outputId": "8fefbaf2-1200-4dbf-d307-c3288756bbb3"
      },
      "execution_count": 55,
      "outputs": [
        {
          "output_type": "stream",
          "name": "stderr",
          "text": [
            "/usr/local/lib/python3.7/dist-packages/ipykernel_launcher.py:2: FutureWarning: Dropping of nuisance columns in DataFrame reductions (with 'numeric_only=None') is deprecated; in a future version this will raise TypeError.  Select only valid columns before calling the reduction.\n",
            "  \n"
          ]
        },
        {
          "output_type": "execute_result",
          "data": {
            "text/plain": [
              "Date        0\n",
              "Close       0\n",
              "Volume      0\n",
              "Open        0\n",
              "High        0\n",
              "Low         0\n",
              "SMA         0\n",
              "EMA         0\n",
              "MACD        0\n",
              "DateTime    0\n",
              "Custom      0\n",
              "dtype: int64"
            ]
          },
          "metadata": {},
          "execution_count": 55
        }
      ]
    },
    {
      "cell_type": "code",
      "source": [
        "omitted = fret[181:]"
      ],
      "metadata": {
        "id": "G3LuqiqwESot"
      },
      "execution_count": 56,
      "outputs": []
    },
    {
      "cell_type": "code",
      "source": [
        "omitted.head()"
      ],
      "metadata": {
        "colab": {
          "base_uri": "https://localhost:8080/",
          "height": 206
        },
        "id": "ClN3KKhPGABj",
        "outputId": "ca3a510b-3c0e-44a4-8ee9-1e4dc628c1b7"
      },
      "execution_count": 58,
      "outputs": [
        {
          "output_type": "execute_result",
          "data": {
            "text/plain": [
              "           Date  Close         Volume   Open   High    Low       SMA  \\\n",
              "181  2012-11-20  3.832   80570.000000  3.730  3.841  3.725  2.941027   \n",
              "182  2012-11-21  3.903  123661.000000  3.835  3.910  3.786  2.952034   \n",
              "183  2012-11-22  3.903  121511.051917  3.903  3.903  3.903  2.962456   \n",
              "184  2012-11-23  3.901   49151.000000  3.912  3.933  3.830  2.973667   \n",
              "185  2012-11-26  3.730   77693.000000  3.864  3.868  3.704  2.983122   \n",
              "\n",
              "          EMA      MACD    DateTime     Custom  \n",
              "181  2.973668  0.467012  2012-11-20  88.726702  \n",
              "182  2.986227  0.470099  2012-11-21  90.110506  \n",
              "183  2.998615  0.472959  2012-11-22  90.072518  \n",
              "184  3.010810  0.475574  2012-11-23  90.028429  \n",
              "185  3.020529  0.475823  2012-11-26  72.773162  "
            ],
            "text/html": [
              "\n",
              "  <div id=\"df-70679756-42a5-4550-a464-b6410f1d67df\">\n",
              "    <div class=\"colab-df-container\">\n",
              "      <div>\n",
              "<style scoped>\n",
              "    .dataframe tbody tr th:only-of-type {\n",
              "        vertical-align: middle;\n",
              "    }\n",
              "\n",
              "    .dataframe tbody tr th {\n",
              "        vertical-align: top;\n",
              "    }\n",
              "\n",
              "    .dataframe thead th {\n",
              "        text-align: right;\n",
              "    }\n",
              "</style>\n",
              "<table border=\"1\" class=\"dataframe\">\n",
              "  <thead>\n",
              "    <tr style=\"text-align: right;\">\n",
              "      <th></th>\n",
              "      <th>Date</th>\n",
              "      <th>Close</th>\n",
              "      <th>Volume</th>\n",
              "      <th>Open</th>\n",
              "      <th>High</th>\n",
              "      <th>Low</th>\n",
              "      <th>SMA</th>\n",
              "      <th>EMA</th>\n",
              "      <th>MACD</th>\n",
              "      <th>DateTime</th>\n",
              "      <th>Custom</th>\n",
              "    </tr>\n",
              "  </thead>\n",
              "  <tbody>\n",
              "    <tr>\n",
              "      <th>181</th>\n",
              "      <td>2012-11-20</td>\n",
              "      <td>3.832</td>\n",
              "      <td>80570.000000</td>\n",
              "      <td>3.730</td>\n",
              "      <td>3.841</td>\n",
              "      <td>3.725</td>\n",
              "      <td>2.941027</td>\n",
              "      <td>2.973668</td>\n",
              "      <td>0.467012</td>\n",
              "      <td>2012-11-20</td>\n",
              "      <td>88.726702</td>\n",
              "    </tr>\n",
              "    <tr>\n",
              "      <th>182</th>\n",
              "      <td>2012-11-21</td>\n",
              "      <td>3.903</td>\n",
              "      <td>123661.000000</td>\n",
              "      <td>3.835</td>\n",
              "      <td>3.910</td>\n",
              "      <td>3.786</td>\n",
              "      <td>2.952034</td>\n",
              "      <td>2.986227</td>\n",
              "      <td>0.470099</td>\n",
              "      <td>2012-11-21</td>\n",
              "      <td>90.110506</td>\n",
              "    </tr>\n",
              "    <tr>\n",
              "      <th>183</th>\n",
              "      <td>2012-11-22</td>\n",
              "      <td>3.903</td>\n",
              "      <td>121511.051917</td>\n",
              "      <td>3.903</td>\n",
              "      <td>3.903</td>\n",
              "      <td>3.903</td>\n",
              "      <td>2.962456</td>\n",
              "      <td>2.998615</td>\n",
              "      <td>0.472959</td>\n",
              "      <td>2012-11-22</td>\n",
              "      <td>90.072518</td>\n",
              "    </tr>\n",
              "    <tr>\n",
              "      <th>184</th>\n",
              "      <td>2012-11-23</td>\n",
              "      <td>3.901</td>\n",
              "      <td>49151.000000</td>\n",
              "      <td>3.912</td>\n",
              "      <td>3.933</td>\n",
              "      <td>3.830</td>\n",
              "      <td>2.973667</td>\n",
              "      <td>3.010810</td>\n",
              "      <td>0.475574</td>\n",
              "      <td>2012-11-23</td>\n",
              "      <td>90.028429</td>\n",
              "    </tr>\n",
              "    <tr>\n",
              "      <th>185</th>\n",
              "      <td>2012-11-26</td>\n",
              "      <td>3.730</td>\n",
              "      <td>77693.000000</td>\n",
              "      <td>3.864</td>\n",
              "      <td>3.868</td>\n",
              "      <td>3.704</td>\n",
              "      <td>2.983122</td>\n",
              "      <td>3.020529</td>\n",
              "      <td>0.475823</td>\n",
              "      <td>2012-11-26</td>\n",
              "      <td>72.773162</td>\n",
              "    </tr>\n",
              "  </tbody>\n",
              "</table>\n",
              "</div>\n",
              "      <button class=\"colab-df-convert\" onclick=\"convertToInteractive('df-70679756-42a5-4550-a464-b6410f1d67df')\"\n",
              "              title=\"Convert this dataframe to an interactive table.\"\n",
              "              style=\"display:none;\">\n",
              "        \n",
              "  <svg xmlns=\"http://www.w3.org/2000/svg\" height=\"24px\"viewBox=\"0 0 24 24\"\n",
              "       width=\"24px\">\n",
              "    <path d=\"M0 0h24v24H0V0z\" fill=\"none\"/>\n",
              "    <path d=\"M18.56 5.44l.94 2.06.94-2.06 2.06-.94-2.06-.94-.94-2.06-.94 2.06-2.06.94zm-11 1L8.5 8.5l.94-2.06 2.06-.94-2.06-.94L8.5 2.5l-.94 2.06-2.06.94zm10 10l.94 2.06.94-2.06 2.06-.94-2.06-.94-.94-2.06-.94 2.06-2.06.94z\"/><path d=\"M17.41 7.96l-1.37-1.37c-.4-.4-.92-.59-1.43-.59-.52 0-1.04.2-1.43.59L10.3 9.45l-7.72 7.72c-.78.78-.78 2.05 0 2.83L4 21.41c.39.39.9.59 1.41.59.51 0 1.02-.2 1.41-.59l7.78-7.78 2.81-2.81c.8-.78.8-2.07 0-2.86zM5.41 20L4 18.59l7.72-7.72 1.47 1.35L5.41 20z\"/>\n",
              "  </svg>\n",
              "      </button>\n",
              "      \n",
              "  <style>\n",
              "    .colab-df-container {\n",
              "      display:flex;\n",
              "      flex-wrap:wrap;\n",
              "      gap: 12px;\n",
              "    }\n",
              "\n",
              "    .colab-df-convert {\n",
              "      background-color: #E8F0FE;\n",
              "      border: none;\n",
              "      border-radius: 50%;\n",
              "      cursor: pointer;\n",
              "      display: none;\n",
              "      fill: #1967D2;\n",
              "      height: 32px;\n",
              "      padding: 0 0 0 0;\n",
              "      width: 32px;\n",
              "    }\n",
              "\n",
              "    .colab-df-convert:hover {\n",
              "      background-color: #E2EBFA;\n",
              "      box-shadow: 0px 1px 2px rgba(60, 64, 67, 0.3), 0px 1px 3px 1px rgba(60, 64, 67, 0.15);\n",
              "      fill: #174EA6;\n",
              "    }\n",
              "\n",
              "    [theme=dark] .colab-df-convert {\n",
              "      background-color: #3B4455;\n",
              "      fill: #D2E3FC;\n",
              "    }\n",
              "\n",
              "    [theme=dark] .colab-df-convert:hover {\n",
              "      background-color: #434B5C;\n",
              "      box-shadow: 0px 1px 3px 1px rgba(0, 0, 0, 0.15);\n",
              "      filter: drop-shadow(0px 1px 2px rgba(0, 0, 0, 0.3));\n",
              "      fill: #FFFFFF;\n",
              "    }\n",
              "  </style>\n",
              "\n",
              "      <script>\n",
              "        const buttonEl =\n",
              "          document.querySelector('#df-70679756-42a5-4550-a464-b6410f1d67df button.colab-df-convert');\n",
              "        buttonEl.style.display =\n",
              "          google.colab.kernel.accessAllowed ? 'block' : 'none';\n",
              "\n",
              "        async function convertToInteractive(key) {\n",
              "          const element = document.querySelector('#df-70679756-42a5-4550-a464-b6410f1d67df');\n",
              "          const dataTable =\n",
              "            await google.colab.kernel.invokeFunction('convertToInteractive',\n",
              "                                                     [key], {});\n",
              "          if (!dataTable) return;\n",
              "\n",
              "          const docLinkHtml = 'Like what you see? Visit the ' +\n",
              "            '<a target=\"_blank\" href=https://colab.research.google.com/notebooks/data_table.ipynb>data table notebook</a>'\n",
              "            + ' to learn more about interactive tables.';\n",
              "          element.innerHTML = '';\n",
              "          dataTable['output_type'] = 'display_data';\n",
              "          await google.colab.output.renderOutput(dataTable, element);\n",
              "          const docLink = document.createElement('div');\n",
              "          docLink.innerHTML = docLinkHtml;\n",
              "          element.appendChild(docLink);\n",
              "        }\n",
              "      </script>\n",
              "    </div>\n",
              "  </div>\n",
              "  "
            ]
          },
          "metadata": {},
          "execution_count": 58
        }
      ]
    },
    {
      "cell_type": "code",
      "source": [
        "omitted = omitted.drop(columns = ['Date'])\n",
        "omitted = omitted.drop(columns = ['Open'])\n",
        "omitted = omitted.drop(columns = ['Low'])\n",
        "omitted = omitted.drop(columns = ['High'])\n",
        "omitted = omitted.drop(columns = ['DateTime'])\n"
      ],
      "metadata": {
        "id": "3NBp3myYGC35"
      },
      "execution_count": 59,
      "outputs": []
    },
    {
      "cell_type": "code",
      "source": [
        "len(omitted)"
      ],
      "metadata": {
        "colab": {
          "base_uri": "https://localhost:8080/"
        },
        "id": "QJQjYb8zElzU",
        "outputId": "0d6ec9b8-682d-4cba-cef5-d183eae333d2"
      },
      "execution_count": 60,
      "outputs": [
        {
          "output_type": "execute_result",
          "data": {
            "text/plain": [
              "2373"
            ]
          },
          "metadata": {},
          "execution_count": 60
        }
      ]
    },
    {
      "cell_type": "code",
      "source": [
        "train_df, test_df = omitted[:1661], omitted[1661:]"
      ],
      "metadata": {
        "id": "OpnCjMcCE8Yd"
      },
      "execution_count": 61,
      "outputs": []
    },
    {
      "cell_type": "code",
      "source": [
        "train_df"
      ],
      "metadata": {
        "colab": {
          "base_uri": "https://localhost:8080/",
          "height": 423
        },
        "id": "-phYWQGtFUSC",
        "outputId": "8e2652ba-6019-411b-e1d8-47a69a7ba64c"
      },
      "execution_count": 62,
      "outputs": [
        {
          "output_type": "execute_result",
          "data": {
            "text/plain": [
              "      Close         Volume       SMA       EMA      MACD     Custom\n",
              "181   3.832   80570.000000  2.941027  2.973668  0.467012  88.726702\n",
              "182   3.903  123661.000000  2.952034  2.986227  0.470099  90.110506\n",
              "183   3.903  121511.051917  2.962456  2.998615  0.472959  90.072518\n",
              "184   3.901   49151.000000  2.973667  3.010810  0.475574  90.028429\n",
              "185   3.730   77693.000000  2.983122  3.020529  0.475823  72.773162\n",
              "...     ...            ...       ...       ...       ...        ...\n",
              "1837  2.595  113570.000000  3.175952  2.930244 -0.155249 -45.013110\n",
              "1838  2.619  122509.000000  3.171551  2.926038 -0.155903 -42.291581\n",
              "1839  2.621  107626.000000  3.167041  2.921916 -0.156469 -41.729149\n",
              "1840  2.659   87749.000000  3.163211  2.918363 -0.156497 -37.666586\n",
              "1841  2.601  114354.000000  3.159401  2.914074 -0.157215 -43.046631\n",
              "\n",
              "[1661 rows x 6 columns]"
            ],
            "text/html": [
              "\n",
              "  <div id=\"df-8b17a639-ca71-4aa4-bff6-ff184c87cb38\">\n",
              "    <div class=\"colab-df-container\">\n",
              "      <div>\n",
              "<style scoped>\n",
              "    .dataframe tbody tr th:only-of-type {\n",
              "        vertical-align: middle;\n",
              "    }\n",
              "\n",
              "    .dataframe tbody tr th {\n",
              "        vertical-align: top;\n",
              "    }\n",
              "\n",
              "    .dataframe thead th {\n",
              "        text-align: right;\n",
              "    }\n",
              "</style>\n",
              "<table border=\"1\" class=\"dataframe\">\n",
              "  <thead>\n",
              "    <tr style=\"text-align: right;\">\n",
              "      <th></th>\n",
              "      <th>Close</th>\n",
              "      <th>Volume</th>\n",
              "      <th>SMA</th>\n",
              "      <th>EMA</th>\n",
              "      <th>MACD</th>\n",
              "      <th>Custom</th>\n",
              "    </tr>\n",
              "  </thead>\n",
              "  <tbody>\n",
              "    <tr>\n",
              "      <th>181</th>\n",
              "      <td>3.832</td>\n",
              "      <td>80570.000000</td>\n",
              "      <td>2.941027</td>\n",
              "      <td>2.973668</td>\n",
              "      <td>0.467012</td>\n",
              "      <td>88.726702</td>\n",
              "    </tr>\n",
              "    <tr>\n",
              "      <th>182</th>\n",
              "      <td>3.903</td>\n",
              "      <td>123661.000000</td>\n",
              "      <td>2.952034</td>\n",
              "      <td>2.986227</td>\n",
              "      <td>0.470099</td>\n",
              "      <td>90.110506</td>\n",
              "    </tr>\n",
              "    <tr>\n",
              "      <th>183</th>\n",
              "      <td>3.903</td>\n",
              "      <td>121511.051917</td>\n",
              "      <td>2.962456</td>\n",
              "      <td>2.998615</td>\n",
              "      <td>0.472959</td>\n",
              "      <td>90.072518</td>\n",
              "    </tr>\n",
              "    <tr>\n",
              "      <th>184</th>\n",
              "      <td>3.901</td>\n",
              "      <td>49151.000000</td>\n",
              "      <td>2.973667</td>\n",
              "      <td>3.010810</td>\n",
              "      <td>0.475574</td>\n",
              "      <td>90.028429</td>\n",
              "    </tr>\n",
              "    <tr>\n",
              "      <th>185</th>\n",
              "      <td>3.730</td>\n",
              "      <td>77693.000000</td>\n",
              "      <td>2.983122</td>\n",
              "      <td>3.020529</td>\n",
              "      <td>0.475823</td>\n",
              "      <td>72.773162</td>\n",
              "    </tr>\n",
              "    <tr>\n",
              "      <th>...</th>\n",
              "      <td>...</td>\n",
              "      <td>...</td>\n",
              "      <td>...</td>\n",
              "      <td>...</td>\n",
              "      <td>...</td>\n",
              "      <td>...</td>\n",
              "    </tr>\n",
              "    <tr>\n",
              "      <th>1837</th>\n",
              "      <td>2.595</td>\n",
              "      <td>113570.000000</td>\n",
              "      <td>3.175952</td>\n",
              "      <td>2.930244</td>\n",
              "      <td>-0.155249</td>\n",
              "      <td>-45.013110</td>\n",
              "    </tr>\n",
              "    <tr>\n",
              "      <th>1838</th>\n",
              "      <td>2.619</td>\n",
              "      <td>122509.000000</td>\n",
              "      <td>3.171551</td>\n",
              "      <td>2.926038</td>\n",
              "      <td>-0.155903</td>\n",
              "      <td>-42.291581</td>\n",
              "    </tr>\n",
              "    <tr>\n",
              "      <th>1839</th>\n",
              "      <td>2.621</td>\n",
              "      <td>107626.000000</td>\n",
              "      <td>3.167041</td>\n",
              "      <td>2.921916</td>\n",
              "      <td>-0.156469</td>\n",
              "      <td>-41.729149</td>\n",
              "    </tr>\n",
              "    <tr>\n",
              "      <th>1840</th>\n",
              "      <td>2.659</td>\n",
              "      <td>87749.000000</td>\n",
              "      <td>3.163211</td>\n",
              "      <td>2.918363</td>\n",
              "      <td>-0.156497</td>\n",
              "      <td>-37.666586</td>\n",
              "    </tr>\n",
              "    <tr>\n",
              "      <th>1841</th>\n",
              "      <td>2.601</td>\n",
              "      <td>114354.000000</td>\n",
              "      <td>3.159401</td>\n",
              "      <td>2.914074</td>\n",
              "      <td>-0.157215</td>\n",
              "      <td>-43.046631</td>\n",
              "    </tr>\n",
              "  </tbody>\n",
              "</table>\n",
              "<p>1661 rows × 6 columns</p>\n",
              "</div>\n",
              "      <button class=\"colab-df-convert\" onclick=\"convertToInteractive('df-8b17a639-ca71-4aa4-bff6-ff184c87cb38')\"\n",
              "              title=\"Convert this dataframe to an interactive table.\"\n",
              "              style=\"display:none;\">\n",
              "        \n",
              "  <svg xmlns=\"http://www.w3.org/2000/svg\" height=\"24px\"viewBox=\"0 0 24 24\"\n",
              "       width=\"24px\">\n",
              "    <path d=\"M0 0h24v24H0V0z\" fill=\"none\"/>\n",
              "    <path d=\"M18.56 5.44l.94 2.06.94-2.06 2.06-.94-2.06-.94-.94-2.06-.94 2.06-2.06.94zm-11 1L8.5 8.5l.94-2.06 2.06-.94-2.06-.94L8.5 2.5l-.94 2.06-2.06.94zm10 10l.94 2.06.94-2.06 2.06-.94-2.06-.94-.94-2.06-.94 2.06-2.06.94z\"/><path d=\"M17.41 7.96l-1.37-1.37c-.4-.4-.92-.59-1.43-.59-.52 0-1.04.2-1.43.59L10.3 9.45l-7.72 7.72c-.78.78-.78 2.05 0 2.83L4 21.41c.39.39.9.59 1.41.59.51 0 1.02-.2 1.41-.59l7.78-7.78 2.81-2.81c.8-.78.8-2.07 0-2.86zM5.41 20L4 18.59l7.72-7.72 1.47 1.35L5.41 20z\"/>\n",
              "  </svg>\n",
              "      </button>\n",
              "      \n",
              "  <style>\n",
              "    .colab-df-container {\n",
              "      display:flex;\n",
              "      flex-wrap:wrap;\n",
              "      gap: 12px;\n",
              "    }\n",
              "\n",
              "    .colab-df-convert {\n",
              "      background-color: #E8F0FE;\n",
              "      border: none;\n",
              "      border-radius: 50%;\n",
              "      cursor: pointer;\n",
              "      display: none;\n",
              "      fill: #1967D2;\n",
              "      height: 32px;\n",
              "      padding: 0 0 0 0;\n",
              "      width: 32px;\n",
              "    }\n",
              "\n",
              "    .colab-df-convert:hover {\n",
              "      background-color: #E2EBFA;\n",
              "      box-shadow: 0px 1px 2px rgba(60, 64, 67, 0.3), 0px 1px 3px 1px rgba(60, 64, 67, 0.15);\n",
              "      fill: #174EA6;\n",
              "    }\n",
              "\n",
              "    [theme=dark] .colab-df-convert {\n",
              "      background-color: #3B4455;\n",
              "      fill: #D2E3FC;\n",
              "    }\n",
              "\n",
              "    [theme=dark] .colab-df-convert:hover {\n",
              "      background-color: #434B5C;\n",
              "      box-shadow: 0px 1px 3px 1px rgba(0, 0, 0, 0.15);\n",
              "      filter: drop-shadow(0px 1px 2px rgba(0, 0, 0, 0.3));\n",
              "      fill: #FFFFFF;\n",
              "    }\n",
              "  </style>\n",
              "\n",
              "      <script>\n",
              "        const buttonEl =\n",
              "          document.querySelector('#df-8b17a639-ca71-4aa4-bff6-ff184c87cb38 button.colab-df-convert');\n",
              "        buttonEl.style.display =\n",
              "          google.colab.kernel.accessAllowed ? 'block' : 'none';\n",
              "\n",
              "        async function convertToInteractive(key) {\n",
              "          const element = document.querySelector('#df-8b17a639-ca71-4aa4-bff6-ff184c87cb38');\n",
              "          const dataTable =\n",
              "            await google.colab.kernel.invokeFunction('convertToInteractive',\n",
              "                                                     [key], {});\n",
              "          if (!dataTable) return;\n",
              "\n",
              "          const docLinkHtml = 'Like what you see? Visit the ' +\n",
              "            '<a target=\"_blank\" href=https://colab.research.google.com/notebooks/data_table.ipynb>data table notebook</a>'\n",
              "            + ' to learn more about interactive tables.';\n",
              "          element.innerHTML = '';\n",
              "          dataTable['output_type'] = 'display_data';\n",
              "          await google.colab.output.renderOutput(dataTable, element);\n",
              "          const docLink = document.createElement('div');\n",
              "          docLink.innerHTML = docLinkHtml;\n",
              "          element.appendChild(docLink);\n",
              "        }\n",
              "      </script>\n",
              "    </div>\n",
              "  </div>\n",
              "  "
            ]
          },
          "metadata": {},
          "execution_count": 62
        }
      ]
    },
    {
      "cell_type": "code",
      "source": [
        "train = train_df\n",
        "scaler = MinMaxScaler(feature_range=(-4,4))\n",
        "s_s = scaler.fit_transform(train['Volume'].values.reshape(-1,1))\n",
        "s_s=np.reshape(s_s,len(s_s))\n",
        "train['Volume']=s_s\n",
        "test = test_df\n",
        "s_s = scaler.transform(test['Volume'].values.reshape(-1,1))\n",
        "s_s=np.reshape(s_s,len(s_s))\n",
        "test['Volume']=s_s"
      ],
      "metadata": {
        "id": "nP-lnQbARMYn",
        "colab": {
          "base_uri": "https://localhost:8080/"
        },
        "outputId": "e5725cdd-f9ce-468b-9d5e-fc7d17944e29"
      },
      "execution_count": 63,
      "outputs": [
        {
          "output_type": "stream",
          "name": "stderr",
          "text": [
            "/usr/local/lib/python3.7/dist-packages/ipykernel_launcher.py:5: SettingWithCopyWarning: \n",
            "A value is trying to be set on a copy of a slice from a DataFrame.\n",
            "Try using .loc[row_indexer,col_indexer] = value instead\n",
            "\n",
            "See the caveats in the documentation: https://pandas.pydata.org/pandas-docs/stable/user_guide/indexing.html#returning-a-view-versus-a-copy\n",
            "  \"\"\"\n",
            "/usr/local/lib/python3.7/dist-packages/ipykernel_launcher.py:9: SettingWithCopyWarning: \n",
            "A value is trying to be set on a copy of a slice from a DataFrame.\n",
            "Try using .loc[row_indexer,col_indexer] = value instead\n",
            "\n",
            "See the caveats in the documentation: https://pandas.pydata.org/pandas-docs/stable/user_guide/indexing.html#returning-a-view-versus-a-copy\n",
            "  if __name__ == '__main__':\n"
          ]
        }
      ]
    },
    {
      "cell_type": "code",
      "source": [
        "train = train.reset_index()\n",
        "test = test.reset_index()"
      ],
      "metadata": {
        "id": "mQj6oTY5RXoC"
      },
      "execution_count": 64,
      "outputs": []
    },
    {
      "cell_type": "code",
      "source": [
        "train"
      ],
      "metadata": {
        "colab": {
          "base_uri": "https://localhost:8080/",
          "height": 423
        },
        "id": "bPIrAOgJFsL9",
        "outputId": "583d440c-07fe-4915-a5f6-a9d523fac9bc"
      },
      "execution_count": 65,
      "outputs": [
        {
          "output_type": "execute_result",
          "data": {
            "text/plain": [
              "      index  Close    Volume       SMA       EMA      MACD     Custom\n",
              "0       181  3.832 -2.519402  2.941027  2.973668  0.467012  88.726702\n",
              "1       182  3.903 -1.727499  2.952034  2.986227  0.470099  90.110506\n",
              "2       183  3.903 -1.767010  2.962456  2.998615  0.472959  90.072518\n",
              "3       184  3.901 -3.096803  2.973667  3.010810  0.475574  90.028429\n",
              "4       185  3.730 -2.572274  2.983122  3.020529  0.475823  72.773162\n",
              "...     ...    ...       ...       ...       ...       ...        ...\n",
              "1656   1837  2.595 -1.912946  3.175952  2.930244 -0.155249 -45.013110\n",
              "1657   1838  2.619 -1.748670  3.171551  2.926038 -0.155903 -42.291581\n",
              "1658   1839  2.621 -2.022182  3.167041  2.921916 -0.156469 -41.729149\n",
              "1659   1840  2.659 -2.387470  3.163211  2.918363 -0.156497 -37.666586\n",
              "1660   1841  2.601 -1.898538  3.159401  2.914074 -0.157215 -43.046631\n",
              "\n",
              "[1661 rows x 7 columns]"
            ],
            "text/html": [
              "\n",
              "  <div id=\"df-26e2da0e-3768-4ec7-9bb0-a8fee0fc557c\">\n",
              "    <div class=\"colab-df-container\">\n",
              "      <div>\n",
              "<style scoped>\n",
              "    .dataframe tbody tr th:only-of-type {\n",
              "        vertical-align: middle;\n",
              "    }\n",
              "\n",
              "    .dataframe tbody tr th {\n",
              "        vertical-align: top;\n",
              "    }\n",
              "\n",
              "    .dataframe thead th {\n",
              "        text-align: right;\n",
              "    }\n",
              "</style>\n",
              "<table border=\"1\" class=\"dataframe\">\n",
              "  <thead>\n",
              "    <tr style=\"text-align: right;\">\n",
              "      <th></th>\n",
              "      <th>index</th>\n",
              "      <th>Close</th>\n",
              "      <th>Volume</th>\n",
              "      <th>SMA</th>\n",
              "      <th>EMA</th>\n",
              "      <th>MACD</th>\n",
              "      <th>Custom</th>\n",
              "    </tr>\n",
              "  </thead>\n",
              "  <tbody>\n",
              "    <tr>\n",
              "      <th>0</th>\n",
              "      <td>181</td>\n",
              "      <td>3.832</td>\n",
              "      <td>-2.519402</td>\n",
              "      <td>2.941027</td>\n",
              "      <td>2.973668</td>\n",
              "      <td>0.467012</td>\n",
              "      <td>88.726702</td>\n",
              "    </tr>\n",
              "    <tr>\n",
              "      <th>1</th>\n",
              "      <td>182</td>\n",
              "      <td>3.903</td>\n",
              "      <td>-1.727499</td>\n",
              "      <td>2.952034</td>\n",
              "      <td>2.986227</td>\n",
              "      <td>0.470099</td>\n",
              "      <td>90.110506</td>\n",
              "    </tr>\n",
              "    <tr>\n",
              "      <th>2</th>\n",
              "      <td>183</td>\n",
              "      <td>3.903</td>\n",
              "      <td>-1.767010</td>\n",
              "      <td>2.962456</td>\n",
              "      <td>2.998615</td>\n",
              "      <td>0.472959</td>\n",
              "      <td>90.072518</td>\n",
              "    </tr>\n",
              "    <tr>\n",
              "      <th>3</th>\n",
              "      <td>184</td>\n",
              "      <td>3.901</td>\n",
              "      <td>-3.096803</td>\n",
              "      <td>2.973667</td>\n",
              "      <td>3.010810</td>\n",
              "      <td>0.475574</td>\n",
              "      <td>90.028429</td>\n",
              "    </tr>\n",
              "    <tr>\n",
              "      <th>4</th>\n",
              "      <td>185</td>\n",
              "      <td>3.730</td>\n",
              "      <td>-2.572274</td>\n",
              "      <td>2.983122</td>\n",
              "      <td>3.020529</td>\n",
              "      <td>0.475823</td>\n",
              "      <td>72.773162</td>\n",
              "    </tr>\n",
              "    <tr>\n",
              "      <th>...</th>\n",
              "      <td>...</td>\n",
              "      <td>...</td>\n",
              "      <td>...</td>\n",
              "      <td>...</td>\n",
              "      <td>...</td>\n",
              "      <td>...</td>\n",
              "      <td>...</td>\n",
              "    </tr>\n",
              "    <tr>\n",
              "      <th>1656</th>\n",
              "      <td>1837</td>\n",
              "      <td>2.595</td>\n",
              "      <td>-1.912946</td>\n",
              "      <td>3.175952</td>\n",
              "      <td>2.930244</td>\n",
              "      <td>-0.155249</td>\n",
              "      <td>-45.013110</td>\n",
              "    </tr>\n",
              "    <tr>\n",
              "      <th>1657</th>\n",
              "      <td>1838</td>\n",
              "      <td>2.619</td>\n",
              "      <td>-1.748670</td>\n",
              "      <td>3.171551</td>\n",
              "      <td>2.926038</td>\n",
              "      <td>-0.155903</td>\n",
              "      <td>-42.291581</td>\n",
              "    </tr>\n",
              "    <tr>\n",
              "      <th>1658</th>\n",
              "      <td>1839</td>\n",
              "      <td>2.621</td>\n",
              "      <td>-2.022182</td>\n",
              "      <td>3.167041</td>\n",
              "      <td>2.921916</td>\n",
              "      <td>-0.156469</td>\n",
              "      <td>-41.729149</td>\n",
              "    </tr>\n",
              "    <tr>\n",
              "      <th>1659</th>\n",
              "      <td>1840</td>\n",
              "      <td>2.659</td>\n",
              "      <td>-2.387470</td>\n",
              "      <td>3.163211</td>\n",
              "      <td>2.918363</td>\n",
              "      <td>-0.156497</td>\n",
              "      <td>-37.666586</td>\n",
              "    </tr>\n",
              "    <tr>\n",
              "      <th>1660</th>\n",
              "      <td>1841</td>\n",
              "      <td>2.601</td>\n",
              "      <td>-1.898538</td>\n",
              "      <td>3.159401</td>\n",
              "      <td>2.914074</td>\n",
              "      <td>-0.157215</td>\n",
              "      <td>-43.046631</td>\n",
              "    </tr>\n",
              "  </tbody>\n",
              "</table>\n",
              "<p>1661 rows × 7 columns</p>\n",
              "</div>\n",
              "      <button class=\"colab-df-convert\" onclick=\"convertToInteractive('df-26e2da0e-3768-4ec7-9bb0-a8fee0fc557c')\"\n",
              "              title=\"Convert this dataframe to an interactive table.\"\n",
              "              style=\"display:none;\">\n",
              "        \n",
              "  <svg xmlns=\"http://www.w3.org/2000/svg\" height=\"24px\"viewBox=\"0 0 24 24\"\n",
              "       width=\"24px\">\n",
              "    <path d=\"M0 0h24v24H0V0z\" fill=\"none\"/>\n",
              "    <path d=\"M18.56 5.44l.94 2.06.94-2.06 2.06-.94-2.06-.94-.94-2.06-.94 2.06-2.06.94zm-11 1L8.5 8.5l.94-2.06 2.06-.94-2.06-.94L8.5 2.5l-.94 2.06-2.06.94zm10 10l.94 2.06.94-2.06 2.06-.94-2.06-.94-.94-2.06-.94 2.06-2.06.94z\"/><path d=\"M17.41 7.96l-1.37-1.37c-.4-.4-.92-.59-1.43-.59-.52 0-1.04.2-1.43.59L10.3 9.45l-7.72 7.72c-.78.78-.78 2.05 0 2.83L4 21.41c.39.39.9.59 1.41.59.51 0 1.02-.2 1.41-.59l7.78-7.78 2.81-2.81c.8-.78.8-2.07 0-2.86zM5.41 20L4 18.59l7.72-7.72 1.47 1.35L5.41 20z\"/>\n",
              "  </svg>\n",
              "      </button>\n",
              "      \n",
              "  <style>\n",
              "    .colab-df-container {\n",
              "      display:flex;\n",
              "      flex-wrap:wrap;\n",
              "      gap: 12px;\n",
              "    }\n",
              "\n",
              "    .colab-df-convert {\n",
              "      background-color: #E8F0FE;\n",
              "      border: none;\n",
              "      border-radius: 50%;\n",
              "      cursor: pointer;\n",
              "      display: none;\n",
              "      fill: #1967D2;\n",
              "      height: 32px;\n",
              "      padding: 0 0 0 0;\n",
              "      width: 32px;\n",
              "    }\n",
              "\n",
              "    .colab-df-convert:hover {\n",
              "      background-color: #E2EBFA;\n",
              "      box-shadow: 0px 1px 2px rgba(60, 64, 67, 0.3), 0px 1px 3px 1px rgba(60, 64, 67, 0.15);\n",
              "      fill: #174EA6;\n",
              "    }\n",
              "\n",
              "    [theme=dark] .colab-df-convert {\n",
              "      background-color: #3B4455;\n",
              "      fill: #D2E3FC;\n",
              "    }\n",
              "\n",
              "    [theme=dark] .colab-df-convert:hover {\n",
              "      background-color: #434B5C;\n",
              "      box-shadow: 0px 1px 3px 1px rgba(0, 0, 0, 0.15);\n",
              "      filter: drop-shadow(0px 1px 2px rgba(0, 0, 0, 0.3));\n",
              "      fill: #FFFFFF;\n",
              "    }\n",
              "  </style>\n",
              "\n",
              "      <script>\n",
              "        const buttonEl =\n",
              "          document.querySelector('#df-26e2da0e-3768-4ec7-9bb0-a8fee0fc557c button.colab-df-convert');\n",
              "        buttonEl.style.display =\n",
              "          google.colab.kernel.accessAllowed ? 'block' : 'none';\n",
              "\n",
              "        async function convertToInteractive(key) {\n",
              "          const element = document.querySelector('#df-26e2da0e-3768-4ec7-9bb0-a8fee0fc557c');\n",
              "          const dataTable =\n",
              "            await google.colab.kernel.invokeFunction('convertToInteractive',\n",
              "                                                     [key], {});\n",
              "          if (!dataTable) return;\n",
              "\n",
              "          const docLinkHtml = 'Like what you see? Visit the ' +\n",
              "            '<a target=\"_blank\" href=https://colab.research.google.com/notebooks/data_table.ipynb>data table notebook</a>'\n",
              "            + ' to learn more about interactive tables.';\n",
              "          element.innerHTML = '';\n",
              "          dataTable['output_type'] = 'display_data';\n",
              "          await google.colab.output.renderOutput(dataTable, element);\n",
              "          const docLink = document.createElement('div');\n",
              "          docLink.innerHTML = docLinkHtml;\n",
              "          element.appendChild(docLink);\n",
              "        }\n",
              "      </script>\n",
              "    </div>\n",
              "  </div>\n",
              "  "
            ]
          },
          "metadata": {},
          "execution_count": 65
        }
      ]
    },
    {
      "cell_type": "code",
      "source": [
        "train_df = pd.read_csv('/content/drive/MyDrive/SIH- Hack Inversion/Coding/data/train.csv')\n",
        "test_df = pd.read_csv('/content/drive/MyDrive/SIH- Hack Inversion/Coding/data/test.csv')"
      ],
      "metadata": {
        "id": "PhsbW0-lIh9K"
      },
      "execution_count": 49,
      "outputs": []
    },
    {
      "cell_type": "code",
      "source": [
        "train_df.head()"
      ],
      "metadata": {
        "colab": {
          "base_uri": "https://localhost:8080/",
          "height": 206
        },
        "id": "3ARr1VJhIx85",
        "outputId": "7c152eca-44ac-4506-9add-7f188fe072c2"
      },
      "execution_count": 50,
      "outputs": [
        {
          "output_type": "execute_result",
          "data": {
            "text/plain": [
              "   Unnamed: 0  Close    Volume    Low       SMA       EMA      MACD     Custom\n",
              "0           0  2.886 -3.839439  2.831  2.779286  2.931112 -0.192559   3.236326\n",
              "1           1  2.768 -1.460156  2.762  2.778129  2.928908 -0.191076  -8.990846\n",
              "2           2  2.716 -2.041879  2.706  2.777075  2.926031 -0.190250 -14.260936\n",
              "3           3  2.748 -1.983361  2.707  2.775857  2.923625 -0.189000 -10.710547\n",
              "4           4  2.812 -1.680450  2.752  2.774946  2.922116 -0.186938  -3.847346"
            ],
            "text/html": [
              "\n",
              "  <div id=\"df-5aae5176-9789-4ec8-8813-4540b72bb16b\">\n",
              "    <div class=\"colab-df-container\">\n",
              "      <div>\n",
              "<style scoped>\n",
              "    .dataframe tbody tr th:only-of-type {\n",
              "        vertical-align: middle;\n",
              "    }\n",
              "\n",
              "    .dataframe tbody tr th {\n",
              "        vertical-align: top;\n",
              "    }\n",
              "\n",
              "    .dataframe thead th {\n",
              "        text-align: right;\n",
              "    }\n",
              "</style>\n",
              "<table border=\"1\" class=\"dataframe\">\n",
              "  <thead>\n",
              "    <tr style=\"text-align: right;\">\n",
              "      <th></th>\n",
              "      <th>Unnamed: 0</th>\n",
              "      <th>Close</th>\n",
              "      <th>Volume</th>\n",
              "      <th>Low</th>\n",
              "      <th>SMA</th>\n",
              "      <th>EMA</th>\n",
              "      <th>MACD</th>\n",
              "      <th>Custom</th>\n",
              "    </tr>\n",
              "  </thead>\n",
              "  <tbody>\n",
              "    <tr>\n",
              "      <th>0</th>\n",
              "      <td>0</td>\n",
              "      <td>2.886</td>\n",
              "      <td>-3.839439</td>\n",
              "      <td>2.831</td>\n",
              "      <td>2.779286</td>\n",
              "      <td>2.931112</td>\n",
              "      <td>-0.192559</td>\n",
              "      <td>3.236326</td>\n",
              "    </tr>\n",
              "    <tr>\n",
              "      <th>1</th>\n",
              "      <td>1</td>\n",
              "      <td>2.768</td>\n",
              "      <td>-1.460156</td>\n",
              "      <td>2.762</td>\n",
              "      <td>2.778129</td>\n",
              "      <td>2.928908</td>\n",
              "      <td>-0.191076</td>\n",
              "      <td>-8.990846</td>\n",
              "    </tr>\n",
              "    <tr>\n",
              "      <th>2</th>\n",
              "      <td>2</td>\n",
              "      <td>2.716</td>\n",
              "      <td>-2.041879</td>\n",
              "      <td>2.706</td>\n",
              "      <td>2.777075</td>\n",
              "      <td>2.926031</td>\n",
              "      <td>-0.190250</td>\n",
              "      <td>-14.260936</td>\n",
              "    </tr>\n",
              "    <tr>\n",
              "      <th>3</th>\n",
              "      <td>3</td>\n",
              "      <td>2.748</td>\n",
              "      <td>-1.983361</td>\n",
              "      <td>2.707</td>\n",
              "      <td>2.775857</td>\n",
              "      <td>2.923625</td>\n",
              "      <td>-0.189000</td>\n",
              "      <td>-10.710547</td>\n",
              "    </tr>\n",
              "    <tr>\n",
              "      <th>4</th>\n",
              "      <td>4</td>\n",
              "      <td>2.812</td>\n",
              "      <td>-1.680450</td>\n",
              "      <td>2.752</td>\n",
              "      <td>2.774946</td>\n",
              "      <td>2.922116</td>\n",
              "      <td>-0.186938</td>\n",
              "      <td>-3.847346</td>\n",
              "    </tr>\n",
              "  </tbody>\n",
              "</table>\n",
              "</div>\n",
              "      <button class=\"colab-df-convert\" onclick=\"convertToInteractive('df-5aae5176-9789-4ec8-8813-4540b72bb16b')\"\n",
              "              title=\"Convert this dataframe to an interactive table.\"\n",
              "              style=\"display:none;\">\n",
              "        \n",
              "  <svg xmlns=\"http://www.w3.org/2000/svg\" height=\"24px\"viewBox=\"0 0 24 24\"\n",
              "       width=\"24px\">\n",
              "    <path d=\"M0 0h24v24H0V0z\" fill=\"none\"/>\n",
              "    <path d=\"M18.56 5.44l.94 2.06.94-2.06 2.06-.94-2.06-.94-.94-2.06-.94 2.06-2.06.94zm-11 1L8.5 8.5l.94-2.06 2.06-.94-2.06-.94L8.5 2.5l-.94 2.06-2.06.94zm10 10l.94 2.06.94-2.06 2.06-.94-2.06-.94-.94-2.06-.94 2.06-2.06.94z\"/><path d=\"M17.41 7.96l-1.37-1.37c-.4-.4-.92-.59-1.43-.59-.52 0-1.04.2-1.43.59L10.3 9.45l-7.72 7.72c-.78.78-.78 2.05 0 2.83L4 21.41c.39.39.9.59 1.41.59.51 0 1.02-.2 1.41-.59l7.78-7.78 2.81-2.81c.8-.78.8-2.07 0-2.86zM5.41 20L4 18.59l7.72-7.72 1.47 1.35L5.41 20z\"/>\n",
              "  </svg>\n",
              "      </button>\n",
              "      \n",
              "  <style>\n",
              "    .colab-df-container {\n",
              "      display:flex;\n",
              "      flex-wrap:wrap;\n",
              "      gap: 12px;\n",
              "    }\n",
              "\n",
              "    .colab-df-convert {\n",
              "      background-color: #E8F0FE;\n",
              "      border: none;\n",
              "      border-radius: 50%;\n",
              "      cursor: pointer;\n",
              "      display: none;\n",
              "      fill: #1967D2;\n",
              "      height: 32px;\n",
              "      padding: 0 0 0 0;\n",
              "      width: 32px;\n",
              "    }\n",
              "\n",
              "    .colab-df-convert:hover {\n",
              "      background-color: #E2EBFA;\n",
              "      box-shadow: 0px 1px 2px rgba(60, 64, 67, 0.3), 0px 1px 3px 1px rgba(60, 64, 67, 0.15);\n",
              "      fill: #174EA6;\n",
              "    }\n",
              "\n",
              "    [theme=dark] .colab-df-convert {\n",
              "      background-color: #3B4455;\n",
              "      fill: #D2E3FC;\n",
              "    }\n",
              "\n",
              "    [theme=dark] .colab-df-convert:hover {\n",
              "      background-color: #434B5C;\n",
              "      box-shadow: 0px 1px 3px 1px rgba(0, 0, 0, 0.15);\n",
              "      filter: drop-shadow(0px 1px 2px rgba(0, 0, 0, 0.3));\n",
              "      fill: #FFFFFF;\n",
              "    }\n",
              "  </style>\n",
              "\n",
              "      <script>\n",
              "        const buttonEl =\n",
              "          document.querySelector('#df-5aae5176-9789-4ec8-8813-4540b72bb16b button.colab-df-convert');\n",
              "        buttonEl.style.display =\n",
              "          google.colab.kernel.accessAllowed ? 'block' : 'none';\n",
              "\n",
              "        async function convertToInteractive(key) {\n",
              "          const element = document.querySelector('#df-5aae5176-9789-4ec8-8813-4540b72bb16b');\n",
              "          const dataTable =\n",
              "            await google.colab.kernel.invokeFunction('convertToInteractive',\n",
              "                                                     [key], {});\n",
              "          if (!dataTable) return;\n",
              "\n",
              "          const docLinkHtml = 'Like what you see? Visit the ' +\n",
              "            '<a target=\"_blank\" href=https://colab.research.google.com/notebooks/data_table.ipynb>data table notebook</a>'\n",
              "            + ' to learn more about interactive tables.';\n",
              "          element.innerHTML = '';\n",
              "          dataTable['output_type'] = 'display_data';\n",
              "          await google.colab.output.renderOutput(dataTable, element);\n",
              "          const docLink = document.createElement('div');\n",
              "          docLink.innerHTML = docLinkHtml;\n",
              "          element.appendChild(docLink);\n",
              "        }\n",
              "      </script>\n",
              "    </div>\n",
              "  </div>\n",
              "  "
            ]
          },
          "metadata": {},
          "execution_count": 50
        }
      ]
    },
    {
      "cell_type": "code",
      "source": [
        "train_df = train_df.drop(columns = ['Unnamed: 0'])\n",
        "train_df = train_df.drop(columns = ['Low'])\n",
        "test_df = test_df.drop(columns = ['Unnamed: 0'])\n",
        "test_df = test_df.drop(columns = ['Low'])"
      ],
      "metadata": {
        "id": "fbdSFFdKF7K6"
      },
      "execution_count": 51,
      "outputs": []
    },
    {
      "cell_type": "code",
      "source": [
        "train_df.shape"
      ],
      "metadata": {
        "colab": {
          "base_uri": "https://localhost:8080/"
        },
        "id": "ZyRQkBN_JCQG",
        "outputId": "5cf8ef0d-f10d-4415-d2a3-ede625ec5300"
      },
      "execution_count": 53,
      "outputs": [
        {
          "output_type": "execute_result",
          "data": {
            "text/plain": [
              "(1672, 6)"
            ]
          },
          "metadata": {},
          "execution_count": 53
        }
      ]
    },
    {
      "cell_type": "markdown",
      "source": [
        "# Split Into Sequences for training"
      ],
      "metadata": {
        "id": "TAkYlzJuj8ge"
      }
    },
    {
      "cell_type": "code",
      "source": [
        "def split_series(series, n_past, n_future):\n",
        "  #\n",
        "  # n_past ==> no of past observations\n",
        "  #\n",
        "  # n_future ==> no of future observations \n",
        "  #\n",
        "  X, y = list(), list()\n",
        "  for window_start in range(len(series)):\n",
        "    past_end = window_start + n_past\n",
        "    future_end = past_end + n_future\n",
        "    if future_end > len(series):\n",
        "      break\n",
        "    # slicing the past and future parts of the window\n",
        "    past, future = series[window_start:past_end, :], series[past_end:future_end, :]\n",
        "    X.append(past)\n",
        "    y.append(future)\n",
        "  return np.array(X), np.array(y)"
      ],
      "metadata": {
        "id": "3k4VgPsVSWvP"
      },
      "execution_count": 42,
      "outputs": []
    },
    {
      "cell_type": "code",
      "source": [
        "def split_series_single(series, n_past, n_future):\n",
        "  #\n",
        "  # n_past ==> no of past observations\n",
        "  #\n",
        "  # n_future ==> no of future observations \n",
        "  #\n",
        "  X, y = list(), list()\n",
        "  for window_start in range(len(series)):\n",
        "    past_end = window_start + n_past\n",
        "    future_end = past_end + n_future\n",
        "    if future_end > len(series):\n",
        "      break\n",
        "    # slicing the past and future parts of the window\n",
        "    past, future = series[window_start:past_end], series[past_end:future_end]\n",
        "    X.append(past)\n",
        "    y.append(future)\n",
        "  return np.array(X), np.array(y)"
      ],
      "metadata": {
        "id": "X3gxInKSRblc"
      },
      "execution_count": 78,
      "outputs": []
    },
    {
      "cell_type": "code",
      "source": [
        "train.head()"
      ],
      "metadata": {
        "colab": {
          "base_uri": "https://localhost:8080/",
          "height": 206
        },
        "id": "DPRzCVD8Fiqd",
        "outputId": "30711c8b-550f-4fbe-e783-86e576993906"
      },
      "execution_count": 43,
      "outputs": [
        {
          "output_type": "execute_result",
          "data": {
            "text/plain": [
              "   Close    Volume       SMA       EMA      MACD     Custom\n",
              "0  3.832 -2.519402  2.941027  2.973668  0.467012  88.726702\n",
              "1  3.903 -1.727499  2.952034  2.986227  0.470099  90.110506\n",
              "2  3.903 -1.767010  2.962456  2.998615  0.472959  90.072518\n",
              "3  3.901 -3.096803  2.973667  3.010810  0.475574  90.028429\n",
              "4  3.730 -2.572274  2.983122  3.020529  0.475823  72.773162"
            ],
            "text/html": [
              "\n",
              "  <div id=\"df-1bdbf149-58d8-4246-a428-33da8ac0c8ec\">\n",
              "    <div class=\"colab-df-container\">\n",
              "      <div>\n",
              "<style scoped>\n",
              "    .dataframe tbody tr th:only-of-type {\n",
              "        vertical-align: middle;\n",
              "    }\n",
              "\n",
              "    .dataframe tbody tr th {\n",
              "        vertical-align: top;\n",
              "    }\n",
              "\n",
              "    .dataframe thead th {\n",
              "        text-align: right;\n",
              "    }\n",
              "</style>\n",
              "<table border=\"1\" class=\"dataframe\">\n",
              "  <thead>\n",
              "    <tr style=\"text-align: right;\">\n",
              "      <th></th>\n",
              "      <th>Close</th>\n",
              "      <th>Volume</th>\n",
              "      <th>SMA</th>\n",
              "      <th>EMA</th>\n",
              "      <th>MACD</th>\n",
              "      <th>Custom</th>\n",
              "    </tr>\n",
              "  </thead>\n",
              "  <tbody>\n",
              "    <tr>\n",
              "      <th>0</th>\n",
              "      <td>3.832</td>\n",
              "      <td>-2.519402</td>\n",
              "      <td>2.941027</td>\n",
              "      <td>2.973668</td>\n",
              "      <td>0.467012</td>\n",
              "      <td>88.726702</td>\n",
              "    </tr>\n",
              "    <tr>\n",
              "      <th>1</th>\n",
              "      <td>3.903</td>\n",
              "      <td>-1.727499</td>\n",
              "      <td>2.952034</td>\n",
              "      <td>2.986227</td>\n",
              "      <td>0.470099</td>\n",
              "      <td>90.110506</td>\n",
              "    </tr>\n",
              "    <tr>\n",
              "      <th>2</th>\n",
              "      <td>3.903</td>\n",
              "      <td>-1.767010</td>\n",
              "      <td>2.962456</td>\n",
              "      <td>2.998615</td>\n",
              "      <td>0.472959</td>\n",
              "      <td>90.072518</td>\n",
              "    </tr>\n",
              "    <tr>\n",
              "      <th>3</th>\n",
              "      <td>3.901</td>\n",
              "      <td>-3.096803</td>\n",
              "      <td>2.973667</td>\n",
              "      <td>3.010810</td>\n",
              "      <td>0.475574</td>\n",
              "      <td>90.028429</td>\n",
              "    </tr>\n",
              "    <tr>\n",
              "      <th>4</th>\n",
              "      <td>3.730</td>\n",
              "      <td>-2.572274</td>\n",
              "      <td>2.983122</td>\n",
              "      <td>3.020529</td>\n",
              "      <td>0.475823</td>\n",
              "      <td>72.773162</td>\n",
              "    </tr>\n",
              "  </tbody>\n",
              "</table>\n",
              "</div>\n",
              "      <button class=\"colab-df-convert\" onclick=\"convertToInteractive('df-1bdbf149-58d8-4246-a428-33da8ac0c8ec')\"\n",
              "              title=\"Convert this dataframe to an interactive table.\"\n",
              "              style=\"display:none;\">\n",
              "        \n",
              "  <svg xmlns=\"http://www.w3.org/2000/svg\" height=\"24px\"viewBox=\"0 0 24 24\"\n",
              "       width=\"24px\">\n",
              "    <path d=\"M0 0h24v24H0V0z\" fill=\"none\"/>\n",
              "    <path d=\"M18.56 5.44l.94 2.06.94-2.06 2.06-.94-2.06-.94-.94-2.06-.94 2.06-2.06.94zm-11 1L8.5 8.5l.94-2.06 2.06-.94-2.06-.94L8.5 2.5l-.94 2.06-2.06.94zm10 10l.94 2.06.94-2.06 2.06-.94-2.06-.94-.94-2.06-.94 2.06-2.06.94z\"/><path d=\"M17.41 7.96l-1.37-1.37c-.4-.4-.92-.59-1.43-.59-.52 0-1.04.2-1.43.59L10.3 9.45l-7.72 7.72c-.78.78-.78 2.05 0 2.83L4 21.41c.39.39.9.59 1.41.59.51 0 1.02-.2 1.41-.59l7.78-7.78 2.81-2.81c.8-.78.8-2.07 0-2.86zM5.41 20L4 18.59l7.72-7.72 1.47 1.35L5.41 20z\"/>\n",
              "  </svg>\n",
              "      </button>\n",
              "      \n",
              "  <style>\n",
              "    .colab-df-container {\n",
              "      display:flex;\n",
              "      flex-wrap:wrap;\n",
              "      gap: 12px;\n",
              "    }\n",
              "\n",
              "    .colab-df-convert {\n",
              "      background-color: #E8F0FE;\n",
              "      border: none;\n",
              "      border-radius: 50%;\n",
              "      cursor: pointer;\n",
              "      display: none;\n",
              "      fill: #1967D2;\n",
              "      height: 32px;\n",
              "      padding: 0 0 0 0;\n",
              "      width: 32px;\n",
              "    }\n",
              "\n",
              "    .colab-df-convert:hover {\n",
              "      background-color: #E2EBFA;\n",
              "      box-shadow: 0px 1px 2px rgba(60, 64, 67, 0.3), 0px 1px 3px 1px rgba(60, 64, 67, 0.15);\n",
              "      fill: #174EA6;\n",
              "    }\n",
              "\n",
              "    [theme=dark] .colab-df-convert {\n",
              "      background-color: #3B4455;\n",
              "      fill: #D2E3FC;\n",
              "    }\n",
              "\n",
              "    [theme=dark] .colab-df-convert:hover {\n",
              "      background-color: #434B5C;\n",
              "      box-shadow: 0px 1px 3px 1px rgba(0, 0, 0, 0.15);\n",
              "      filter: drop-shadow(0px 1px 2px rgba(0, 0, 0, 0.3));\n",
              "      fill: #FFFFFF;\n",
              "    }\n",
              "  </style>\n",
              "\n",
              "      <script>\n",
              "        const buttonEl =\n",
              "          document.querySelector('#df-1bdbf149-58d8-4246-a428-33da8ac0c8ec button.colab-df-convert');\n",
              "        buttonEl.style.display =\n",
              "          google.colab.kernel.accessAllowed ? 'block' : 'none';\n",
              "\n",
              "        async function convertToInteractive(key) {\n",
              "          const element = document.querySelector('#df-1bdbf149-58d8-4246-a428-33da8ac0c8ec');\n",
              "          const dataTable =\n",
              "            await google.colab.kernel.invokeFunction('convertToInteractive',\n",
              "                                                     [key], {});\n",
              "          if (!dataTable) return;\n",
              "\n",
              "          const docLinkHtml = 'Like what you see? Visit the ' +\n",
              "            '<a target=\"_blank\" href=https://colab.research.google.com/notebooks/data_table.ipynb>data table notebook</a>'\n",
              "            + ' to learn more about interactive tables.';\n",
              "          element.innerHTML = '';\n",
              "          dataTable['output_type'] = 'display_data';\n",
              "          await google.colab.output.renderOutput(dataTable, element);\n",
              "          const docLink = document.createElement('div');\n",
              "          docLink.innerHTML = docLinkHtml;\n",
              "          element.appendChild(docLink);\n",
              "        }\n",
              "      </script>\n",
              "    </div>\n",
              "  </div>\n",
              "  "
            ]
          },
          "metadata": {},
          "execution_count": 43
        }
      ]
    },
    {
      "cell_type": "code",
      "source": [
        "n_past = 10\n",
        "n_future = 1\n",
        "n_features = 6"
      ],
      "metadata": {
        "id": "l-xCzESJSeGK"
      },
      "execution_count": 83,
      "outputs": []
    },
    {
      "cell_type": "code",
      "source": [
        "X_train, y_train = split_series(train.values,n_past, n_future)\n",
        "# X_train = X_train.reshape((X_train.shape[0], X_train.shape[1], n_features))\n",
        "# y_train = y_train.reshape((y_train.shape[0], y_train.shape[1], n_features))\n",
        "X_test, y_test = split_series(test.values,n_past, n_future)\n",
        "# X_test = X_test.reshape((X_test.shape[0], X_test.shape[1],n_features))\n",
        "# y_test = y_test.reshape((y_test.shape[0], y_test.shape[1], n_features))"
      ],
      "metadata": {
        "id": "FdOE8hBmSXn2"
      },
      "execution_count": 45,
      "outputs": []
    },
    {
      "cell_type": "code",
      "source": [
        "X_train.shape"
      ],
      "metadata": {
        "colab": {
          "base_uri": "https://localhost:8080/"
        },
        "id": "NX_2XkEEHa46",
        "outputId": "9ea287a5-fa77-4c7c-974e-d39203cea844"
      },
      "execution_count": 66,
      "outputs": [
        {
          "output_type": "execute_result",
          "data": {
            "text/plain": [
              "(1647, 10, 6)"
            ]
          },
          "metadata": {},
          "execution_count": 66
        }
      ]
    },
    {
      "cell_type": "code",
      "source": [
        "X_train.shape"
      ],
      "metadata": {
        "colab": {
          "base_uri": "https://localhost:8080/"
        },
        "id": "ZMcQTCCOSm-S",
        "outputId": "78abb4cc-1c61-48c2-c6dd-1c44c818c4c8"
      },
      "execution_count": null,
      "outputs": [
        {
          "output_type": "execute_result",
          "data": {
            "text/plain": [
              "(1858, 10, 8)"
            ]
          },
          "metadata": {},
          "execution_count": 15
        }
      ]
    },
    {
      "cell_type": "code",
      "source": [
        "def sma(data_series, window_size):\n",
        "  windows = data_series.rolling(window_size)\n",
        "  moving_averages = windows.mean()\n",
        "  moving_averages_list = moving_averages.tolist()\n",
        "  without_nans = moving_averages_list[window_size - 1:]\n",
        "  return without_nans\n"
      ],
      "metadata": {
        "id": "K5V0TMswPaZF"
      },
      "execution_count": 68,
      "outputs": []
    },
    {
      "cell_type": "code",
      "source": [
        "doday = sma(train['Close'], 5)\n",
        "doday_1 = sma(test['Close'], 5)"
      ],
      "metadata": {
        "id": "hjTEW6WMPofd"
      },
      "execution_count": 74,
      "outputs": []
    },
    {
      "cell_type": "code",
      "source": [
        "plt.plot(train['Close'])"
      ],
      "metadata": {
        "colab": {
          "base_uri": "https://localhost:8080/",
          "height": 284
        },
        "id": "ccPDR66GQlzF",
        "outputId": "3c7392ed-78d2-466d-a95a-b8e00f637edd"
      },
      "execution_count": 75,
      "outputs": [
        {
          "output_type": "execute_result",
          "data": {
            "text/plain": [
              "[<matplotlib.lines.Line2D at 0x7f12b3029c50>]"
            ]
          },
          "metadata": {},
          "execution_count": 75
        },
        {
          "output_type": "display_data",
          "data": {
            "text/plain": [
              "<Figure size 432x288 with 1 Axes>"
            ],
            "image/png": "[encoded data removed]"
          },
          "metadata": {
            "needs_background": "light"
          }
        }
      ]
    },
    {
      "cell_type": "code",
      "source": [
        "plt.plot(doday)"
      ],
      "metadata": {
        "colab": {
          "base_uri": "https://localhost:8080/",
          "height": 284
        },
        "id": "zqQSMr3vQSIF",
        "outputId": "da2acf81-9945-4d84-bd47-74996f476412"
      },
      "execution_count": 76,
      "outputs": [
        {
          "output_type": "execute_result",
          "data": {
            "text/plain": [
              "[<matplotlib.lines.Line2D at 0x7f12b2fa1650>]"
            ]
          },
          "metadata": {},
          "execution_count": 76
        },
        {
          "output_type": "display_data",
          "data": {
            "text/plain": [
              "<Figure size 432x288 with 1 Axes>"
            ],
            "image/png": "[encoded data removed]"
          },
          "metadata": {
            "needs_background": "light"
          }
        }
      ]
    },
    {
      "cell_type": "code",
      "source": [
        "X_train, y_train = split_series_single(pd.Series(doday), n_past, n_future)\n",
        "X_test, y_test = split_series_single(pd.Series(doday_1), n_past, n_future)"
      ],
      "metadata": {
        "id": "dLolQNfzQVHU"
      },
      "execution_count": 84,
      "outputs": []
    },
    {
      "cell_type": "code",
      "source": [
        "y_train.shape"
      ],
      "metadata": {
        "colab": {
          "base_uri": "https://localhost:8080/"
        },
        "id": "bxQ5_pULekMX",
        "outputId": "3af7ab53-61d4-4360-e714-ea9ee877ac96"
      },
      "execution_count": 148,
      "outputs": [
        {
          "output_type": "execute_result",
          "data": {
            "text/plain": [
              "(1647, 1)"
            ]
          },
          "metadata": {},
          "execution_count": 148
        }
      ]
    },
    {
      "cell_type": "code",
      "source": [
        "X_train.shape"
      ],
      "metadata": {
        "colab": {
          "base_uri": "https://localhost:8080/"
        },
        "id": "DtjRyrkFRmwT",
        "outputId": "79c184e2-a3c2-427e-a8e9-337e920e2f34"
      },
      "execution_count": 90,
      "outputs": [
        {
          "output_type": "execute_result",
          "data": {
            "text/plain": [
              "(1647, 10)"
            ]
          },
          "metadata": {},
          "execution_count": 90
        }
      ]
    },
    {
      "cell_type": "code",
      "source": [
        "X_test.shape[0]"
      ],
      "metadata": {
        "colab": {
          "base_uri": "https://localhost:8080/"
        },
        "id": "0kZQNYryTYgR",
        "outputId": "9fdd4733-1308-4153-8073-67b406681239"
      },
      "execution_count": 96,
      "outputs": [
        {
          "output_type": "execute_result",
          "data": {
            "text/plain": [
              "698"
            ]
          },
          "metadata": {},
          "execution_count": 96
        }
      ]
    },
    {
      "cell_type": "code",
      "source": [
        "y_test"
      ],
      "metadata": {
        "id": "4j5C2mOKTeBe"
      },
      "execution_count": null,
      "outputs": []
    },
    {
      "cell_type": "code",
      "source": [
        "from sklearn.svm import SVR\n",
        "\n",
        "svr_rbf = SVR(kernel= 'rbf', C= 1e3, gamma= 0.1)\n",
        "svr_rbf.fit(X_train, y_train)\n",
        "\n",
        "plt.figure(figsize = (12,6))\n",
        "plt.plot(X_train[:,0], color= 'black', label= 'Data')\n",
        "plt.plot(y_train, color='blue', label = 'train')\n",
        "\n",
        "plt.plot(np.linspace(1662, 1662+X_test.shape[0], X_test.shape[0]), svr_rbf.predict(X_test), color= 'red', label= 'RBF model') \n",
        "plt.xlabel('Date')\n",
        "plt.ylabel('Price')\n",
        "plt.legend()\n",
        "plt.show()"
      ],
      "metadata": {
        "colab": {
          "base_uri": "https://localhost:8080/",
          "height": 445
        },
        "id": "ALTYnGsHPYQh",
        "outputId": "3595c28a-7022-42ab-e7f0-dff90876cd15"
      },
      "execution_count": 157,
      "outputs": [
        {
          "output_type": "stream",
          "name": "stderr",
          "text": [
            "/usr/local/lib/python3.7/dist-packages/sklearn/utils/validation.py:993: DataConversionWarning: A column-vector y was passed when a 1d array was expected. Please change the shape of y to (n_samples, ), for example using ravel().\n",
            "  y = column_or_1d(y, warn=True)\n"
          ]
        },
        {
          "output_type": "display_data",
          "data": {
            "text/plain": [
              "<Figure size 864x432 with 1 Axes>"
            ],
            "image/png": "[encoded data removed]"
          },
          "metadata": {
            "needs_background": "light"
          }
        }
      ]
    },
    {
      "cell_type": "code",
      "source": [
        "preds = list()\n",
        "init = np.expand_dims(X_test[0], axis=0)\n",
        "preds.append(init)\n",
        "# for i in range()\n",
        "pred = np.expand_dims(svr_rbf.predict(init), axis=0)\n",
        "# preds.append(pred)\n",
        "pred.shape"
      ],
      "metadata": {
        "id": "grGQFlwHQOwB",
        "colab": {
          "base_uri": "https://localhost:8080/"
        },
        "outputId": "44242439-f4fd-4e78-fd8b-301ffc9c568c"
      },
      "execution_count": 118,
      "outputs": [
        {
          "output_type": "execute_result",
          "data": {
            "text/plain": [
              "(1, 1)"
            ]
          },
          "metadata": {},
          "execution_count": 118
        }
      ]
    },
    {
      "cell_type": "code",
      "source": [
        "preds = np.expand_dims(X_test[0], axis=0)\n",
        "preds.shape"
      ],
      "metadata": {
        "colab": {
          "base_uri": "https://localhost:8080/"
        },
        "id": "JfY289J_WZ6x",
        "outputId": "3fb3e3f0-e227-4711-f815-d17ece2c99a1"
      },
      "execution_count": 117,
      "outputs": [
        {
          "output_type": "execute_result",
          "data": {
            "text/plain": [
              "(1, 10)"
            ]
          },
          "metadata": {},
          "execution_count": 117
        }
      ]
    },
    {
      "cell_type": "code",
      "source": [
        ""
      ],
      "metadata": {
        "colab": {
          "base_uri": "https://localhost:8080/"
        },
        "id": "oid7jRUjZFL5",
        "outputId": "927e2e76-fee8-42ef-ad0f-400f949ccb40"
      },
      "execution_count": 131,
      "outputs": [
        {
          "output_type": "execute_result",
          "data": {
            "text/plain": [
              "(1647, 10)"
            ]
          },
          "metadata": {},
          "execution_count": 131
        }
      ]
    },
    {
      "cell_type": "code",
      "source": [
        "import pickle"
      ],
      "metadata": {
        "id": "i6Qu6unwiRQl"
      },
      "execution_count": 164,
      "outputs": []
    },
    {
      "cell_type": "code",
      "source": [
        "filename = '/content/drive/MyDrive/SIH- Hack Inversion/Coding/Models/svr.pkl'\n",
        "pickle.dump(svr_rbf, open(filename, 'wb'))"
      ],
      "metadata": {
        "id": "M5Ig9-sLiVG7"
      },
      "execution_count": 165,
      "outputs": []
    },
    {
      "cell_type": "code",
      "source": [
        "preds = np.expand_dims(X_test[0], axis = 0)\n",
        "pred = np.expand_dims(svr_rbf.predict(preds), axis = 0)\n",
        "new_train = np.concatenate((X_train, preds), axis = 0)\n",
        "new_train_y = np.concatenate((y_train, pred), axis = 0)\n",
        "preds = np.concatenate((preds, pred), axis = 1)\n",
        "\n",
        "for i in range(688):\n",
        "  init = preds[:,-10:]\n",
        "  pred = np.expand_dims(svr_rbf.predict(init), axis=0)\n",
        "  preds = np.concatenate((preds, pred), axis = 1)"
      ],
      "metadata": {
        "id": "Q_S_bqUFURuS"
      },
      "execution_count": 159,
      "outputs": []
    },
    {
      "cell_type": "code",
      "source": [
        "preds.shape"
      ],
      "metadata": {
        "colab": {
          "base_uri": "https://localhost:8080/"
        },
        "id": "bRVdktmVhCu5",
        "outputId": "34295bf8-e193-43b1-dcc1-ba1aa692a7ae"
      },
      "execution_count": 162,
      "outputs": [
        {
          "output_type": "execute_result",
          "data": {
            "text/plain": [
              "(1, 699)"
            ]
          },
          "metadata": {},
          "execution_count": 162
        }
      ]
    },
    {
      "cell_type": "code",
      "source": [
        "plt.plot(preds[0])"
      ],
      "metadata": {
        "colab": {
          "base_uri": "https://localhost:8080/",
          "height": 284
        },
        "id": "pHVXtjQYhGBI",
        "outputId": "d92f3d01-2dd3-470e-dee2-d184f81b6998"
      },
      "execution_count": 163,
      "outputs": [
        {
          "output_type": "execute_result",
          "data": {
            "text/plain": [
              "[<matplotlib.lines.Line2D at 0x7f12b086cc10>]"
            ]
          },
          "metadata": {},
          "execution_count": 163
        },
        {
          "output_type": "display_data",
          "data": {
            "text/plain": [
              "<Figure size 432x288 with 1 Axes>"
            ],
            "image/png": "[encoded data removed]"
          },
          "metadata": {
            "needs_background": "light"
          }
        }
      ]
    },
    {
      "cell_type": "markdown",
      "source": [
        "# Extra Code for testing"
      ],
      "metadata": {
        "id": "FmDMXV1jkHMD"
      }
    },
    {
      "cell_type": "code",
      "source": [
        "new_train_y.shape"
      ],
      "metadata": {
        "colab": {
          "base_uri": "https://localhost:8080/"
        },
        "id": "NJffXot4c3dP",
        "outputId": "779ee349-2a81-4d9d-d116-1b4150151636"
      },
      "execution_count": 142,
      "outputs": [
        {
          "output_type": "execute_result",
          "data": {
            "text/plain": [
              "(1656, 1)"
            ]
          },
          "metadata": {},
          "execution_count": 142
        }
      ]
    },
    {
      "cell_type": "code",
      "source": [
        "new_train[-10:]"
      ],
      "metadata": {
        "colab": {
          "base_uri": "https://localhost:8080/"
        },
        "id": "KqpyJxMse18h",
        "outputId": "6f055114-d4e5-4ad5-8b3d-f691f76e7c16"
      },
      "execution_count": 149,
      "outputs": [
        {
          "output_type": "execute_result",
          "data": {
            "text/plain": [
              "array([[2.6198, 2.6076, 2.601 , 2.5828, 2.5868, 2.5876, 2.5628, 2.5238,\n",
              "        2.4906, 2.4396],\n",
              "       [2.6076, 2.601 , 2.5828, 2.5868, 2.5876, 2.5628, 2.5238, 2.4906,\n",
              "        2.4396, 2.395 ],\n",
              "       [2.601 , 2.5828, 2.5868, 2.5876, 2.5628, 2.5238, 2.4906, 2.4396,\n",
              "        2.395 , 2.3716],\n",
              "       [2.5828, 2.5868, 2.5876, 2.5628, 2.5238, 2.4906, 2.4396, 2.395 ,\n",
              "        2.3716, 2.3624],\n",
              "       [2.5868, 2.5876, 2.5628, 2.5238, 2.4906, 2.4396, 2.395 , 2.3716,\n",
              "        2.3624, 2.359 ],\n",
              "       [2.5876, 2.5628, 2.5238, 2.4906, 2.4396, 2.395 , 2.3716, 2.3624,\n",
              "        2.359 , 2.3606],\n",
              "       [2.5628, 2.5238, 2.4906, 2.4396, 2.395 , 2.3716, 2.3624, 2.359 ,\n",
              "        2.3606, 2.3608],\n",
              "       [2.5238, 2.4906, 2.4396, 2.395 , 2.3716, 2.3624, 2.359 , 2.3606,\n",
              "        2.3608, 2.3708],\n",
              "       [2.4906, 2.4396, 2.395 , 2.3716, 2.3624, 2.359 , 2.3606, 2.3608,\n",
              "        2.3708, 2.3766],\n",
              "       [2.4396, 2.395 , 2.3716, 2.3624, 2.359 , 2.3606, 2.3608, 2.3708,\n",
              "        2.3766, 2.3624]])"
            ]
          },
          "metadata": {},
          "execution_count": 149
        }
      ]
    },
    {
      "cell_type": "code",
      "source": [
        "pred = np.expand_dims(svr_rbf.predict([new_train[-1]]), axis = 0)"
      ],
      "metadata": {
        "id": "Tb_r6g9nVHEL"
      },
      "execution_count": 151,
      "outputs": []
    },
    {
      "cell_type": "code",
      "source": [
        "pred"
      ],
      "metadata": {
        "colab": {
          "base_uri": "https://localhost:8080/"
        },
        "id": "WdS9nvGJfKjQ",
        "outputId": "d8f43049-cd0b-4481-bda1-17d0043449ba"
      },
      "execution_count": 152,
      "outputs": [
        {
          "output_type": "execute_result",
          "data": {
            "text/plain": [
              "array([[2.3664315]])"
            ]
          },
          "metadata": {},
          "execution_count": 152
        }
      ]
    },
    {
      "cell_type": "code",
      "source": [
        "pred = np.expand_dims(svr_rbf.predict([new_train[-1]]), axis = 0)\n",
        "new_train_y = np.concatenate((new_train_y, pred), axis = 0)\n",
        "# new_train_y.shape\n",
        "svr_rbf.fit(new_train, new_train_y)\n",
        "temp = np.expand_dims(new_train[-1, -9:], axis = 0 )\n",
        "\n",
        "new_train = np.concatenate((new_train, new_train[-1, -9:]), axis = 0)\n"
      ],
      "metadata": {
        "colab": {
          "base_uri": "https://localhost:8080/"
        },
        "id": "f0TQiQlwdF8I",
        "outputId": "c1ce1539-3cab-4753-a5f4-57a821329e68"
      },
      "execution_count": 153,
      "outputs": [
        {
          "output_type": "execute_result",
          "data": {
            "text/plain": [
              "(1657, 1)"
            ]
          },
          "metadata": {},
          "execution_count": 153
        }
      ]
    },
    {
      "cell_type": "code",
      "source": [
        "new_train[-1, -9:].shape"
      ],
      "metadata": {
        "colab": {
          "base_uri": "https://localhost:8080/"
        },
        "id": "dIy2Rn_sdGWd",
        "outputId": "35c21753-8f65-4f62-8884-f4058abf93f5"
      },
      "execution_count": 155,
      "outputs": [
        {
          "output_type": "execute_result",
          "data": {
            "text/plain": [
              "(9,)"
            ]
          },
          "metadata": {},
          "execution_count": 155
        }
      ]
    },
    {
      "cell_type": "code",
      "source": [
        "pred.shape"
      ],
      "metadata": {
        "colab": {
          "base_uri": "https://localhost:8080/"
        },
        "id": "RAOrMFTWeL7s",
        "outputId": "bb2ca841-22f1-4c22-dce6-a4e6219f6227"
      },
      "execution_count": 145,
      "outputs": [
        {
          "output_type": "execute_result",
          "data": {
            "text/plain": [
              "(1, 10)"
            ]
          },
          "metadata": {},
          "execution_count": 145
        }
      ]
    },
    {
      "cell_type": "code",
      "source": [
        "svr_rbf.predict(new_train[-10:])"
      ],
      "metadata": {
        "colab": {
          "base_uri": "https://localhost:8080/"
        },
        "id": "Y4fDgZXveNh4",
        "outputId": "c1c28a0d-f11c-45ff-84ba-db2558ff05a1"
      },
      "execution_count": 146,
      "outputs": [
        {
          "output_type": "execute_result",
          "data": {
            "text/plain": [
              "array([2.42811578, 2.40249905, 2.38233852, 2.36538782, 2.36918009,\n",
              "       2.37144466, 2.36357207, 2.36879472, 2.37884338, 2.3664315 ])"
            ]
          },
          "metadata": {},
          "execution_count": 146
        }
      ]
    },
    {
      "cell_type": "code",
      "source": [
        "X_train.shape"
      ],
      "metadata": {
        "colab": {
          "base_uri": "https://localhost:8080/"
        },
        "id": "TqebMBOIef3O",
        "outputId": "19d03731-a6df-4a96-ad88-b9ba98b54edc"
      },
      "execution_count": 156,
      "outputs": [
        {
          "output_type": "execute_result",
          "data": {
            "text/plain": [
              "(1647, 10)"
            ]
          },
          "metadata": {},
          "execution_count": 156
        }
      ]
    }
  ]
}