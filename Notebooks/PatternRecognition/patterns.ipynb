{
  "nbformat": 4,
  "nbformat_minor": 0,
  "metadata": {
    "colab": {
      "name": "patterns.ipynb",
      "provenance": [],
      "toc_visible": true,
      "mount_file_id": "1CMxXDVoHLz6Ri2_atpElqs03jU_hFMxl",
      "authorship_tag": "ABX9TyNm/wPvbX60oVDYEdxj0My3",
      "include_colab_link": true
    },
    "kernelspec": {
      "name": "python3",
      "display_name": "Python 3"
    },
    "language_info": {
      "name": "python"
    }
  },
  "cells": [
    {
      "cell_type": "markdown",
      "metadata": {
        "id": "view-in-github",
        "colab_type": "text"
      },
      "source": [
        "<a href=\"https://colab.research.google.com/github/NainaniJatinZ/Hack_Inversion-SIH/blob/main/Notebooks/PatternRecognition/patterns.ipynb\" target=\"_parent\"><img src=\"https://colab.research.google.com/assets/colab-badge.svg\" alt=\"Open In Colab\"/></a>"
      ]
    },
    {
      "cell_type": "code",
      "execution_count": null,
      "metadata": {
        "id": "HQmbb2o5bN3F"
      },
      "outputs": [],
      "source": [
        "import matplotlib.pyplot as plt\n",
        "import numpy as np\n",
        "import scipy.stats as stats\n",
        "import math\n",
        "import pandas as pd\n",
        "import datetime\n",
        "import pylab as p\n",
        "from matplotlib.backends.backend_agg import FigureCanvasAgg as FigureCanvas\n",
        "from matplotlib.figure import Figure"
      ]
    },
    {
      "cell_type": "markdown",
      "source": [
        "# Pattern definition "
      ],
      "metadata": {
        "id": "ed18Bb9gcRtF"
      }
    },
    {
      "cell_type": "code",
      "source": [
        "def pattern(stride, w1, w2, mu1, s1, mu2, s2):\n",
        "  x3 = np.linspace(mu1 - 3*s1, mu2 + 3*s2, stride)\n",
        "  y1 = stats.norm.pdf(x3, mu1, s1)\n",
        "  y2 = stats.norm.pdf(x3, mu2, s2)\n",
        "  y = w1*y1+w2*y2\n",
        "  return y"
      ],
      "metadata": {
        "id": "nIClKAS7ALAs"
      },
      "execution_count": null,
      "outputs": []
    },
    {
      "cell_type": "code",
      "source": [
        "stride = 130"
      ],
      "metadata": {
        "id": "irX18ZeH6jlP"
      },
      "execution_count": null,
      "outputs": []
    },
    {
      "cell_type": "code",
      "source": [
        "mu1 = 0  #@param {type:\"slider\", min:-10, max:10, step:0.1}   \n",
        "mu2 = 2   #@param {type:\"slider\", min:-10, max:10, step:0.1}\n",
        "s1 = 0.5  #@param {type:\"slider\", min:-1, max:1, step:0.1}\n",
        "s2 = 0.5  #@param {type:\"slider\", min:-1, max:1, step:0.1}\n",
        "w1 = 0.8  #@param {type:\"slider\", min:0, max:1, step:0.1}\n",
        "w2 = 0.6   #@param {type:\"slider\", min:0, max:1, step:0.1}\n",
        "stride = 100 #@param {type:\"slider\", min:10, max:200, step:5}\n",
        "x3 = np.linspace(mu1 - 3*s1, mu2 + 3*s2, stride)\n",
        "y1 = stats.norm.pdf(x3, mu1, s1)\n",
        "y2 = stats.norm.pdf(x3, mu2, s2)\n",
        "y = w1*y1+w2*y2\n",
        "plt.plot(x3,y)"
      ],
      "metadata": {
        "colab": {
          "base_uri": "https://localhost:8080/",
          "height": 282
        },
        "id": "c3jz8D78-wSw",
        "outputId": "33c7b9dc-f7b2-44b3-e281-0987d874902b"
      },
      "execution_count": null,
      "outputs": [
        {
          "output_type": "execute_result",
          "data": {
            "text/plain": [
              "[<matplotlib.lines.Line2D at 0x7f48d7559450>]"
            ]
          },
          "metadata": {},
          "execution_count": 89
        },
        {
          "output_type": "display_data",
          "data": {
            "text/plain": [
              "<Figure size 432x288 with 1 Axes>"
            ],
            "image/png": "[encoded data removed]"
          },
          "metadata": {
            "needs_background": "light"
          }
        }
      ]
    },
    {
      "cell_type": "markdown",
      "source": [
        "# Data"
      ],
      "metadata": {
        "id": "dCs_K8xCdhg0"
      }
    },
    {
      "cell_type": "code",
      "source": [
        "nasd = pd.read_csv('/content/drive/MyDrive/SIH- Hack Inversion/Coding/data/initial_nymex_sma_ema_macd.csv')\n",
        "nasd.head()"
      ],
      "metadata": {
        "colab": {
          "base_uri": "https://localhost:8080/",
          "height": 205
        },
        "id": "XVwnMoO3ctzl",
        "outputId": "1d4741d8-ecc0-40f6-aac6-f26fc4553458"
      },
      "execution_count": null,
      "outputs": [
        {
          "output_type": "execute_result",
          "data": {
            "text/plain": [
              "   Unnamed: 0        Date  Close    Volume   Open   High    Low       SMA  \\\n",
              "0           0  2022-03-11  4.725   77808.0  4.657  4.797  4.622  2.567271   \n",
              "1           1  2022-03-10  4.631   75295.0  4.520  4.671  4.499  2.571329   \n",
              "2           2  2022-03-09  4.526   87262.0  4.569  4.625  4.450  2.575793   \n",
              "3           3  2022-03-08  4.527  152372.0  4.818  4.882  4.507  2.581071   \n",
              "4           4  2022-03-07  4.833  125430.0  5.041  5.184  4.781  2.588343   \n",
              "\n",
              "        EMA      MACD  \n",
              "0  2.570803 -0.312644  \n",
              "1  2.575145 -0.314626  \n",
              "2  2.579119 -0.316987  \n",
              "3  2.583365 -0.319151  \n",
              "4  2.587744 -0.321241  "
            ],
            "text/html": [
              "\n",
              "  <div id=\"df-e2ce60cc-deb0-447d-8f9f-a233d293b62f\">\n",
              "    <div class=\"colab-df-container\">\n",
              "      <div>\n",
              "<style scoped>\n",
              "    .dataframe tbody tr th:only-of-type {\n",
              "        vertical-align: middle;\n",
              "    }\n",
              "\n",
              "    .dataframe tbody tr th {\n",
              "        vertical-align: top;\n",
              "    }\n",
              "\n",
              "    .dataframe thead th {\n",
              "        text-align: right;\n",
              "    }\n",
              "</style>\n",
              "<table border=\"1\" class=\"dataframe\">\n",
              "  <thead>\n",
              "    <tr style=\"text-align: right;\">\n",
              "      <th></th>\n",
              "      <th>Unnamed: 0</th>\n",
              "      <th>Date</th>\n",
              "      <th>Close</th>\n",
              "      <th>Volume</th>\n",
              "      <th>Open</th>\n",
              "      <th>High</th>\n",
              "      <th>Low</th>\n",
              "      <th>SMA</th>\n",
              "      <th>EMA</th>\n",
              "      <th>MACD</th>\n",
              "    </tr>\n",
              "  </thead>\n",
              "  <tbody>\n",
              "    <tr>\n",
              "      <th>0</th>\n",
              "      <td>0</td>\n",
              "      <td>2022-03-11</td>\n",
              "      <td>4.725</td>\n",
              "      <td>77808.0</td>\n",
              "      <td>4.657</td>\n",
              "      <td>4.797</td>\n",
              "      <td>4.622</td>\n",
              "      <td>2.567271</td>\n",
              "      <td>2.570803</td>\n",
              "      <td>-0.312644</td>\n",
              "    </tr>\n",
              "    <tr>\n",
              "      <th>1</th>\n",
              "      <td>1</td>\n",
              "      <td>2022-03-10</td>\n",
              "      <td>4.631</td>\n",
              "      <td>75295.0</td>\n",
              "      <td>4.520</td>\n",
              "      <td>4.671</td>\n",
              "      <td>4.499</td>\n",
              "      <td>2.571329</td>\n",
              "      <td>2.575145</td>\n",
              "      <td>-0.314626</td>\n",
              "    </tr>\n",
              "    <tr>\n",
              "      <th>2</th>\n",
              "      <td>2</td>\n",
              "      <td>2022-03-09</td>\n",
              "      <td>4.526</td>\n",
              "      <td>87262.0</td>\n",
              "      <td>4.569</td>\n",
              "      <td>4.625</td>\n",
              "      <td>4.450</td>\n",
              "      <td>2.575793</td>\n",
              "      <td>2.579119</td>\n",
              "      <td>-0.316987</td>\n",
              "    </tr>\n",
              "    <tr>\n",
              "      <th>3</th>\n",
              "      <td>3</td>\n",
              "      <td>2022-03-08</td>\n",
              "      <td>4.527</td>\n",
              "      <td>152372.0</td>\n",
              "      <td>4.818</td>\n",
              "      <td>4.882</td>\n",
              "      <td>4.507</td>\n",
              "      <td>2.581071</td>\n",
              "      <td>2.583365</td>\n",
              "      <td>-0.319151</td>\n",
              "    </tr>\n",
              "    <tr>\n",
              "      <th>4</th>\n",
              "      <td>4</td>\n",
              "      <td>2022-03-07</td>\n",
              "      <td>4.833</td>\n",
              "      <td>125430.0</td>\n",
              "      <td>5.041</td>\n",
              "      <td>5.184</td>\n",
              "      <td>4.781</td>\n",
              "      <td>2.588343</td>\n",
              "      <td>2.587744</td>\n",
              "      <td>-0.321241</td>\n",
              "    </tr>\n",
              "  </tbody>\n",
              "</table>\n",
              "</div>\n",
              "      <button class=\"colab-df-convert\" onclick=\"convertToInteractive('df-e2ce60cc-deb0-447d-8f9f-a233d293b62f')\"\n",
              "              title=\"Convert this dataframe to an interactive table.\"\n",
              "              style=\"display:none;\">\n",
              "        \n",
              "  <svg xmlns=\"http://www.w3.org/2000/svg\" height=\"24px\"viewBox=\"0 0 24 24\"\n",
              "       width=\"24px\">\n",
              "    <path d=\"M0 0h24v24H0V0z\" fill=\"none\"/>\n",
              "    <path d=\"M18.56 5.44l.94 2.06.94-2.06 2.06-.94-2.06-.94-.94-2.06-.94 2.06-2.06.94zm-11 1L8.5 8.5l.94-2.06 2.06-.94-2.06-.94L8.5 2.5l-.94 2.06-2.06.94zm10 10l.94 2.06.94-2.06 2.06-.94-2.06-.94-.94-2.06-.94 2.06-2.06.94z\"/><path d=\"M17.41 7.96l-1.37-1.37c-.4-.4-.92-.59-1.43-.59-.52 0-1.04.2-1.43.59L10.3 9.45l-7.72 7.72c-.78.78-.78 2.05 0 2.83L4 21.41c.39.39.9.59 1.41.59.51 0 1.02-.2 1.41-.59l7.78-7.78 2.81-2.81c.8-.78.8-2.07 0-2.86zM5.41 20L4 18.59l7.72-7.72 1.47 1.35L5.41 20z\"/>\n",
              "  </svg>\n",
              "      </button>\n",
              "      \n",
              "  <style>\n",
              "    .colab-df-container {\n",
              "      display:flex;\n",
              "      flex-wrap:wrap;\n",
              "      gap: 12px;\n",
              "    }\n",
              "\n",
              "    .colab-df-convert {\n",
              "      background-color: #E8F0FE;\n",
              "      border: none;\n",
              "      border-radius: 50%;\n",
              "      cursor: pointer;\n",
              "      display: none;\n",
              "      fill: #1967D2;\n",
              "      height: 32px;\n",
              "      padding: 0 0 0 0;\n",
              "      width: 32px;\n",
              "    }\n",
              "\n",
              "    .colab-df-convert:hover {\n",
              "      background-color: #E2EBFA;\n",
              "      box-shadow: 0px 1px 2px rgba(60, 64, 67, 0.3), 0px 1px 3px 1px rgba(60, 64, 67, 0.15);\n",
              "      fill: #174EA6;\n",
              "    }\n",
              "\n",
              "    [theme=dark] .colab-df-convert {\n",
              "      background-color: #3B4455;\n",
              "      fill: #D2E3FC;\n",
              "    }\n",
              "\n",
              "    [theme=dark] .colab-df-convert:hover {\n",
              "      background-color: #434B5C;\n",
              "      box-shadow: 0px 1px 3px 1px rgba(0, 0, 0, 0.15);\n",
              "      filter: drop-shadow(0px 1px 2px rgba(0, 0, 0, 0.3));\n",
              "      fill: #FFFFFF;\n",
              "    }\n",
              "  </style>\n",
              "\n",
              "      <script>\n",
              "        const buttonEl =\n",
              "          document.querySelector('#df-e2ce60cc-deb0-447d-8f9f-a233d293b62f button.colab-df-convert');\n",
              "        buttonEl.style.display =\n",
              "          google.colab.kernel.accessAllowed ? 'block' : 'none';\n",
              "\n",
              "        async function convertToInteractive(key) {\n",
              "          const element = document.querySelector('#df-e2ce60cc-deb0-447d-8f9f-a233d293b62f');\n",
              "          const dataTable =\n",
              "            await google.colab.kernel.invokeFunction('convertToInteractive',\n",
              "                                                     [key], {});\n",
              "          if (!dataTable) return;\n",
              "\n",
              "          const docLinkHtml = 'Like what you see? Visit the ' +\n",
              "            '<a target=\"_blank\" href=https://colab.research.google.com/notebooks/data_table.ipynb>data table notebook</a>'\n",
              "            + ' to learn more about interactive tables.';\n",
              "          element.innerHTML = '';\n",
              "          dataTable['output_type'] = 'display_data';\n",
              "          await google.colab.output.renderOutput(dataTable, element);\n",
              "          const docLink = document.createElement('div');\n",
              "          docLink.innerHTML = docLinkHtml;\n",
              "          element.appendChild(docLink);\n",
              "        }\n",
              "      </script>\n",
              "    </div>\n",
              "  </div>\n",
              "  "
            ]
          },
          "metadata": {},
          "execution_count": 7
        }
      ]
    },
    {
      "cell_type": "code",
      "source": [
        "# nasd = nasd.drop(columns = ['Unnamed: 0'])\n",
        "nasd = nasd.fillna(nasd.mean())\n",
        "nasd.isna().sum()"
      ],
      "metadata": {
        "colab": {
          "base_uri": "https://localhost:8080/"
        },
        "id": "Q6r70Veed6wY",
        "outputId": "44be38db-d756-45fc-c403-a9953341b6bf"
      },
      "execution_count": null,
      "outputs": [
        {
          "output_type": "stream",
          "name": "stderr",
          "text": [
            "/usr/local/lib/python3.7/dist-packages/ipykernel_launcher.py:2: FutureWarning: Dropping of nuisance columns in DataFrame reductions (with 'numeric_only=None') is deprecated; in a future version this will raise TypeError.  Select only valid columns before calling the reduction.\n",
            "  \n"
          ]
        },
        {
          "output_type": "execute_result",
          "data": {
            "text/plain": [
              "Date      0\n",
              "Close     0\n",
              "Volume    0\n",
              "Open      0\n",
              "High      0\n",
              "Low       0\n",
              "SMA       0\n",
              "EMA       0\n",
              "MACD      0\n",
              "dtype: int64"
            ]
          },
          "metadata": {},
          "execution_count": 11
        }
      ]
    },
    {
      "cell_type": "code",
      "source": [
        "nasd=nasd.reindex(index=nasd.index[::-1])\n",
        "nasd.head()"
      ],
      "metadata": {
        "colab": {
          "base_uri": "https://localhost:8080/",
          "height": 205
        },
        "id": "GDuc7bWcgY_z",
        "outputId": "52c305dd-4d25-45e2-f3c2-c53adc576e91"
      },
      "execution_count": null,
      "outputs": [
        {
          "output_type": "execute_result",
          "data": {
            "text/plain": [
              "            Date  Close    Volume   Open   High    Low  SMA  EMA  MACD\n",
              "2553  2012-03-12  2.269   82299.0  2.272  2.289  2.235  0.0  0.0   0.0\n",
              "2552  2012-03-13  2.299  114622.0  2.270  2.338  2.207  0.0  0.0   0.0\n",
              "2551  2012-03-14  2.284  120435.0  2.329  2.343  2.248  0.0  0.0   0.0\n",
              "2550  2012-03-15  2.279  117788.0  2.275  2.331  2.234  0.0  0.0   0.0\n",
              "2549  2012-03-16  2.326  112037.0  2.267  2.349  2.247  0.0  0.0   0.0"
            ],
            "text/html": [
              "\n",
              "  <div id=\"df-2f683c11-e436-4afb-9221-c17e02708c0f\">\n",
              "    <div class=\"colab-df-container\">\n",
              "      <div>\n",
              "<style scoped>\n",
              "    .dataframe tbody tr th:only-of-type {\n",
              "        vertical-align: middle;\n",
              "    }\n",
              "\n",
              "    .dataframe tbody tr th {\n",
              "        vertical-align: top;\n",
              "    }\n",
              "\n",
              "    .dataframe thead th {\n",
              "        text-align: right;\n",
              "    }\n",
              "</style>\n",
              "<table border=\"1\" class=\"dataframe\">\n",
              "  <thead>\n",
              "    <tr style=\"text-align: right;\">\n",
              "      <th></th>\n",
              "      <th>Date</th>\n",
              "      <th>Close</th>\n",
              "      <th>Volume</th>\n",
              "      <th>Open</th>\n",
              "      <th>High</th>\n",
              "      <th>Low</th>\n",
              "      <th>SMA</th>\n",
              "      <th>EMA</th>\n",
              "      <th>MACD</th>\n",
              "    </tr>\n",
              "  </thead>\n",
              "  <tbody>\n",
              "    <tr>\n",
              "      <th>2553</th>\n",
              "      <td>2012-03-12</td>\n",
              "      <td>2.269</td>\n",
              "      <td>82299.0</td>\n",
              "      <td>2.272</td>\n",
              "      <td>2.289</td>\n",
              "      <td>2.235</td>\n",
              "      <td>0.0</td>\n",
              "      <td>0.0</td>\n",
              "      <td>0.0</td>\n",
              "    </tr>\n",
              "    <tr>\n",
              "      <th>2552</th>\n",
              "      <td>2012-03-13</td>\n",
              "      <td>2.299</td>\n",
              "      <td>114622.0</td>\n",
              "      <td>2.270</td>\n",
              "      <td>2.338</td>\n",
              "      <td>2.207</td>\n",
              "      <td>0.0</td>\n",
              "      <td>0.0</td>\n",
              "      <td>0.0</td>\n",
              "    </tr>\n",
              "    <tr>\n",
              "      <th>2551</th>\n",
              "      <td>2012-03-14</td>\n",
              "      <td>2.284</td>\n",
              "      <td>120435.0</td>\n",
              "      <td>2.329</td>\n",
              "      <td>2.343</td>\n",
              "      <td>2.248</td>\n",
              "      <td>0.0</td>\n",
              "      <td>0.0</td>\n",
              "      <td>0.0</td>\n",
              "    </tr>\n",
              "    <tr>\n",
              "      <th>2550</th>\n",
              "      <td>2012-03-15</td>\n",
              "      <td>2.279</td>\n",
              "      <td>117788.0</td>\n",
              "      <td>2.275</td>\n",
              "      <td>2.331</td>\n",
              "      <td>2.234</td>\n",
              "      <td>0.0</td>\n",
              "      <td>0.0</td>\n",
              "      <td>0.0</td>\n",
              "    </tr>\n",
              "    <tr>\n",
              "      <th>2549</th>\n",
              "      <td>2012-03-16</td>\n",
              "      <td>2.326</td>\n",
              "      <td>112037.0</td>\n",
              "      <td>2.267</td>\n",
              "      <td>2.349</td>\n",
              "      <td>2.247</td>\n",
              "      <td>0.0</td>\n",
              "      <td>0.0</td>\n",
              "      <td>0.0</td>\n",
              "    </tr>\n",
              "  </tbody>\n",
              "</table>\n",
              "</div>\n",
              "      <button class=\"colab-df-convert\" onclick=\"convertToInteractive('df-2f683c11-e436-4afb-9221-c17e02708c0f')\"\n",
              "              title=\"Convert this dataframe to an interactive table.\"\n",
              "              style=\"display:none;\">\n",
              "        \n",
              "  <svg xmlns=\"http://www.w3.org/2000/svg\" height=\"24px\"viewBox=\"0 0 24 24\"\n",
              "       width=\"24px\">\n",
              "    <path d=\"M0 0h24v24H0V0z\" fill=\"none\"/>\n",
              "    <path d=\"M18.56 5.44l.94 2.06.94-2.06 2.06-.94-2.06-.94-.94-2.06-.94 2.06-2.06.94zm-11 1L8.5 8.5l.94-2.06 2.06-.94-2.06-.94L8.5 2.5l-.94 2.06-2.06.94zm10 10l.94 2.06.94-2.06 2.06-.94-2.06-.94-.94-2.06-.94 2.06-2.06.94z\"/><path d=\"M17.41 7.96l-1.37-1.37c-.4-.4-.92-.59-1.43-.59-.52 0-1.04.2-1.43.59L10.3 9.45l-7.72 7.72c-.78.78-.78 2.05 0 2.83L4 21.41c.39.39.9.59 1.41.59.51 0 1.02-.2 1.41-.59l7.78-7.78 2.81-2.81c.8-.78.8-2.07 0-2.86zM5.41 20L4 18.59l7.72-7.72 1.47 1.35L5.41 20z\"/>\n",
              "  </svg>\n",
              "      </button>\n",
              "      \n",
              "  <style>\n",
              "    .colab-df-container {\n",
              "      display:flex;\n",
              "      flex-wrap:wrap;\n",
              "      gap: 12px;\n",
              "    }\n",
              "\n",
              "    .colab-df-convert {\n",
              "      background-color: #E8F0FE;\n",
              "      border: none;\n",
              "      border-radius: 50%;\n",
              "      cursor: pointer;\n",
              "      display: none;\n",
              "      fill: #1967D2;\n",
              "      height: 32px;\n",
              "      padding: 0 0 0 0;\n",
              "      width: 32px;\n",
              "    }\n",
              "\n",
              "    .colab-df-convert:hover {\n",
              "      background-color: #E2EBFA;\n",
              "      box-shadow: 0px 1px 2px rgba(60, 64, 67, 0.3), 0px 1px 3px 1px rgba(60, 64, 67, 0.15);\n",
              "      fill: #174EA6;\n",
              "    }\n",
              "\n",
              "    [theme=dark] .colab-df-convert {\n",
              "      background-color: #3B4455;\n",
              "      fill: #D2E3FC;\n",
              "    }\n",
              "\n",
              "    [theme=dark] .colab-df-convert:hover {\n",
              "      background-color: #434B5C;\n",
              "      box-shadow: 0px 1px 3px 1px rgba(0, 0, 0, 0.15);\n",
              "      filter: drop-shadow(0px 1px 2px rgba(0, 0, 0, 0.3));\n",
              "      fill: #FFFFFF;\n",
              "    }\n",
              "  </style>\n",
              "\n",
              "      <script>\n",
              "        const buttonEl =\n",
              "          document.querySelector('#df-2f683c11-e436-4afb-9221-c17e02708c0f button.colab-df-convert');\n",
              "        buttonEl.style.display =\n",
              "          google.colab.kernel.accessAllowed ? 'block' : 'none';\n",
              "\n",
              "        async function convertToInteractive(key) {\n",
              "          const element = document.querySelector('#df-2f683c11-e436-4afb-9221-c17e02708c0f');\n",
              "          const dataTable =\n",
              "            await google.colab.kernel.invokeFunction('convertToInteractive',\n",
              "                                                     [key], {});\n",
              "          if (!dataTable) return;\n",
              "\n",
              "          const docLinkHtml = 'Like what you see? Visit the ' +\n",
              "            '<a target=\"_blank\" href=https://colab.research.google.com/notebooks/data_table.ipynb>data table notebook</a>'\n",
              "            + ' to learn more about interactive tables.';\n",
              "          element.innerHTML = '';\n",
              "          dataTable['output_type'] = 'display_data';\n",
              "          await google.colab.output.renderOutput(dataTable, element);\n",
              "          const docLink = document.createElement('div');\n",
              "          docLink.innerHTML = docLinkHtml;\n",
              "          element.appendChild(docLink);\n",
              "        }\n",
              "      </script>\n",
              "    </div>\n",
              "  </div>\n",
              "  "
            ]
          },
          "metadata": {},
          "execution_count": 12
        }
      ]
    },
    {
      "cell_type": "code",
      "source": [
        "nasd=nasd.reset_index()\n",
        "nasd.head()"
      ],
      "metadata": {
        "colab": {
          "base_uri": "https://localhost:8080/",
          "height": 205
        },
        "id": "wmg80BAPgszD",
        "outputId": "76070591-77dc-4480-e32a-cb9f29f6763a"
      },
      "execution_count": null,
      "outputs": [
        {
          "output_type": "execute_result",
          "data": {
            "text/plain": [
              "   index        Date  Close    Volume   Open   High    Low  SMA  EMA  MACD\n",
              "0   2553  2012-03-12  2.269   82299.0  2.272  2.289  2.235  0.0  0.0   0.0\n",
              "1   2552  2012-03-13  2.299  114622.0  2.270  2.338  2.207  0.0  0.0   0.0\n",
              "2   2551  2012-03-14  2.284  120435.0  2.329  2.343  2.248  0.0  0.0   0.0\n",
              "3   2550  2012-03-15  2.279  117788.0  2.275  2.331  2.234  0.0  0.0   0.0\n",
              "4   2549  2012-03-16  2.326  112037.0  2.267  2.349  2.247  0.0  0.0   0.0"
            ],
            "text/html": [
              "\n",
              "  <div id=\"df-27aa3411-a1bf-42a3-8e48-4ea9daaa6629\">\n",
              "    <div class=\"colab-df-container\">\n",
              "      <div>\n",
              "<style scoped>\n",
              "    .dataframe tbody tr th:only-of-type {\n",
              "        vertical-align: middle;\n",
              "    }\n",
              "\n",
              "    .dataframe tbody tr th {\n",
              "        vertical-align: top;\n",
              "    }\n",
              "\n",
              "    .dataframe thead th {\n",
              "        text-align: right;\n",
              "    }\n",
              "</style>\n",
              "<table border=\"1\" class=\"dataframe\">\n",
              "  <thead>\n",
              "    <tr style=\"text-align: right;\">\n",
              "      <th></th>\n",
              "      <th>index</th>\n",
              "      <th>Date</th>\n",
              "      <th>Close</th>\n",
              "      <th>Volume</th>\n",
              "      <th>Open</th>\n",
              "      <th>High</th>\n",
              "      <th>Low</th>\n",
              "      <th>SMA</th>\n",
              "      <th>EMA</th>\n",
              "      <th>MACD</th>\n",
              "    </tr>\n",
              "  </thead>\n",
              "  <tbody>\n",
              "    <tr>\n",
              "      <th>0</th>\n",
              "      <td>2553</td>\n",
              "      <td>2012-03-12</td>\n",
              "      <td>2.269</td>\n",
              "      <td>82299.0</td>\n",
              "      <td>2.272</td>\n",
              "      <td>2.289</td>\n",
              "      <td>2.235</td>\n",
              "      <td>0.0</td>\n",
              "      <td>0.0</td>\n",
              "      <td>0.0</td>\n",
              "    </tr>\n",
              "    <tr>\n",
              "      <th>1</th>\n",
              "      <td>2552</td>\n",
              "      <td>2012-03-13</td>\n",
              "      <td>2.299</td>\n",
              "      <td>114622.0</td>\n",
              "      <td>2.270</td>\n",
              "      <td>2.338</td>\n",
              "      <td>2.207</td>\n",
              "      <td>0.0</td>\n",
              "      <td>0.0</td>\n",
              "      <td>0.0</td>\n",
              "    </tr>\n",
              "    <tr>\n",
              "      <th>2</th>\n",
              "      <td>2551</td>\n",
              "      <td>2012-03-14</td>\n",
              "      <td>2.284</td>\n",
              "      <td>120435.0</td>\n",
              "      <td>2.329</td>\n",
              "      <td>2.343</td>\n",
              "      <td>2.248</td>\n",
              "      <td>0.0</td>\n",
              "      <td>0.0</td>\n",
              "      <td>0.0</td>\n",
              "    </tr>\n",
              "    <tr>\n",
              "      <th>3</th>\n",
              "      <td>2550</td>\n",
              "      <td>2012-03-15</td>\n",
              "      <td>2.279</td>\n",
              "      <td>117788.0</td>\n",
              "      <td>2.275</td>\n",
              "      <td>2.331</td>\n",
              "      <td>2.234</td>\n",
              "      <td>0.0</td>\n",
              "      <td>0.0</td>\n",
              "      <td>0.0</td>\n",
              "    </tr>\n",
              "    <tr>\n",
              "      <th>4</th>\n",
              "      <td>2549</td>\n",
              "      <td>2012-03-16</td>\n",
              "      <td>2.326</td>\n",
              "      <td>112037.0</td>\n",
              "      <td>2.267</td>\n",
              "      <td>2.349</td>\n",
              "      <td>2.247</td>\n",
              "      <td>0.0</td>\n",
              "      <td>0.0</td>\n",
              "      <td>0.0</td>\n",
              "    </tr>\n",
              "  </tbody>\n",
              "</table>\n",
              "</div>\n",
              "      <button class=\"colab-df-convert\" onclick=\"convertToInteractive('df-27aa3411-a1bf-42a3-8e48-4ea9daaa6629')\"\n",
              "              title=\"Convert this dataframe to an interactive table.\"\n",
              "              style=\"display:none;\">\n",
              "        \n",
              "  <svg xmlns=\"http://www.w3.org/2000/svg\" height=\"24px\"viewBox=\"0 0 24 24\"\n",
              "       width=\"24px\">\n",
              "    <path d=\"M0 0h24v24H0V0z\" fill=\"none\"/>\n",
              "    <path d=\"M18.56 5.44l.94 2.06.94-2.06 2.06-.94-2.06-.94-.94-2.06-.94 2.06-2.06.94zm-11 1L8.5 8.5l.94-2.06 2.06-.94-2.06-.94L8.5 2.5l-.94 2.06-2.06.94zm10 10l.94 2.06.94-2.06 2.06-.94-2.06-.94-.94-2.06-.94 2.06-2.06.94z\"/><path d=\"M17.41 7.96l-1.37-1.37c-.4-.4-.92-.59-1.43-.59-.52 0-1.04.2-1.43.59L10.3 9.45l-7.72 7.72c-.78.78-.78 2.05 0 2.83L4 21.41c.39.39.9.59 1.41.59.51 0 1.02-.2 1.41-.59l7.78-7.78 2.81-2.81c.8-.78.8-2.07 0-2.86zM5.41 20L4 18.59l7.72-7.72 1.47 1.35L5.41 20z\"/>\n",
              "  </svg>\n",
              "      </button>\n",
              "      \n",
              "  <style>\n",
              "    .colab-df-container {\n",
              "      display:flex;\n",
              "      flex-wrap:wrap;\n",
              "      gap: 12px;\n",
              "    }\n",
              "\n",
              "    .colab-df-convert {\n",
              "      background-color: #E8F0FE;\n",
              "      border: none;\n",
              "      border-radius: 50%;\n",
              "      cursor: pointer;\n",
              "      display: none;\n",
              "      fill: #1967D2;\n",
              "      height: 32px;\n",
              "      padding: 0 0 0 0;\n",
              "      width: 32px;\n",
              "    }\n",
              "\n",
              "    .colab-df-convert:hover {\n",
              "      background-color: #E2EBFA;\n",
              "      box-shadow: 0px 1px 2px rgba(60, 64, 67, 0.3), 0px 1px 3px 1px rgba(60, 64, 67, 0.15);\n",
              "      fill: #174EA6;\n",
              "    }\n",
              "\n",
              "    [theme=dark] .colab-df-convert {\n",
              "      background-color: #3B4455;\n",
              "      fill: #D2E3FC;\n",
              "    }\n",
              "\n",
              "    [theme=dark] .colab-df-convert:hover {\n",
              "      background-color: #434B5C;\n",
              "      box-shadow: 0px 1px 3px 1px rgba(0, 0, 0, 0.15);\n",
              "      filter: drop-shadow(0px 1px 2px rgba(0, 0, 0, 0.3));\n",
              "      fill: #FFFFFF;\n",
              "    }\n",
              "  </style>\n",
              "\n",
              "      <script>\n",
              "        const buttonEl =\n",
              "          document.querySelector('#df-27aa3411-a1bf-42a3-8e48-4ea9daaa6629 button.colab-df-convert');\n",
              "        buttonEl.style.display =\n",
              "          google.colab.kernel.accessAllowed ? 'block' : 'none';\n",
              "\n",
              "        async function convertToInteractive(key) {\n",
              "          const element = document.querySelector('#df-27aa3411-a1bf-42a3-8e48-4ea9daaa6629');\n",
              "          const dataTable =\n",
              "            await google.colab.kernel.invokeFunction('convertToInteractive',\n",
              "                                                     [key], {});\n",
              "          if (!dataTable) return;\n",
              "\n",
              "          const docLinkHtml = 'Like what you see? Visit the ' +\n",
              "            '<a target=\"_blank\" href=https://colab.research.google.com/notebooks/data_table.ipynb>data table notebook</a>'\n",
              "            + ' to learn more about interactive tables.';\n",
              "          element.innerHTML = '';\n",
              "          dataTable['output_type'] = 'display_data';\n",
              "          await google.colab.output.renderOutput(dataTable, element);\n",
              "          const docLink = document.createElement('div');\n",
              "          docLink.innerHTML = docLinkHtml;\n",
              "          element.appendChild(docLink);\n",
              "        }\n",
              "      </script>\n",
              "    </div>\n",
              "  </div>\n",
              "  "
            ]
          },
          "metadata": {},
          "execution_count": 13
        }
      ]
    },
    {
      "cell_type": "markdown",
      "source": [
        "# smooth"
      ],
      "metadata": {
        "id": "YnXW1XXmCVkb"
      }
    },
    {
      "cell_type": "code",
      "source": [
        "def sma(data_series, window_size):\n",
        "  windows = data_series.rolling(window_size)\n",
        "  moving_averages = windows.mean()\n",
        "  moving_averages_list = moving_averages.tolist()\n",
        "  without_nans = moving_averages_list[window_size - 1:]\n",
        "  return moving_averages_list"
      ],
      "metadata": {
        "id": "EoNySQRfCW2c"
      },
      "execution_count": null,
      "outputs": []
    },
    {
      "cell_type": "code",
      "source": [
        "smooth = 15\n",
        "ma = sma(nasd['Close'], smooth)\n",
        "x_ma = np.arange(smooth/2, nasd.shape[0]+1-smooth/2) "
      ],
      "metadata": {
        "id": "_JfQd7UrCX5a"
      },
      "execution_count": null,
      "outputs": []
    },
    {
      "cell_type": "code",
      "source": [
        "plt.plot"
      ],
      "metadata": {
        "id": "ORNIJX4bCiTi"
      },
      "execution_count": null,
      "outputs": []
    },
    {
      "cell_type": "markdown",
      "source": [
        "# climb hills please "
      ],
      "metadata": {
        "id": "jDu9f11ZdjLN"
      }
    },
    {
      "cell_type": "code",
      "source": [
        "\n",
        "def eval(stride):\n",
        "  best = 0\n",
        "  best_ind = -1\n",
        "  for i in range(len(nasd['Close'])-int(stride)):\n",
        "    price = nasd['Close'][i:int(stride)+i]\n",
        "    fin = pattern(int(stride), 0.8, 0.6, 0, 0.5, 2, 0.5)\n",
        "    coef = np.corrcoef(price, fin)[0][1]\n",
        "    if coef > best:\n",
        "      best = coef\n",
        "      best_ind = i\n",
        "    \n",
        "  return [best, best_ind]"
      ],
      "metadata": {
        "id": "K-lE_dwVhu_q"
      },
      "execution_count": null,
      "outputs": []
    },
    {
      "cell_type": "code",
      "source": [
        "\n",
        "def evalSmooth(stride):\n",
        "  best = 0\n",
        "  best_ind = -1\n",
        "  for i in range(len(ma)-int(stride)):\n",
        "    price = ma[i:int(stride)+i]\n",
        "    fin = pattern(int(stride), 0.8, 0.6, 0, 0.5, 2, 0.5)\n",
        "    coef = np.corrcoef(price, fin)[0][1]\n",
        "    if coef > best:\n",
        "      best = coef\n",
        "      best_ind = i\n",
        "    \n",
        "  return [best, best_ind]"
      ],
      "metadata": {
        "id": "67gv-R8uDh_u"
      },
      "execution_count": null,
      "outputs": []
    },
    {
      "cell_type": "code",
      "source": [
        "def hillclimbing(objective, bounds, n_iterations, step_size):\n",
        "    solution = bounds[:, 0] + np.random.rand(len(bounds)) * (bounds[:, 1] - bounds[:, 0])\n",
        "    solution_eval = objective(solution)[0]\n",
        "    solution_ind = objective(solution)[1]\n",
        "    for i in range(n_iterations):\n",
        "        candidate = solution + np.random.randn(len(bounds)) * step_size\n",
        "        if candidate>100 and candidate<200: \n",
        "            candidte_eval = objective(candidate)[0]\n",
        "            candidate_ind = objective(candidate)[1]\n",
        "            if candidte_eval >= solution_eval:\n",
        "                solution, solution_eval, solution_ind = candidate, candidte_eval, candidate_ind\n",
        "                print('>%d f(%s) = %.5f' % (i, solution, solution_eval))\n",
        "    return [solution, solution_eval, solution_ind]"
      ],
      "metadata": {
        "id": "wql5VkGtiHsj"
      },
      "execution_count": null,
      "outputs": []
    },
    {
      "cell_type": "markdown",
      "source": [
        "# Descending Triangle"
      ],
      "metadata": {
        "id": "OETQ-8r9lpfA"
      }
    },
    {
      "cell_type": "code",
      "source": [
        "whole = list()\n",
        "for i in range(120,180):\n",
        "  best = evalSmooth(i)[0]\n",
        "  whole.append(best)"
      ],
      "metadata": {
        "id": "o2I5_NPIizUa"
      },
      "execution_count": null,
      "outputs": []
    },
    {
      "cell_type": "code",
      "source": [
        "plt.plot(whole)\n",
        "plt.show()"
      ],
      "metadata": {
        "colab": {
          "base_uri": "https://localhost:8080/",
          "height": 264
        },
        "id": "7sSPRQhsjA24",
        "outputId": "8038bf31-c229-497d-b823-6300ec958e34"
      },
      "execution_count": null,
      "outputs": [
        {
          "output_type": "display_data",
          "data": {
            "text/plain": [
              "<Figure size 432x288 with 1 Axes>"
            ],
            "image/png": "[encoded data removed]"
          },
          "metadata": {
            "needs_background": "light"
          }
        }
      ]
    },
    {
      "cell_type": "code",
      "source": [
        "evalSmooth(150)"
      ],
      "metadata": {
        "colab": {
          "base_uri": "https://localhost:8080/"
        },
        "id": "QLA_vTj-ED3i",
        "outputId": "034d166c-b394-4982-aef9-2ec4fa747386"
      },
      "execution_count": null,
      "outputs": [
        {
          "output_type": "execute_result",
          "data": {
            "text/plain": [
              "[0.8335787836298794, 466]"
            ]
          },
          "metadata": {},
          "execution_count": 112
        }
      ]
    },
    {
      "cell_type": "code",
      "source": [
        "evalSmooth(180)"
      ],
      "metadata": {
        "colab": {
          "base_uri": "https://localhost:8080/"
        },
        "id": "uDSgtVooEKoy",
        "outputId": "9f55e5c8-99d7-41d7-cbc2-bdb299247d22"
      },
      "execution_count": null,
      "outputs": [
        {
          "output_type": "execute_result",
          "data": {
            "text/plain": [
              "[0.8672138999898308, 456]"
            ]
          },
          "metadata": {},
          "execution_count": 114
        }
      ]
    },
    {
      "cell_type": "code",
      "source": [
        "plt.plot(ma[456:456+180])"
      ],
      "metadata": {
        "colab": {
          "base_uri": "https://localhost:8080/",
          "height": 282
        },
        "id": "0ueImlxpEUet",
        "outputId": "d0dde054-9a3a-4934-ee57-5a7ab364d16b"
      },
      "execution_count": null,
      "outputs": [
        {
          "output_type": "execute_result",
          "data": {
            "text/plain": [
              "[<matplotlib.lines.Line2D at 0x7f48d6fe1850>]"
            ]
          },
          "metadata": {},
          "execution_count": 116
        },
        {
          "output_type": "display_data",
          "data": {
            "text/plain": [
              "<Figure size 432x288 with 1 Axes>"
            ],
            "image/png": "[encoded data removed]"
          },
          "metadata": {
            "needs_background": "light"
          }
        }
      ]
    },
    {
      "cell_type": "code",
      "source": [
        "fin = pattern(130, 0.8, 0.6, 0, 0.5, 2, 0.5)\n",
        "plt.plot(fin)"
      ],
      "metadata": {
        "colab": {
          "base_uri": "https://localhost:8080/",
          "height": 282
        },
        "id": "OD8ku0Ofjzdn",
        "outputId": "9c0b212a-8c30-4579-8539-338361c4edad"
      },
      "execution_count": null,
      "outputs": [
        {
          "output_type": "execute_result",
          "data": {
            "text/plain": [
              "[<matplotlib.lines.Line2D at 0x7f48d742e650>]"
            ]
          },
          "metadata": {},
          "execution_count": 94
        },
        {
          "output_type": "display_data",
          "data": {
            "text/plain": [
              "<Figure size 432x288 with 1 Axes>"
            ],
            "image/png": "[encoded data removed]"
          },
          "metadata": {
            "needs_background": "light"
          }
        }
      ]
    },
    {
      "cell_type": "code",
      "source": [
        "eval(180)"
      ],
      "metadata": {
        "colab": {
          "base_uri": "https://localhost:8080/"
        },
        "id": "v0jH8YQrBoiG",
        "outputId": "ed8b4c6f-2c2f-4655-e401-eb1a0de0cd06"
      },
      "execution_count": null,
      "outputs": [
        {
          "output_type": "execute_result",
          "data": {
            "text/plain": [
              "[0.7510228438366027, 449]"
            ]
          },
          "metadata": {},
          "execution_count": 98
        }
      ]
    },
    {
      "cell_type": "code",
      "source": [
        "plt.plot(nasd['Close'][2170:2170+155])"
      ],
      "metadata": {
        "colab": {
          "base_uri": "https://localhost:8080/",
          "height": 282
        },
        "id": "gQXcDDzJBugA",
        "outputId": "74d4f5fa-4f8e-419e-f492-f04220d3bef9"
      },
      "execution_count": null,
      "outputs": [
        {
          "output_type": "execute_result",
          "data": {
            "text/plain": [
              "[<matplotlib.lines.Line2D at 0x7f48d7399c90>]"
            ]
          },
          "metadata": {},
          "execution_count": 96
        },
        {
          "output_type": "display_data",
          "data": {
            "text/plain": [
              "<Figure size 432x288 with 1 Axes>"
            ],
            "image/png": "[encoded data removed]"
          },
          "metadata": {
            "needs_background": "light"
          }
        }
      ]
    },
    {
      "cell_type": "code",
      "source": [
        "plt.plot(ma[2170:2170+155])"
      ],
      "metadata": {
        "colab": {
          "base_uri": "https://localhost:8080/",
          "height": 282
        },
        "id": "zKGS4G2oCnRw",
        "outputId": "3ad42b88-c044-4a00-c0ed-548c3f076677"
      },
      "execution_count": null,
      "outputs": [
        {
          "output_type": "execute_result",
          "data": {
            "text/plain": [
              "[<matplotlib.lines.Line2D at 0x7f48d719b450>]"
            ]
          },
          "metadata": {},
          "execution_count": 107
        },
        {
          "output_type": "display_data",
          "data": {
            "text/plain": [
              "<Figure size 432x288 with 1 Axes>"
            ],
            "image/png": "[encoded data removed]"
          },
          "metadata": {
            "needs_background": "light"
          }
        }
      ]
    },
    {
      "cell_type": "code",
      "source": [
        "plt.plot(nasd['Close'][449:449+180])"
      ],
      "metadata": {
        "colab": {
          "base_uri": "https://localhost:8080/",
          "height": 282
        },
        "id": "TP3bQOkjB6QP",
        "outputId": "29e1f061-d334-427e-ed17-373dc413bdf2"
      },
      "execution_count": null,
      "outputs": [
        {
          "output_type": "execute_result",
          "data": {
            "text/plain": [
              "[<matplotlib.lines.Line2D at 0x7f48d7319cd0>]"
            ]
          },
          "metadata": {},
          "execution_count": 99
        },
        {
          "output_type": "display_data",
          "data": {
            "text/plain": [
              "<Figure size 432x288 with 1 Axes>"
            ],
            "image/png": "[encoded data removed]"
          },
          "metadata": {
            "needs_background": "light"
          }
        }
      ]
    },
    {
      "cell_type": "code",
      "source": [
        "plt.plot(ma[449:449+180])"
      ],
      "metadata": {
        "colab": {
          "base_uri": "https://localhost:8080/",
          "height": 282
        },
        "id": "3QreNV9kDbTi",
        "outputId": "c5ed5de7-58c2-4fd2-fa87-7462e47b11c1"
      },
      "execution_count": null,
      "outputs": [
        {
          "output_type": "execute_result",
          "data": {
            "text/plain": [
              "[<matplotlib.lines.Line2D at 0x7f48d710ba50>]"
            ]
          },
          "metadata": {},
          "execution_count": 108
        },
        {
          "output_type": "display_data",
          "data": {
            "text/plain": [
              "<Figure size 432x288 with 1 Axes>"
            ],
            "image/png": "[encoded data removed]"
          },
          "metadata": {
            "needs_background": "light"
          }
        }
      ]
    },
    {
      "cell_type": "code",
      "source": [
        "bounds1 = np.asarray([[100, 125]])\n",
        "bounds2 = np.asarray([[125, 150]])\n",
        "bounds3 = np.asarray([[150, 175]])\n",
        "bounds4 = np.asarray([[175, 200]])\n",
        "\n",
        "sol1 = hillclimbing(eval, bounds1, 40, 4)\n",
        "sol2 = hillclimbing(eval, bounds2, 40, 4)\n",
        "sol3 = hillclimbing(eval, bounds3, 40, 4)\n",
        "sol4 = hillclimbing(eval, bounds4, 40, 4)"
      ],
      "metadata": {
        "colab": {
          "base_uri": "https://localhost:8080/"
        },
        "id": "ga__B5Urj6g5",
        "outputId": "8b0718eb-9b02-42f3-adea-0dc0dc256e94"
      },
      "execution_count": null,
      "outputs": [
        {
          "output_type": "stream",
          "name": "stdout",
          "text": [
            ">0 f([120.4063027]) = 0.79204\n",
            ">2 f([125.92451561]) = 0.79849\n",
            ">3 f([125.14891682]) = 0.79849\n",
            ">5 f([130.03929812]) = 0.80365\n",
            ">9 f([140.64204156]) = 0.80664\n",
            ">10 f([142.44718186]) = 0.80827\n",
            ">12 f([142.16955406]) = 0.80827\n",
            ">14 f([148.07010964]) = 0.81151\n",
            ">17 f([148.78517939]) = 0.81151\n",
            ">25 f([147.2120258]) = 0.81152\n",
            ">37 f([147.45856089]) = 0.81152\n",
            ">0 f([147.53706028]) = 0.81152\n",
            ">2 f([147.89165225]) = 0.81152\n",
            ">9 f([147.80928289]) = 0.81152\n",
            ">18 f([147.11572573]) = 0.81152\n",
            ">22 f([147.50643621]) = 0.81152\n",
            ">31 f([147.0382126]) = 0.81152\n",
            ">0 f([148.87863995]) = 0.81151\n",
            ">12 f([147.44292178]) = 0.81152\n",
            ">13 f([147.0404202]) = 0.81152\n",
            ">14 f([147.23485499]) = 0.81152\n",
            ">1 f([182.07537995]) = 0.80795\n",
            ">3 f([187.65136527]) = 0.80804\n",
            ">4 f([187.47162322]) = 0.80804\n",
            ">8 f([186.3509127]) = 0.80812\n",
            ">9 f([184.69256357]) = 0.80833\n",
            ">12 f([185.96531597]) = 0.80849\n",
            ">15 f([185.39869186]) = 0.80849\n",
            ">17 f([185.186452]) = 0.80849\n",
            ">20 f([185.51390384]) = 0.80849\n",
            ">27 f([185.73373878]) = 0.80849\n",
            ">28 f([185.09184134]) = 0.80849\n"
          ]
        }
      ]
    },
    {
      "cell_type": "code",
      "source": [
        "eval(180)"
      ],
      "metadata": {
        "colab": {
          "base_uri": "https://localhost:8080/"
        },
        "id": "3ReEQRWmlcFs",
        "outputId": "935a4725-257a-419e-ef4d-cd96d88921a6"
      },
      "execution_count": null,
      "outputs": [
        {
          "output_type": "execute_result",
          "data": {
            "text/plain": [
              "[0.8462396835450192, 1612]"
            ]
          },
          "metadata": {},
          "execution_count": 45
        }
      ]
    },
    {
      "cell_type": "code",
      "source": [
        "eval(140)"
      ],
      "metadata": {
        "colab": {
          "base_uri": "https://localhost:8080/"
        },
        "id": "PPwCMq5EpyCt",
        "outputId": "dd5acc65-33e9-427f-aec1-c0f9652534b8"
      },
      "execution_count": null,
      "outputs": [
        {
          "output_type": "execute_result",
          "data": {
            "text/plain": [
              "[0.7958476772483352, 2373]"
            ]
          },
          "metadata": {},
          "execution_count": 44
        }
      ]
    },
    {
      "cell_type": "code",
      "source": [
        "plt.plot(nasd['Close'][2375:2375+147])"
      ],
      "metadata": {
        "colab": {
          "base_uri": "https://localhost:8080/",
          "height": 282
        },
        "id": "AGeuZQvVpy2y",
        "outputId": "497d3c62-116d-450e-df88-f6ffd922bac4"
      },
      "execution_count": null,
      "outputs": [
        {
          "output_type": "execute_result",
          "data": {
            "text/plain": [
              "[<matplotlib.lines.Line2D at 0x7f48d83aab90>]"
            ]
          },
          "metadata": {},
          "execution_count": 33
        },
        {
          "output_type": "display_data",
          "data": {
            "text/plain": [
              "<Figure size 432x288 with 1 Axes>"
            ],
            "image/png": "[encoded data removed]"
          },
          "metadata": {
            "needs_background": "light"
          }
        }
      ]
    },
    {
      "cell_type": "code",
      "source": [
        "plt.plot(nasd['Close'][1612:1612+180])"
      ],
      "metadata": {
        "colab": {
          "base_uri": "https://localhost:8080/",
          "height": 282
        },
        "id": "rOrL78VvsKHH",
        "outputId": "4efa5360-8bfc-4fb3-d03d-f1d93c68a2d2"
      },
      "execution_count": null,
      "outputs": [
        {
          "output_type": "execute_result",
          "data": {
            "text/plain": [
              "[<matplotlib.lines.Line2D at 0x7f48d80a00d0>]"
            ]
          },
          "metadata": {},
          "execution_count": 46
        },
        {
          "output_type": "display_data",
          "data": {
            "text/plain": [
              "<Figure size 432x288 with 1 Axes>"
            ],
            "image/png": "[encoded data removed]"
          },
          "metadata": {
            "needs_background": "light"
          }
        }
      ]
    },
    {
      "cell_type": "code",
      "source": [
        "nasd.iloc[2375]"
      ],
      "metadata": {
        "colab": {
          "base_uri": "https://localhost:8080/"
        },
        "id": "HkAkJADLqnoQ",
        "outputId": "b566e35b-bf3d-46a3-f2da-3ec40d86389a"
      },
      "execution_count": null,
      "outputs": [
        {
          "output_type": "execute_result",
          "data": {
            "text/plain": [
              "index            178\n",
              "Date      2021-06-28\n",
              "Close          3.593\n",
              "Volume      156940.0\n",
              "Open           3.525\n",
              "High           3.653\n",
              "Low            3.505\n",
              "SMA         3.696621\n",
              "EMA          3.61552\n",
              "MACD       -0.087072\n",
              "Name: 2375, dtype: object"
            ]
          },
          "metadata": {},
          "execution_count": 36
        }
      ]
    },
    {
      "cell_type": "code",
      "source": [
        "plt.plot(nasd['Close'][201:201+185])"
      ],
      "metadata": {
        "colab": {
          "base_uri": "https://localhost:8080/",
          "height": 282
        },
        "id": "MjirRPOFqBiS",
        "outputId": "8bad79b9-8d9d-473e-ba15-1e8a86fb66ea"
      },
      "execution_count": null,
      "outputs": [
        {
          "output_type": "execute_result",
          "data": {
            "text/plain": [
              "[<matplotlib.lines.Line2D at 0x7f48d8329cd0>]"
            ]
          },
          "metadata": {},
          "execution_count": 34
        },
        {
          "output_type": "display_data",
          "data": {
            "text/plain": [
              "<Figure size 432x288 with 1 Axes>"
            ],
            "image/png": "[encoded data removed]"
          },
          "metadata": {
            "needs_background": "light"
          }
        }
      ]
    },
    {
      "cell_type": "code",
      "source": [
        "nasd.iloc[201]"
      ],
      "metadata": {
        "colab": {
          "base_uri": "https://localhost:8080/"
        },
        "id": "zlvKOVsUqGDC",
        "outputId": "f0146d54-b192-416d-c2d6-e1cbcd295a49"
      },
      "execution_count": null,
      "outputs": [
        {
          "output_type": "execute_result",
          "data": {
            "text/plain": [
              "index           2352\n",
              "Date      2012-12-18\n",
              "Close          3.418\n",
              "Volume      106427.0\n",
              "Open            3.42\n",
              "High            3.45\n",
              "Low            3.336\n",
              "SMA         4.398914\n",
              "EMA         4.005192\n",
              "MACD       -0.450594\n",
              "Name: 201, dtype: object"
            ]
          },
          "metadata": {},
          "execution_count": 37
        }
      ]
    },
    {
      "cell_type": "code",
      "source": [
        ""
      ],
      "metadata": {
        "id": "hbMxAF1qq9LO"
      },
      "execution_count": null,
      "outputs": []
    }
  ]
}